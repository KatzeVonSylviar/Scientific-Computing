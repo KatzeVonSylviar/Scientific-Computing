{
 "cells": [
  {
   "cell_type": "markdown",
   "id": "cf095095",
   "metadata": {},
   "source": [
    "<center>\n",
    "    <img src=\"http://sct.inf.utfsm.cl/wp-content/uploads/2020/04/logo_di.png\" style=\"width:60%\">\n",
    "    <h1> INF-495 - Modelado Computacional Aplicado </h1>\n",
    "    <h2> Prof. Claudio Torres, Ph.D. </h2>\n",
    "    <h2> Version: 1.02</h2>\n",
    "</center>"
   ]
  },
  {
   "cell_type": "code",
   "execution_count": 1,
   "id": "a73feb7b",
   "metadata": {},
   "outputs": [],
   "source": [
    "import numpy as np\n",
    "import scipy as sp\n",
    "import scipy.linalg as linalg\n",
    "import matplotlib.pyplot as plt\n",
    "from ipywidgets import interact, interact_manual\n",
    "from scipy import optimize\n",
    "from scipy.linalg import null_space\n",
    "plt.style.use('ggplot')\n",
    "\n",
    "import matplotlib as mpl\n",
    "mpl.rcParams['font.size'] = 14\n",
    "mpl.rcParams['axes.labelsize'] = 20\n",
    "mpl.rcParams['xtick.labelsize'] = 14\n",
    "mpl.rcParams['ytick.labelsize'] = 14\n",
    "\n",
    "import sympy as sym\n",
    "sym.init_printing()"
   ]
  },
  {
   "cell_type": "markdown",
   "id": "57cd3390",
   "metadata": {},
   "source": [
    "# Section 3.2.1 Prelude: A discrete-time compartment model"
   ]
  },
  {
   "cell_type": "markdown",
   "id": "3c8255a7",
   "metadata": {},
   "source": [
    "## Example 0"
   ]
  },
  {
   "cell_type": "code",
   "execution_count": 2,
   "id": "e5700ef2",
   "metadata": {},
   "outputs": [
    {
     "data": {
      "image/png": "[encoded data removed]",
      "text/plain": [
       "<Figure size 432x288 with 1 Axes>"
      ]
     },
     "metadata": {
      "needs_background": "light"
     },
     "output_type": "display_data"
    }
   ],
   "source": [
    "# Delta_t = 1 month\n",
    "N = 48\n",
    "np.random.seed(0)\n",
    "\n",
    "# Buiding transition matrix\n",
    "betas = np.abs(np.random.random(N))*0.7\n",
    "mus = np.abs(np.random.random(N-1))*0.9\n",
    "R = np.diag(1-mus,-1)\n",
    "R[0,:] = betas\n",
    "\n",
    "plt.figure()\n",
    "plt.spy(R)\n",
    "plt.show()"
   ]
  },
  {
   "cell_type": "code",
   "execution_count": 3,
   "id": "e3e6b441",
   "metadata": {},
   "outputs": [
    {
     "data": {
      "text/plain": [
       "array([1.04698109, 0.62664669, 0.62664669, 0.61646965, 0.61646965,\n",
       "       0.52708515, 0.52708515, 0.60153185, 0.60153185, 0.49642349,\n",
       "       0.49642349, 0.46523504, 0.46523504, 0.51305685, 0.51305685,\n",
       "       0.62141177, 0.62141177, 0.52042461, 0.52042461, 0.5221308 ,\n",
       "       0.5221308 , 0.60573191, 0.60573191, 0.51882498, 0.51882498,\n",
       "       0.51678951, 0.51678951, 0.6017966 , 0.6017966 , 0.53206932,\n",
       "       0.53206932, 0.61224488, 0.61224488, 0.52322317, 0.52322317,\n",
       "       0.62581102, 0.62581102, 0.51417166, 0.51417166, 0.57298316,\n",
       "       0.57298316, 0.52744759, 0.4868062 , 0.4868062 , 0.46785103,\n",
       "       0.46785103, 0.22854736, 0.22854736])"
      ]
     },
     "execution_count": 3,
     "metadata": {},
     "output_type": "execute_result"
    }
   ],
   "source": [
    "# Computing the eigenvalues of the matrix.\n",
    "# Recall that if it has, in modulus, at least one eigenvalues larger than 1, \n",
    "# it means there will be an overpopulation.\n",
    "# On the other hand, if the modulus of all eigenvalues are less than 1, there will be extintion.\n",
    "# So, what is the sweet spot?\n",
    "out = linalg.eig(R)\n",
    "np.abs(out[0])"
   ]
  },
  {
   "cell_type": "code",
   "execution_count": 4,
   "id": "294ea0cb",
   "metadata": {},
   "outputs": [],
   "source": [
    "def fish_population_evolution(k=100,rho=0.7):\n",
    "    np.random.seed(0)\n",
    "    betas = np.abs(np.random.random(N))*rho\n",
    "    mus = np.abs(np.random.random(N-1))*0.9\n",
    "    R = np.diag(1-mus,-1)\n",
    "    R[0,:] = betas\n",
    "    \n",
    "    p0 = np.ones(N)\n",
    "    p1 = np.zeros_like(p0)\n",
    "    for i in range(k):\n",
    "        p1 = R @ p0\n",
    "        p0 = p1\n",
    "    plt.figure(figsize=(8,8))\n",
    "    \n",
    "    out = linalg.eig(R)\n",
    "    print(np.abs(out[0]))\n",
    "    \n",
    "    plt.title(r'$\\rho=$'+str(rho)+r', $\\max_i |\\lambda_i|=$'+str(np.max(np.abs(out[0]))))\n",
    "    plt.semilogy(np.arange(1,49),p1,'.',label='$p_k(t)$')\n",
    "    plt.legend(loc='best')\n",
    "    plt.xlabel('$k$')\n",
    "    plt.grid(True)\n",
    "    ax = plt.gca()\n",
    "    ax.set_xticks([1,12,24,36,48])\n",
    "    plt.show()"
   ]
  },
  {
   "cell_type": "markdown",
   "id": "10f099d1",
   "metadata": {},
   "source": [
    "# Can you find the sweet spot manually?"
   ]
  },
  {
   "cell_type": "code",
   "execution_count": 5,
   "id": "5f883ed1",
   "metadata": {},
   "outputs": [
    {
     "data": {
      "application/vnd.jupyter.widget-view+json": {
       "model_id": "d722be63864a475ba25dda5d7337e861",
       "version_major": 2,
       "version_minor": 0
      },
      "text/plain": [
       "interactive(children=(IntSlider(value=100, description='k', max=10000, min=1), FloatSlider(value=0.7, descript…"
      ]
     },
     "metadata": {},
     "output_type": "display_data"
    },
    {
     "data": {
      "text/plain": [
       "<function __main__.fish_population_evolution(k=100, rho=0.7)>"
      ]
     },
     "execution_count": 5,
     "metadata": {},
     "output_type": "execute_result"
    }
   ],
   "source": [
    "interact(fish_population_evolution, k = (1,10000,1), rho=(0,1,0.001))"
   ]
  },
  {
   "cell_type": "markdown",
   "id": "febda234",
   "metadata": {},
   "source": [
    "# Can you find the sweet spot automatically?"
   ]
  },
  {
   "cell_type": "code",
   "execution_count": 6,
   "id": "066efee2",
   "metadata": {},
   "outputs": [
    {
     "name": "stdout",
     "output_type": "stream",
     "text": [
      "[1.         0.62691154 0.62691154 0.61580272 0.61580272 0.52705791\n",
      " 0.52705791 0.60017563 0.60017563 0.49641187 0.49641187 0.46523535\n",
      " 0.46523535 0.51302236 0.51302236 0.61860507 0.61860507 0.5203977\n",
      " 0.5203977  0.52210806 0.52210806 0.6034261  0.6034261  0.51877376\n",
      " 0.51877376 0.51681592 0.51681592 0.59974021 0.59974021 0.53193462\n",
      " 0.53193462 0.60951865 0.60951865 0.52309702 0.52309702 0.62243917\n",
      " 0.62243917 0.5141885  0.5141885  0.57138327 0.57138327 0.5271306\n",
      " 0.48680426 0.48680426 0.46785384 0.46785384 0.22854736 0.22854736]\n"
     ]
    },
    {
     "data": {
      "image/png": "[encoded data removed]",
      "text/plain": [
       "<Figure size 576x576 with 1 Axes>"
      ]
     },
     "metadata": {
      "needs_background": "light"
     },
     "output_type": "display_data"
    }
   ],
   "source": [
    "def fish_population_evolution_sweet_spot(rho): \n",
    "    np.random.seed(0)\n",
    "    betas = np.abs(np.random.random(N))*rho\n",
    "    mus = np.abs(np.random.random(N-1))*0.9\n",
    "    R = np.diag(1-mus,-1)\n",
    "    R[0,:] = betas\n",
    "    out = linalg.eig(R)\n",
    "    return 1-np.max(np.abs(out[0]))\n",
    "\n",
    "# Finding the root\n",
    "root = optimize.newton(fish_population_evolution_sweet_spot, 0.7)\n",
    "# Plotting the outcome of 10000 iterations with the root found.\n",
    "fish_population_evolution(k=10000,rho=root)"
   ]
  },
  {
   "cell_type": "markdown",
   "id": "0097df06",
   "metadata": {},
   "source": [
    "## Example 1\n",
    "Just plotting $\\beta_k$ and $m_k$."
   ]
  },
  {
   "cell_type": "code",
   "execution_count": 7,
   "id": "a567bc60",
   "metadata": {},
   "outputs": [
    {
     "data": {
      "text/plain": [
       "<Figure size 360x720 with 0 Axes>"
      ]
     },
     "metadata": {},
     "output_type": "display_data"
    },
    {
     "data": {
      "image/png": "[encoded data removed]",
      "text/plain": [
       "<Figure size 1080x360 with 2 Axes>"
      ]
     },
     "metadata": {
      "needs_background": "light"
     },
     "output_type": "display_data"
    }
   ],
   "source": [
    "# Delta 1 = 1 month\n",
    "N = 48\n",
    "k0 = 7\n",
    "C = 0.2\n",
    "\n",
    "# Birth rate\n",
    "k = np.arange(1,N+1)\n",
    "betas = C*(k/k0)**2*np.exp(2*(1-k/k0))\n",
    "\n",
    "# Natural death\n",
    "m0 = 0.01\n",
    "kd = 15\n",
    "M = 0.1\n",
    "mk = m0+(M-m0)*k[:-1]/(k[:-1]+kd)\n",
    "\n",
    "plt.figure(figsize=(5,10))\n",
    "f, (ax1, ax2) = plt.subplots(1, 2, figsize=(15,5), sharey = False)\n",
    "\n",
    "ax1.plot(k, betas, marker='o', linestyle='--', color='b',label=r'$\\beta_k$: Birth rate')\n",
    "ax1.set_xlabel('$k$')\n",
    "ax1.set_xticks([1,12,24,36,48])\n",
    "ax1.grid(True)\n",
    "ax1.legend(loc='best')\n",
    "\n",
    "ax2.plot(k[:-1], mk, marker='o', linestyle='--', color='b',label=r'$m_k$: Natural death rate')\n",
    "ax2.set_xlabel('$k$')\n",
    "ax2.set_xticks([1,12,24,36,48])\n",
    "ax2.grid(True)\n",
    "ax2.legend(loc='best')\n",
    "\n",
    "plt.show()"
   ]
  },
  {
   "cell_type": "markdown",
   "id": "a027043d",
   "metadata": {},
   "source": [
    "### Algorithm"
   ]
  },
  {
   "cell_type": "code",
   "execution_count": 8,
   "id": "814594d7",
   "metadata": {
    "scrolled": false
   },
   "outputs": [
    {
     "data": {
      "application/vnd.jupyter.widget-view+json": {
       "model_id": "3f72c0693e9a468bac914aa5ff1789c3",
       "version_major": 2,
       "version_minor": 0
      },
      "text/plain": [
       "interactive(children=(IntSlider(value=1000, description='J', max=10000, min=1), FloatSlider(value=0.3, descrip…"
      ]
     },
     "metadata": {},
     "output_type": "display_data"
    },
    {
     "data": {
      "text/plain": [
       "<function __main__.example1(J=1000, Phi=0.3, Pstar=5000)>"
      ]
     },
     "execution_count": 8,
     "metadata": {},
     "output_type": "execute_result"
    }
   ],
   "source": [
    "# Delta 1 = 1 month\n",
    "N = 48\n",
    "k0 = 10\n",
    "C = 0.2\n",
    "\n",
    "# Birth rate\n",
    "k = np.arange(1,N+1)\n",
    "betas = C*(k/k0)**2*np.exp(2*(1-k/k0))\n",
    "\n",
    "# Natural death\n",
    "m0 = 0.01\n",
    "kd = 15\n",
    "M = 0.1\n",
    "mk = m0+(M-m0)*k[:-1]/(k[:-1]+kd)\n",
    "\n",
    "def example1(J=1000, Phi = 0.3, Pstar = 5000):\n",
    "    np.random.seed(0)\n",
    "    # 1. Initialization\n",
    "    p0 = np.zeros(N)\n",
    "    p0[0] = 2000\n",
    "    p1 = np.copy(p0)\n",
    "\n",
    "    for j in np.arange(J):\n",
    "\n",
    "        # 2. Compute Pk and update mu\n",
    "        Pk = np.zeros(N-1)\n",
    "        for i in range(N-1):\n",
    "            Pk[i] = np.sum(p0[i+1:])\n",
    "        nk = Phi*Pk/(Pk+Pstar)\n",
    "        mus = mk+nk\n",
    "        # Debugging\n",
    "        if np.any(mus>1):\n",
    "            print('j:',j)\n",
    "            print('mk:',mk)\n",
    "            print('nk:',nk)\n",
    "            print('mus:',mus)\n",
    "\n",
    "        # 3. Update matrix R\n",
    "        R = np.diag(1-mus,-1)\n",
    "        R[0,:] = betas\n",
    "\n",
    "        # 4. Propagate distribution\n",
    "        p1 = R @ p0\n",
    "\n",
    "        # 5. Repeat\n",
    "        p0 = np.copy(p1)\n",
    "    \n",
    "    plt.figure(figsize=(10,10))\n",
    "    f, ((ax1, ax2), (ax3, ax4)) = plt.subplots(2, 2, figsize=(15,5), sharey = False, sharex = True)\n",
    "    \n",
    "    ax1.plot(k, betas, marker='o', linestyle='--', color='b',label=r'$\\beta_k$: Birth rate')\n",
    "    #ax1.set_xlabel('$k$')\n",
    "    #ax1.set_xticks([1,12,24,36,48])\n",
    "    ax1.grid(True)\n",
    "    ax1.legend(loc='best')\n",
    "\n",
    "    ax2.plot(k[:-1], mk, marker='o', linestyle='--', color='b',label=r'$m_k$: Natural death rate')\n",
    "    ax2.plot(k[:-1], nk, marker='o', linestyle='--', color='r',label=r'$n_k$: Death by cannibalism')\n",
    "    #ax2.set_xlabel('$k$')\n",
    "    #ax2.set_xticks([1,12,24,36,48])\n",
    "    ax2.grid(True)\n",
    "    ax2.legend(loc='best',fontsize=10)\n",
    "\n",
    "    ax3.plot(k, p1, marker='o', linestyle='--', color='b',label=r'$p_k$: Population')\n",
    "    ax3.set_xlabel('$k$')\n",
    "    ax3.set_xticks([1,12,24,36,48])\n",
    "    ax3.grid(True)\n",
    "    ax3.legend(loc='best')\n",
    "\n",
    "    ax4.plot(k[:-1], mus, marker='o', linestyle='--', color='b',label=r'$\\mu_k$: Total death rate')\n",
    "    ax4.set_xlabel('$k$')\n",
    "    ax4.set_xticks([1,12,24,36,48])\n",
    "    ax4.grid(True)\n",
    "    ax4.legend(loc='best')\n",
    "\n",
    "    plt.show()\n",
    "\n",
    "interact(example1,J=(1,10000,1), Phi = (0,1,0.001), Pstar = (0,10000,1))"
   ]
  },
  {
   "cell_type": "code",
   "execution_count": 9,
   "id": "77ea64fe",
   "metadata": {},
   "outputs": [],
   "source": [
    "Q = np.zeros((3,6))\n",
    "Q[0,:] =[0, -3, 1, 0, -2, 1] \n",
    "Q[1,:] =[-1,0,-1,-2,0,0] \n",
    "Q[2,:] =[0,1,0,1,1,0]"
   ]
  },
  {
   "cell_type": "code",
   "execution_count": null,
   "metadata": {},
   "outputs": [],
   "source": []
  }
 ],
 "metadata": {
  "interpreter": {
   "hash": "e86f0528a1b45e531703c752e90d2c936b2dda6dac6764f4cd4f9141650544b5"
  },
  "kernelspec": {
   "display_name": "Python 3.8.8 64-bit ('base': conda)",
   "name": "python3"
  },
  "language_info": {
   "codemirror_mode": {
    "name": "ipython",
    "version": 3
   },
   "file_extension": ".py",
   "mimetype": "text/x-python",
   "name": "python",
   "nbconvert_exporter": "python",
   "pygments_lexer": "ipython3",
   "version": "3.10.9"
  }
 },
 "nbformat": 4,
 "nbformat_minor": 5
}
