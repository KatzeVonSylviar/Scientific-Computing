{
 "cells": [
  {
   "cell_type": "markdown",
   "id": "b1fc8942",
   "metadata": {},
   "source": [
    "<center>\n",
    "    <img src=\"http://sct.inf.utfsm.cl/wp-content/uploads/2020/04/logo_di.png\" style=\"width:60%\">\n",
    "    <h1> INF285 - Computación Científica </h1>\n",
    "    <h2> BVP linear and nonlinear with Finite Difference and the Shooting Method</h2>\n",
    "    <h2> <a href=\"#acknowledgements\"> [S]cientific [C]omputing [T]eam </a> </h2>\n",
    "    <h2> Version: 1.01</h2>\n",
    "</center>"
   ]
  },
  {
   "cell_type": "markdown",
   "id": "ba3c36a3",
   "metadata": {},
   "source": [
    "<div id='toc' />\n",
    "\n",
    "## Table of Contents\n",
    "* [Example 1](#example1)\n",
    "* [Example 2](#example2)\n",
    "* [Example 3 and its solution](#example3s)\n",
    "* [Solution Example 1](#example1s)\n",
    "* [Solution Example 2](#example2s)\n",
    "* [Acknowledgements](#acknowledgements)"
   ]
  },
  {
   "cell_type": "markdown",
   "id": "1755199c",
   "metadata": {},
   "source": [
    "# No debe utilizar bibliotecas adicionales."
   ]
  },
  {
   "cell_type": "code",
   "execution_count": 14,
   "id": "c1f60ca9",
   "metadata": {},
   "outputs": [],
   "source": [
    "import numpy as np\n",
    "import scipy as sp\n",
    "# To solve IVP, notice this is different that odeint!\n",
    "from scipy.integrate import solve_ivp\n",
    "# To integrate use one of the followings:\n",
    "from scipy.integrate import quad, quadrature, trapezoid, simpson\n",
    "# For least-square problems\n",
    "from scipy.sparse.linalg import lsqr\n",
    "from scipy.linalg import qr\n",
    "# For interpolation\n",
    "from scipy.interpolate import BarycentricInterpolator\n",
    "# The wonderful GMRes\n",
    "from scipy.sparse.linalg import gmres\n",
    "# The wonderful**2 Newton method coupled to GMRes by a matrix-free call!\n",
    "from scipy.optimize import newton_krylov\n",
    "from scipy.optimize import root\n",
    "from scipy.linalg import toeplitz\n",
    "import matplotlib.pyplot as plt\n",
    "from ipywidgets import interact\n",
    "from colorama import Fore, Back, Style\n",
    "# https://pypi.org/project/colorama/\n",
    "# Fore: BLACK, RED, GREEN, YELLOW, BLUE, MAGENTA, CYAN, WHITE, RESET.\n",
    "# Back: BLACK, RED, GREEN, YELLOW, BLUE, MAGENTA, CYAN, WHITE, RESET.\n",
    "# Style: DIM, NORMAL, BRIGHT, RESET_ALL\n",
    "textBold = lambda x: Style.BRIGHT+x+Style.RESET_ALL\n",
    "textBoldH = lambda x: Style.BRIGHT+Back.YELLOW+x+Style.RESET_ALL"
   ]
  },
  {
   "cell_type": "markdown",
   "id": "b4c313c0",
   "metadata": {},
   "source": [
    "# Warning:\n",
    "The following numerical solutions give the 'core' to produce the required answers for the questions presented, you should still work on how to put the components together to generate the particular answers requested."
   ]
  },
  {
   "cell_type": "markdown",
   "id": "90bc2e11",
   "metadata": {},
   "source": [
    "<div id='example1' />\n",
    "\n",
    "# Example 1\n",
    "[Back to toc](#toc)"
   ]
  },
  {
   "cell_type": "markdown",
   "id": "aa66b46b",
   "metadata": {},
   "source": [
    "Considere el siguiente BVP:\n",
    "\\begin{align*}\n",
    "    a\\,y''(x)+b(x)\\,y'(x)+c(x)\\,y(x) & = f(x), \\quad \\text{para $x\\in]0,1[$}\\\\\n",
    "    a\\,(y(0) - y_0)& = 0,\\\\\n",
    "    y(1)    & = y_1,\n",
    "\\end{align*}\n",
    "donde $a\\in\\mathbb{R}$, $b(x)>0$, y $x\\in[0,1]$\n",
    "1. Construya un _solver_ para el problema anterior considerando **todos** los posibles casos utilizando diferencias finitas.\n",
    "\n",
    "2. Construya un _solver_ para el problema anterior considerando **todos** los posibles casos utilizando el método del disparo.\n",
    "\n",
    "_Hint: Does you solvers really consider all the cases? Even when $a=0$?_\n",
    "\n",
    "3. Obtenga con cada _solver_: $\\int_0^1 y(x)\\,dx$, $\\int_0^1 y'(x)\\,dx$, y $\\int_0^1 y''(x)\\,dx$ usando los siguientes algoritmos:\n",
    "    1. Trapecio\n",
    "    2. Punto Medio\n",
    "    3. Simpson\n",
    "    4. Cuadratura Gaussiana\n",
    "    5. _Algebraicamente_\n",
    "\n",
    "_Hint2: Take a look to the additional parameters requiered in the definitions of the functions below._"
   ]
  },
  {
   "cell_type": "code",
   "execution_count": 15,
   "id": "2cc40c7c",
   "metadata": {},
   "outputs": [],
   "source": [
    "'''\n",
    "input:\n",
    "a         : (double) coeficiente 'a'\n",
    "b         : (callable) función b(x)>0\n",
    "c         : (callable) función c(x)\n",
    "f         : (callable) función f(x)\n",
    "y0        : (double) y_0\n",
    "y1        : (double) y_1\n",
    "N         : (integer) número de puntos en la discretización espacial de x\n",
    "\n",
    "output:\n",
    "xi        : (ndarray) discretización equiespaciada de N puntos x\n",
    "yi        : (ndarray) aproximación numérica de y(x) en los puntos xi\n",
    "'''\n",
    "def find_y_FD(a, b, c, f, y0, y1, N):\n",
    "    # Your own code.\n",
    "    return xi, yi\n",
    "\n",
    "'''\n",
    "input:\n",
    "a         : (double) coeficiente 'a'\n",
    "b         : (callable) función b(x)>0\n",
    "c         : (callable) función c(x)\n",
    "f         : (callable) función f(x)\n",
    "y0        : (double) y_0\n",
    "y1        : (double) y_1\n",
    "N         : (integer) número de puntos en la discretización espacial de x\n",
    "\n",
    "output:\n",
    "xi        : (ndarray) discretización equiespaciada de N puntos x\n",
    "yi        : (ndarray) aproximación numérica de y(x) en los puntos xi\n",
    "'''\n",
    "def find_y_SM(a, b, c, f, y0, y1, N):\n",
    "    # Your own code.\n",
    "    return xi, yi"
   ]
  },
  {
   "cell_type": "markdown",
   "id": "ceb8a60d",
   "metadata": {},
   "source": [
    "<div id='example2' />\n",
    "\n",
    "# Example 2\n",
    "[Back to toc](#toc)"
   ]
  },
  {
   "cell_type": "markdown",
   "id": "8546a0f7",
   "metadata": {},
   "source": [
    "Considere el siguiente BVP:\n",
    "\\begin{align*}\n",
    "    y''(x)+3\\,\\exp(y(x)) & = 0, \\quad \\text{para $x \\in]0,1[$}\\\\\n",
    "    y(0) &= 0,\\\\\n",
    "    y(1) &= 0,\\\\\n",
    "\\end{align*}\n",
    "donde $x\\in[0,1]$. Note que $y(x)=0$ no es una solución.\n",
    "1. Construya un algoritmo basado en diferencias finitas que obtenga la aproximación numérica $y(x)$ considerando como _initial guess_ $y_0(x)$. Utilice el método de Newton con GMRes para resolver el sistema de ecuaciones no-lineales asociado o el módulo _newton_krylov_ de _scipy_, en este último caso no es necesario implementar build_jacobian_matrix_FD.\n",
    "2. Construya un algoritmo basado en el método del disparo que obtenga la aproximación numérica $y(x)$ considerando como _initial guess_ $y_0(x)$.\n",
    "3. Resuelva con el algoritmo basado en diferencias finitas el BVP con $y_0(x)=0$ con N=20.\n",
    "4. Resuelva con el algoritmo basado en el método del disparo el BVP con $y_0(x)=0$ con N=20.\n",
    "5. ¿Obtiene aproximadamente la misma aproximación numérica en la pregunta 3 y 4?\n",
    "6. Considere la siguiente familia de _initial guesses_ $y_0^{[m]}(x)=m\\,(x-x^2)$, para $m\\in\\{-10,-9,\\dots,10\\}$ y N=20.\n",
    "    1. Resuelva con el algoritmo basado en diferencias finitas el BVP con cada $y_0^{[m]}(x)$.\n",
    "    2. Resuelva con el algoritmo basado en el método del disparo el BVP con cada $y_0^{[m]}(x)$.\n",
    "    3. ¿Se obtinen las mismas soluciones en cada caso?\n",
    "    4. ¿Cuantas soluciones distintas se obtienen?\n",
    "    \n",
    "_Hint: Take a look to the additional parameters requiered in the definitions of the functions below._"
   ]
  },
  {
   "cell_type": "code",
   "execution_count": 16,
   "id": "cac55d00",
   "metadata": {},
   "outputs": [],
   "source": [
    "'''\n",
    "input:\n",
    "yi        : (ndarray) vector donde se evalua la matrix Jacobiana\n",
    "v         : (ndarray) vector que será multiplicado por la matriz Jacobiana\n",
    "\n",
    "output:\n",
    "Jv        : (ndarray) matrix Jacobiana evaluada en yi y multiplicada por v, es decir np.dot(J,v).\n",
    "                    Esto es muy útil para acoplarlo con GMRes.\n",
    "'''\n",
    "def build_jacobian_matrix_FD(yj):\n",
    "    # Your own code.\n",
    "    return Jv\n",
    "\n",
    "'''\n",
    "input:\n",
    "y0        : (callable) initial guess y0(x)\n",
    "N         : (integer) número de puntos en la discretización espacial de x\n",
    "\n",
    "output:\n",
    "xi        : (ndarray) discretización equiespaciada de N puntos x\n",
    "yi        : (ndarray) aproximación numérica de y(x) en los puntos xi\n",
    "'''\n",
    "def solve_nonlinear_ode_FD(y0, N):\n",
    "    # Your own code.\n",
    "    return xi, yi\n",
    "\n",
    "'''\n",
    "input:\n",
    "y0        : (callable) initial guess y0(x)\n",
    "N         : (integer) número de puntos en la discretización espacial de x\n",
    "\n",
    "output:\n",
    "xi        : (ndarray) discretización equiespaciada de N puntos x\n",
    "yi        : (ndarray) aproximación numérica de y(x) en los puntos xi\n",
    "'''\n",
    "def solve_nonlinear_ode_SM(y0, N):\n",
    "    # Your own code.\n",
    "    return xi, yi"
   ]
  },
  {
   "cell_type": "markdown",
   "id": "c016065e",
   "metadata": {},
   "source": [
    "<div id='example3s' />\n",
    "\n",
    "# Example 3\n",
    "[Back to toc](#toc)"
   ]
  },
  {
   "cell_type": "markdown",
   "id": "e4594cd7",
   "metadata": {},
   "source": [
    "Considere que tiene la siguiente colección de datos:\n",
    "\\begin{align*}\n",
    "    \\{(t_1, y_1),(t_2,y_2),\\dots,(t_n,y_n)\\},\n",
    "\\end{align*}\n",
    "donde sabemos que $0 \\leq t_i \\leq 100$ para $i\\in\\{1,2,\\dots,n\\}$.\n",
    "Una aproximación tradicional de mínimos cuadrados requeriría proponer una función $y(t)$, por ejemplo lineal $a+b\\,t$, para minimizar el error cuadrático, $E=\\sum_{i=1}^n \\left(y(t_i)-y_i\\right)^2$.\n",
    "Esto nos entregaría los coeficientes de la estructura propuesta para $y(t)$.\n",
    "La mayor desventaja de este procedimiento es que tenemos que conocer _a priori_ la estructura algebraica de $y(t)$.\n",
    "Una alternativa sería construir numéricamente una aproximación de $y(t)$, por ejemplo reemplazando la minimización por un problema de valor inicial, para lo cual se propone el siguiente IVP,\n",
    "\\begin{align*}\n",
    "    \\dot{y}(t) &= \\gamma\\,\\tanh\\left(\\dfrac{\\displaystyle\\sum_{t_i\\in[t-T,t]} (y_i-y(t))}{\\gamma}\\right),\\\\\n",
    "    y(0)       &= y_1,\n",
    "\\end{align*}\n",
    "donde $\\gamma=1$.\n",
    "1. Implemente el solver. \n",
    "2. ¿Se suaviza la data?\n",
    "3. ¿Cómo depende la aproximación en función de $T$?\n",
    "4. ¿Cómo depende la aproximación en función de $\\gamma$?\n",
    "\n",
    "Nota: Si el conjunto $t_i\\in[t-T,t]$ es vacio, entonces el lado derecho de $\\dot{y}(t)$ se considera que es $0$."
   ]
  },
  {
   "cell_type": "code",
   "execution_count": 17,
   "id": "eb2006f1",
   "metadata": {},
   "outputs": [],
   "source": [
    "'''\n",
    "input:\n",
    "N         : (integer) número de puntos en la discretización espacial del intervalo [0,100]\n",
    "Tw        : (double)  ventana deslizante utilizada en la sumatoria [t-Tw,t]\n",
    "gamma     : (double)  coeficiente usado en conjunto con tanh\n",
    "Ti        : (double) tiempo inicial de simulación\n",
    "Tf        : (double) tiempo final de simulación\n",
    "ti        : (ndarray) ti data de entrada\n",
    "yi        : (ndarray) yi data de entrada\n",
    "\n",
    "output:\n",
    "t_out        : (ndarray) discretización equiespaciada de N puntos t\n",
    "y_out        : (ndarray) aproximación numérica de y(t) en los puntos ti\n",
    "'''\n",
    "def solve_almost_LS_IVP(N,Tw,gamma,Ti,Tf,ti,yi):\n",
    "    # Your own code.\n",
    "    return t_out, y_out\n",
    "\n",
    "# Consider the following data\n",
    "np.random.seed(0)\n",
    "Ndata    = 1000\n",
    "ti       = np.linspace(0,100,Ndata)\n",
    "yi       = 0.2*np.cos(2*ti)+np.sin(0.1*ti)+0.1*np.random.rand(Ndata)"
   ]
  },
  {
   "cell_type": "code",
   "execution_count": 18,
   "id": "0bdc5132",
   "metadata": {
    "scrolled": false
   },
   "outputs": [
    {
     "name": "stdout",
     "output_type": "stream",
     "text": [
      "\u001b[1mSuggestion: \u001b[0m \u001b[1m\u001b[43mEvaluate the approximation using small values of 'Tw' and 'gamma'.\u001b[0m\n"
     ]
    },
    {
     "data": {
      "application/vnd.jupyter.widget-view+json": {
       "model_id": "cadad36733e0454b99878648ebf9c735",
       "version_major": 2,
       "version_minor": 0
      },
      "text/plain": [
       "interactive(children=(FloatSlider(value=3.0, description='Tw', min=0.1), FloatSlider(value=1.0, description='g…"
      ]
     },
     "metadata": {},
     "output_type": "display_data"
    },
    {
     "data": {
      "text/plain": [
       "<function __main__.show_output_LS_IVP(Tw=3, gamma=1)>"
      ]
     },
     "execution_count": 18,
     "metadata": {},
     "output_type": "execute_result"
    }
   ],
   "source": [
    "'''\n",
    "input:\n",
    "N         : (integer) número de puntos en la discretización espacial del intervalo [0,100]\n",
    "Tw        : (double)  ventana deslizante utilizada en la sumatoria [t-Tw,t]\n",
    "gamma     : (double)  coeficiente usado en conjunto con tanh\n",
    "Ti        : (double) tiempo inicial de simulación\n",
    "Tf        : (double) tiempo final de simulación\n",
    "ti        : (ndarray) ti data de entrada\n",
    "yi        : (ndarray) yi data de entrada\n",
    "\n",
    "output:\n",
    "t_out        : (ndarray) discretización equiespaciada de N puntos t\n",
    "y_out        : (ndarray) aproximación numérica de y(t) en los puntos ti\n",
    "'''\n",
    "def solve_almost_LS_IVP(N,Tw,gamma,Ti,Tf,ti,yi):\n",
    "    def my_f(t,y):\n",
    "        ysample = yi[np.logical_and((t-Tw)<ti,ti<t)]\n",
    "        if len(ysample)>=1:\n",
    "            return gamma*np.tanh((np.sum(ysample)-len(ysample)*y)/gamma)\n",
    "        else:\n",
    "            return 0\n",
    "    sol = solve_ivp(my_f,(Ti,Tf),(yi[0],),t_eval=np.linspace(Ti,Tf,N))\n",
    "    t_out = sol.t\n",
    "    y_out = sol.y[0]\n",
    "    return t_out, y_out\n",
    "\n",
    "def show_output_LS_IVP(Tw=3,gamma=1):\n",
    "    N        = 10000\n",
    "    Ti       = 0\n",
    "    Tf       = 120\n",
    "    t_out, y_out = solve_almost_LS_IVP(N,Tw,gamma,Ti,Tf,ti,yi)\n",
    "\n",
    "    plt.figure(figsize=(16,8))\n",
    "    plt.plot(ti,yi,'.',label=r'$y_i$')\n",
    "    plt.plot(t_out,y_out,'r-', label=r'$y(t)$')\n",
    "    plt.xlabel('t')\n",
    "    plt.grid(True)\n",
    "    plt.legend(loc='best')\n",
    "    plt.show()\n",
    "    \n",
    "print(textBold(\"Suggestion: \"),textBoldH(\"Evaluate the approximation using small values of 'Tw' and 'gamma'.\"))\n",
    "interact(show_output_LS_IVP,Tw=(0.1,100,0.1), gamma=(0.01,10,0.01))"
   ]
  },
  {
   "cell_type": "markdown",
   "id": "9061f9d5",
   "metadata": {},
   "source": [
    "<div id='example1s' />\n",
    "\n",
    "# Solution Example 1\n",
    "[Back to toc](#toc)"
   ]
  },
  {
   "cell_type": "markdown",
   "id": "4dd0696b",
   "metadata": {},
   "source": [
    "Considere el siguiente BVP:\n",
    "\\begin{align*}\n",
    "    a\\,y''(x)+b(x)\\,y'(x)+c(x)\\,y(x) & = f(x), \\quad \\text{para $x\\in]0,1[$}\\\\\n",
    "    a\\,(y(0) - y_0)& = 0,\\\\\n",
    "    y(1)    & = y_1,\n",
    "\\end{align*}\n",
    "donde $a\\in\\mathbb{R}$, $b(x)>0$, y $x\\in[0,1]$"
   ]
  },
  {
   "cell_type": "markdown",
   "id": "0ed47f37",
   "metadata": {},
   "source": [
    "## Caso $a\\neq0$"
   ]
  },
  {
   "cell_type": "markdown",
   "id": "672afbf1",
   "metadata": {},
   "source": [
    "### FD:\n",
    "\n",
    "Considere el siguiente BVP:\n",
    "\\begin{align*}\n",
    "    a\\,y''(x)+b(x)\\,y'(x)+c(x)\\,y(x) & = f(x), \\quad \\text{para $x\\in]0,1[$}\\\\\n",
    "    a\\,(y(0) - y_0)& = 0,\\\\\n",
    "    y(1)    & = y_1,\n",
    "\\end{align*}\n",
    "donde $a\\in\\mathbb{R}$, $b(x)>0$, y $x\\in[0,1]$\n",
    "\n",
    "Answer: Consider that $x_i = \\frac{i}{N-1}$ for $i\\,\\{0,1,\\dots,N-1\\}$, and $y(x_i) \\approx w_i$, where we know that $w_{0}=y_0$ and $w_{N-1}=y_1$.\n",
    "For simplicity we will consider $\\mathbf{w}=[w_1,w_2,\\dots,w_{N-2}]$.\n",
    "The finite diference discretizations that we will use are the followings:\n",
    "\\begin{align*}\n",
    "    y''(x_i) &\\approx \\dfrac{w_{i+1}-2\\,w_i+w_{i-1}}{h^2},\\\\\n",
    "    y'(x_i)  &\\approx \\dfrac{w_{i+1}-w_{i-1}}{2\\,h}.\n",
    "\\end{align*}\n",
    "Thus, the discrete version of the ode at $x_i$ will be the following:\n",
    "\\begin{align*}\n",
    "    a\\,y''(x_i)      &\\approx a\\,\\dfrac{w_{i+1}-2\\,w_i+w_{i-1}}{h^2},\\\\\n",
    "    b(x_i)\\,y'(x_i)  &\\approx b(x_i)\\,\\dfrac{w_{i+1}-w_{i-1}}{2\\,h},\\\\\n",
    "    c(x_i)\\,y(x_i)   &\\approx c(x_i)\\,w_i,\\\\\n",
    "    f(x_i)           &\\approx f(x_i).\n",
    "\\end{align*}\n",
    "By using the unknowns vector $\\mathbf{w}$ and the know vector $\\mathbf{x}=[x_1,x_2,\\dots,x_{N-2}]$ we can define the following matrices:\n",
    "\\begin{align*}\n",
    "    D_2 &= \n",
    "    \\begin{bmatrix}\n",
    "        -2 &  1 & 0 & 0 & 0 & 0 & 0 \\\\\n",
    "         1 & -2 & 1 & 0 & 0 & 0 & 0 \\\\\n",
    "         0 &  1 & -2 & 1 & 0 & 0 & 0 \\\\\n",
    "         \\vdots & \\ddots & \\ddots & \\ddots & \\ddots & \\ddots & \\ddots \\\\\n",
    "         0 &  0 & 0 & 0 & 1 & -2 & 1 \\\\\n",
    "         0 &  0 & 0 & 0 & 0 & 1 & -2 \\\\\n",
    "    \\end{bmatrix},\\\\\n",
    "    D  &= \n",
    "    \\begin{bmatrix}\n",
    "         0 & 1 & 0 & 0 & 0 & 0 & 0 \\\\\n",
    "         -1 & 0 & 1 & 0 & 0 & 0 & 0 \\\\\n",
    "         0 &  -1 & 0 & 1 & 0 & 0 & 0 \\\\\n",
    "         \\vdots & \\ddots & \\ddots & \\ddots & \\ddots & \\ddots & \\ddots \\\\\n",
    "         0 &  0 & 0 & 0 & -1 & 0 & 1 \\\\\n",
    "         0 &  0 & 0 & 0 & 0 & -1 & 0 \\\\\n",
    "    \\end{bmatrix}.\\\\\n",
    "\\end{align*}"
   ]
  },
  {
   "cell_type": "code",
   "execution_count": 19,
   "id": "1e8d1476",
   "metadata": {},
   "outputs": [
    {
     "name": "stdout",
     "output_type": "stream",
     "text": [
      "D: \n",
      " [[ 0.  1.  0.  0.  0.]\n",
      " [-1.  0.  1.  0.  0.]\n",
      " [ 0. -1.  0.  1.  0.]\n",
      " [ 0.  0. -1.  0.  1.]\n",
      " [ 0.  0.  0. -1.  0.]]\n",
      "D2: \n",
      " [[-2.  1.  0.  0.  0.]\n",
      " [ 1. -2.  1.  0.  0.]\n",
      " [ 0.  1. -2.  1.  0.]\n",
      " [ 0.  0.  1. -2.  1.]\n",
      " [ 0.  0.  0.  1. -2.]]\n"
     ]
    }
   ],
   "source": [
    "# This function builds the h-less differentiation matrices for\n",
    "# the approximation of the first and second derivatives.\n",
    "# h-less means that it still needs to add the corresponding\n",
    "# h coefficient in the approximation.\n",
    "def build_D_D2(M):\n",
    "    # First derivative - Central difference differentiation matrix\n",
    "    D  = toeplitz(np.append(np.array([0, -1.]), np.zeros(M-2)), \n",
    "                     np.append(np.array([0, 1.]), np.zeros(M-2)))\n",
    "    # Second derivative - differentiation matrix\n",
    "    D2 = toeplitz(np.append(np.array([-2, 1.]), np.zeros(M-2)))\n",
    "    return D, D2\n",
    "D , D2 = build_D_D2(5)\n",
    "print('D: \\n', D)\n",
    "print('D2: \\n', D2)"
   ]
  },
  {
   "cell_type": "markdown",
   "id": "45ba4560",
   "metadata": {},
   "source": [
    "The discrete equation at $x_i$ is the following:\n",
    "\\begin{equation*}\n",
    "    \\dfrac{a}{h^2} \\left(w_{i+1}-2\\,w_i+w_{i-1}\\right)\n",
    "    +\n",
    "    \\dfrac{b(x_i)}{2\\,h} \\left(w_{i+1}-w_{i-1}\\right)\n",
    "    +\n",
    "    c(x_i)\\,w_i\n",
    "    =\n",
    "    f(x_i).\n",
    "\\end{equation*}\n",
    "There are two special cases, for $x_1$ and $x_{N-2}$, they generate the following equations:\n",
    "\\begin{align*}\n",
    "    \\dfrac{a}{h^2} \\left(w_{2}-2\\,w_1+w_0\\right)\n",
    "    +\n",
    "    \\dfrac{b(x_1)}{2\\,h} \\left(w_{2}-w_{0}\\right)\n",
    "    +\n",
    "    c(x_1)\\,w_1\n",
    "    &=\n",
    "    f(x_1),\\\\\n",
    "    \\dfrac{a}{h^2} \\left(w_{N-1}-2\\,w_{N-2}+w_{N-3}\\right)\n",
    "    +\n",
    "    \\dfrac{b(x_{N-2})}{2\\,h} \\left(w_{N-1}-w_{N-3}\\right)\n",
    "    +\n",
    "    c(x_{N-2})\\,w_{N-2}\n",
    "    &=\n",
    "    f(x_{N-2}).\n",
    "\\end{align*}\n",
    "But, since we know $w_0$ and $w_{N-1}$, they become,\n",
    "\\begin{align*}\n",
    "    \\dfrac{a}{h^2} \\left(w_{2}-2\\,w_1\\right)\n",
    "    +\n",
    "    \\dfrac{b(x_1)}{2\\,h} w_{2}\n",
    "    +\n",
    "    c(x_1)\\,w_1\n",
    "    &=\n",
    "    f(x_1)-\\dfrac{a}{h^2} w_0+\\dfrac{b(x_1)}{2\\,h}\\,w_0,\\\\\n",
    "    \\dfrac{a}{h^2} \\left(-2\\,w_{N-2}+w_{N-3}\\right)\n",
    "    +\n",
    "    \\dfrac{b(x_{N-2})}{2\\,h} \\left(-w_{N-3}\\right)\n",
    "    +\n",
    "    c(x_{N-2})\\,w_{N-2}\n",
    "    &=\n",
    "    f(x_{N-2})-\\dfrac{a}{h^2}\\,w_{N-1}-\\dfrac{b(x_{N-2})}{2\\,h}\\,w_{N-1}.\n",
    "\\end{align*}\n",
    "This analysis allows us to write the discrete equation in the following way for the unknown vector $\\mathbf{w}=[w_1,w_2,\\dots,w_{N-2}]$ and $\\mathbf{x}=[x_1,x_2,\\dots,x_{N-2}]$:\n",
    "\\begin{equation*}\n",
    "    \\dfrac{a}{h^2}\\,D_2\\,\\mathbf{w}\n",
    "    +\n",
    "    \\dfrac{1}{2\\,h}\\,\\text{diag}(b(\\mathbf{x}))\\,D\\,\\mathbf{w}\n",
    "    +\n",
    "    \\text{diag}(c(\\mathbf{x}))\\,\\mathbf{w}\n",
    "    =\n",
    "    \\begin{bmatrix}\n",
    "        f(x_1)-\\dfrac{a}{h^2} w_0+\\dfrac{b(x_1)}{2\\,h}\\,w_0\\\\\n",
    "        f(x_2)\\\\\n",
    "        \\vdots\\\\\n",
    "        f(x_{N-3})\\\\\n",
    "        f(x_{N-2})-\\dfrac{a}{h^2}\\,w_{N-1}-\\dfrac{b(x_{N-2})}{2\\,h}\\,w_{N-1}\n",
    "    \\end{bmatrix},\n",
    "\\end{equation*}\n",
    "but since $w_0=y_0$ and $w_{N-1}=y_1$ we get,\n",
    "\\begin{align*}\n",
    "    \\dfrac{a}{h^2}\\,D_2\\,\\mathbf{w}\n",
    "    +\n",
    "    \\dfrac{1}{2\\,h}\\,\\text{diag}(b(\\mathbf{x}))\\,D\\,\\mathbf{w}\n",
    "    +\n",
    "    \\text{diag}(c(\\mathbf{x}))\\,\\mathbf{w}\n",
    "    &=\n",
    "    \\begin{bmatrix}\n",
    "        f(x_1)-\\dfrac{a}{h^2} y_0+\\dfrac{b(x_1)}{2\\,h}\\,y_0\\\\\n",
    "        f(x_2)\\\\\n",
    "        \\vdots\\\\\n",
    "        f(x_{N-3})\\\\\n",
    "        f(x_{N-2})-\\dfrac{a}{h^2}\\,y_1-\\dfrac{b(x_{N-2})}{2\\,h}\\,y_1\n",
    "    \\end{bmatrix}\\\\\n",
    "    &= \\mathbf{b}_N.\n",
    "\\end{align*}\n",
    "Factoring out the unknown vector $\\mathbf{w}$ we obtain,\n",
    "\\begin{align*}\n",
    "    \\underbrace{\\left(\\dfrac{a}{h^2}\\,D_2\n",
    "    +\n",
    "    \\dfrac{1}{2\\,h}\\,\\text{diag}(b(\\mathbf{x}))\\,D\n",
    "    +\n",
    "    \\text{diag}(c(\\mathbf{x}))\\right)}_{\\displaystyle{A_N}}\\,\\mathbf{w}\n",
    "    &=\\mathbf{b}_N.\n",
    "\\end{align*}\n",
    "Thus, we only need to solve now the linear system of equations $A_N\\,\\mathbf{w}=\\mathbf{b}$ and we are done!\n",
    "Notice that the sub-index in $A_N$ is just to indicate we have a discretization with $N$ points.\n",
    "\n",
    "**Notice that we moved from the discrete equations \n",
    "$\\dfrac{a}{h^2} \\left(w_{i+1}-2\\,w_i+w_{i-1}\\right)+\n",
    "    \\dfrac{b(x_i)}{2\\,h} \\left(w_{i+1}-w_{i-1}\\right)\n",
    "    +\n",
    "    c(x_i)\\,w_i\n",
    "    =\n",
    "    f(x_i)$  to the matrix equations $\\dfrac{a}{h^2}\\,D_2\\,\\mathbf{w}\n",
    "    +\n",
    "    \\dfrac{1}{2\\,h}\\,\\text{diag}(b(\\mathbf{x}))\\,D\\,\\mathbf{w}\n",
    "    +\n",
    "    \\text{diag}(c(\\mathbf{x}))\\,\\mathbf{w}\n",
    "    =\\mathbf{b}_N$, however it is recommended to perform this step, at least for an small problem, manually so it can be understood better. Thus we encourage to do this, for instance for $N=7$.**"
   ]
  },
  {
   "cell_type": "code",
   "execution_count": 20,
   "id": "2035a46f",
   "metadata": {},
   "outputs": [],
   "source": [
    "# Data definition\n",
    "N=100\n",
    "a = 1\n",
    "b = lambda x: 10+x\n",
    "c = lambda x: -10+x\n",
    "f = lambda x: 1+20*np.sin(10*x)\n",
    "x = np.linspace(0,1,N)\n",
    "h = 1/(N-1)\n",
    "y0 = 0\n",
    "y1 = 1"
   ]
  },
  {
   "cell_type": "code",
   "execution_count": 21,
   "id": "db40e994",
   "metadata": {},
   "outputs": [
    {
     "data": {
      "image/png": "[encoded data removed]",
      "text/plain": [
       "<Figure size 1152x576 with 1 Axes>"
      ]
     },
     "metadata": {
      "needs_background": "light"
     },
     "output_type": "display_data"
    }
   ],
   "source": [
    "def build_A_and_b(a,b,c,f,h,x,y0,y1,N):\n",
    "    D, D2 = build_D_D2(N-2)\n",
    "    x_interior = x[1:-1]\n",
    "    A_N=(a/(h**2))*D2+(1/(2*h))*np.dot(np.diag(b(x_interior)),D)+np.diag(c(x_interior))\n",
    "    b_N = f(x_interior)\n",
    "    b_N[0] = b_N[0]-(a/(h**2))*y0+(b(x_interior[0])/(2*h))*y0\n",
    "    b_N[-1] = b_N[-1]-(a/(h**2))*y1-(b(x_interior[-1])/(2*h))*y1\n",
    "    return A_N, b_N\n",
    "\n",
    "A_N, b_N = build_A_and_b(a,b,c,f,h,x,y0,y1,N)\n",
    "w = np.linalg.solve(A_N,b_N)\n",
    "w = np.append(y0,w)\n",
    "w = np.append(w,y1)\n",
    "\n",
    "plt.figure(figsize=(16,8))\n",
    "plt.plot(x,w,'.',label=r'$w_i$')\n",
    "plt.xlabel(r'$x_i$')\n",
    "plt.grid(True)\n",
    "plt.legend(loc='best')\n",
    "plt.show()"
   ]
  },
  {
   "cell_type": "markdown",
   "id": "f6fbeaf8",
   "metadata": {},
   "source": [
    "### SM"
   ]
  },
  {
   "cell_type": "markdown",
   "id": "04a904c2",
   "metadata": {},
   "source": [
    "Considere el siguiente BVP:\n",
    "\\begin{align*}\n",
    "    a\\,y''(x)+b(x)\\,y'(x)+c(x)\\,y(x) & = f(x), \\quad \\text{para $x\\in]0,1[$}\\\\\n",
    "    a\\,(y(0) - y_0)& = 0,\\\\\n",
    "    y(1)    & = y_1,\n",
    "\\end{align*}\n",
    "donde $a\\in\\mathbb{R}$, $b(x)>0$, y $x\\in[0,1]$\n",
    "\n",
    "We first need to rewrite the BVP as a dynamical system and consider $x\\rightarrow t$:\n",
    "\\begin{align*}\n",
    "    w_1(t) &= y(t),\\\\\n",
    "    w_2(t) &= y'(t),\\\\\n",
    "\\end{align*}\n",
    "so,\n",
    "\\begin{align*}\n",
    "    \\dot{w}_1 &= y'(t) = w_2,\\\\\n",
    "    \\dot{w}_2(t) &= y''(t)\\\\\n",
    "                 &= \\dfrac{1}{a}\\left(f(t) - b(t)\\,w_2-c(t)\\,w_1\\right),\\\\\n",
    "    w_1(0)   &= y_0,\\\\\n",
    "    w_2(0)   &= \\alpha.\n",
    "\\end{align*}"
   ]
  },
  {
   "cell_type": "code",
   "execution_count": 22,
   "id": "5729f085",
   "metadata": {},
   "outputs": [
    {
     "data": {
      "image/png": "[encoded data removed]",
      "text/plain": [
       "<Figure size 1152x576 with 1 Axes>"
      ]
     },
     "metadata": {
      "needs_background": "light"
     },
     "output_type": "display_data"
    }
   ],
   "source": [
    "# RHS of dynamical system\n",
    "def my_f1(t,w,a,b,c,f):\n",
    "    w1 = w[0]\n",
    "    w2 = w[1]\n",
    "    w1dot = w2\n",
    "    w2dot = (f(t)-b(t)*w2-c(t)*w1)/a\n",
    "    return np.array([w1dot,w2dot])\n",
    "\n",
    "# Function to be used to apply the Shooting Method\n",
    "def F_SM_1(alpha,a,b,c,f,y0,y1,N):\n",
    "    t = np.linspace(0,1,N)\n",
    "    initial_condition = np.zeros(2)\n",
    "    initial_condition[0] = y0\n",
    "    initial_condition[1] = alpha\n",
    "    sol = solve_ivp(my_f1,(0,1),initial_condition,t_eval=t,args=(a,b,c,f))\n",
    "    return sol.y[0,-1]-y1\n",
    "\n",
    "F_root_1 = lambda alpha: F_SM_1(alpha,a,b,c,f,y0,y1,N)\n",
    "alpha_r = root(F_root_1, 0.).x[0]\n",
    "\n",
    "sol = solve_ivp(my_f1,(0,1),np.array([y0,alpha_r]),t_eval=np.linspace(0,1,N),args=(a,b,c,f))\n",
    "\n",
    "plt.figure(figsize=(16,8))\n",
    "plt.plot(sol.t,sol.y[0,:],'rd',label='SM',alpha=0.5)\n",
    "plt.plot(x,w,'.',label=r'$w_i$')\n",
    "plt.legend(loc='best')\n",
    "plt.xlabel(r'$x_i$')\n",
    "plt.grid(True)\n",
    "plt.show()"
   ]
  },
  {
   "cell_type": "markdown",
   "id": "8e467c43",
   "metadata": {},
   "source": [
    "## Caso $a=0$"
   ]
  },
  {
   "cell_type": "markdown",
   "id": "cbe8848a",
   "metadata": {},
   "source": [
    "### FD"
   ]
  },
  {
   "cell_type": "markdown",
   "id": "de6b2226",
   "metadata": {},
   "source": [
    "Considere el siguiente BVP:\n",
    "\\begin{align*}\n",
    "    a\\,y''(x)+b(x)\\,y'(x)+c(x)\\,y(x) & = f(x), \\quad \\text{para $x\\in]0,1[$}\\\\\n",
    "    a\\,(y(0) - y_0)& = 0,\\\\\n",
    "    y(1)    & = y_1,\n",
    "\\end{align*}\n",
    "donde $a\\in\\mathbb{R}$, $b(x)>0$, y $x\\in[0,1]$\n",
    "\n",
    "Answer: \n",
    "In this case the BVP becomes:\n",
    "\\begin{align*}\n",
    "    b(x)\\,y'(x)+c(x)\\,y(x) & = f(x), \\quad \\text{para $x\\in]0,1[$}\\\\\n",
    "    y(1)    & = y_1.\n",
    "\\end{align*}\n",
    "So, if we use forward difference we obtain:\n",
    "\\begin{equation*}\n",
    "    \\dfrac{b(x_i)}{h} \\left(w_{i+1}-w_{i}\\right)\n",
    "    +\n",
    "    c(x_i)\\,w_i\n",
    "    =\n",
    "    f(x_i).\n",
    "\\end{equation*}\n",
    "There is only one special case now, for $x_{N-2}$, it generates the following equations:\n",
    "\\begin{equation*}\n",
    "    \\dfrac{b(x_{N-2})}{h} \\left(w_{N-1}-w_{N-2}\\right)\n",
    "    +\n",
    "    c(x_{N-2})\\,w_{N-2}\n",
    "    =\n",
    "    f(x_{N-2}).\n",
    "\\end{equation*}\n",
    "But, since we know $w_{N-1}$, we obtain,\n",
    "\\begin{equation*}\n",
    "    \\dfrac{b(x_{N-2})}{h} \\left(-w_{N-2}\\right)\n",
    "    +\n",
    "    c(x_{N-2})\\,w_{N-2}\n",
    "    =\n",
    "    f(x_{N-2})-\\dfrac{b(x_{N-2})}{h}\\,w_{N-1}.\n",
    "\\end{equation*}\n",
    "This analysis allows us to write the discrete equation in the following way for the unknown vector $\\mathbf{w}=[w_1,w_2,\\dots,w_{N-2}]$ and $\\mathbf{x}=[x_1,x_2,\\dots,x_{N-2}]$:\n",
    "\\begin{equation*}\n",
    "    \\dfrac{1}{h}\\,\\text{diag}(b(\\mathbf{x}))\\,D^{\\text{F}}\\,\\mathbf{w}\n",
    "    +\n",
    "    \\text{diag}(c(\\mathbf{x}))\\,\\mathbf{w}\n",
    "    =\n",
    "    \\begin{bmatrix}\n",
    "        f(x_1)\\\\\n",
    "        f(x_2)\\\\\n",
    "        \\vdots\\\\\n",
    "        f(x_{N-3})\\\\\n",
    "        f(x_{N-2})-\\dfrac{b(x_{N-2})}{h}\\,w_{N-1}.\n",
    "    \\end{bmatrix},\n",
    "\\end{equation*}\n",
    "but since $w_{N-1}=y_1$ we get,\n",
    "\\begin{equation*}\n",
    "    \\dfrac{1}{h}\\,\\text{diag}(b(\\mathbf{x}))\\,D^{\\text{F}}\\,\\mathbf{w}\n",
    "    +\n",
    "    \\text{diag}(c(\\mathbf{x}))\\,\\mathbf{w}\n",
    "    =\n",
    "    \\begin{bmatrix}\n",
    "        f(x_1)\\\\\n",
    "        f(x_2)\\\\\n",
    "        \\vdots\\\\\n",
    "        f(x_{N-3})\\\\\n",
    "        f(x_{N-2})-\\dfrac{b(x_{N-2})}{h}\\,y_1.\n",
    "    \\end{bmatrix},\n",
    "\\end{equation*}\n",
    "where \n",
    "\\begin{equation*}\n",
    "    D^{\\text{F}}\n",
    "    =\n",
    "    \\begin{bmatrix}\n",
    "         -1 & 1 & 0 & 0 & 0 & 0 & 0 \\\\\n",
    "         0 & -1 & 1 & 0 & 0 & 0 & 0 \\\\\n",
    "         0 &  0 & -1 & 1 & 0 & 0 & 0 \\\\\n",
    "         \\vdots & \\ddots & \\ddots & \\ddots & \\ddots & \\ddots & \\ddots \\\\\n",
    "         0 &  0 & 0 & 0 & 0 & -1 & 1 \\\\\n",
    "         0 &  0 & 0 & 0 & 0 & 0 & -1 \\\\\n",
    "    \\end{bmatrix}.\\\\\n",
    "\\end{equation*}\n",
    "Factoring out the unknown vector $\\mathbf{w}$ we obtain,\n",
    "\\begin{align*}\n",
    "    \\underbrace{\n",
    "        \\left(\n",
    "        \\dfrac{1}{h}\\,\n",
    "        \\text{diag}(b(\\mathbf{x}))\\,D^{\\text{F}}\n",
    "        +\n",
    "        \\text{diag}(c(\\mathbf{x}))\\right)\n",
    "    }_{\\displaystyle{\\widehat{A}_N}}\\,\\mathbf{w}\n",
    "    &=\\widehat{\\mathbf{b}}_N.\n",
    "\\end{align*}\n",
    "Thus, we only need to solve now the linear system of equations $\\widehat{A}_N\\,\\mathbf{w}=\\widehat{\\mathbf{b}}$ and we are done!"
   ]
  },
  {
   "cell_type": "code",
   "execution_count": 23,
   "id": "00eaeaca",
   "metadata": {},
   "outputs": [
    {
     "data": {
      "image/png": "[encoded data removed]",
      "text/plain": [
       "<Figure size 1152x576 with 1 Axes>"
      ]
     },
     "metadata": {
      "needs_background": "light"
     },
     "output_type": "display_data"
    }
   ],
   "source": [
    "def build_DF(M):\n",
    "    # First derivative - Forward difference differentiation matrix\n",
    "    DF  = toeplitz(np.append(np.array([-1]), np.zeros(M-1)), np.append(np.array([0,1]), np.zeros(M-2)))\n",
    "    return DF\n",
    "\n",
    "def build_A_hat_and_b_hat(b,c,f,h,x,y1,N):\n",
    "    DF = build_DF(N-1)\n",
    "    x_interior = x[:-1]\n",
    "    A_hat_N=(1/(h))*np.dot(np.diag(b(x_interior)),DF)+np.diag(c(x_interior))\n",
    "    b_hat_N = f(x_interior)\n",
    "    b_hat_N[-1] = b_hat_N[-1]-(b(x_interior[-1])/(h))*y1\n",
    "    return A_hat_N, b_hat_N\n",
    "\n",
    "A_hat_N, b_hat_N = build_A_hat_and_b_hat(b,c,f,h,x,y1,N)\n",
    "w = np.linalg.solve(A_hat_N, b_hat_N)\n",
    "w = np.append(w,y1)\n",
    "\n",
    "plt.figure(figsize=(16,8))\n",
    "plt.plot(x,w,'.',label=r'$w_i$')\n",
    "plt.xlabel(r'$x_i$')\n",
    "plt.grid(True)\n",
    "plt.legend(loc='best')\n",
    "plt.ylim([0,1.1])\n",
    "plt.show()"
   ]
  },
  {
   "cell_type": "markdown",
   "id": "4c66d49f",
   "metadata": {},
   "source": [
    "### SM"
   ]
  },
  {
   "cell_type": "markdown",
   "id": "b7087843",
   "metadata": {},
   "source": [
    "In this case the BVP becomes:\n",
    "\\begin{align*}\n",
    "    b(x)\\,y'(x)+c(x)\\,y(x) & = f(x), \\quad \\text{para $x\\in]0,1[$}\\\\\n",
    "    y(1)    & = y_1.\n",
    "\\end{align*}\n",
    "\n",
    "This ode can be easily transform in an IVP as follows,\n",
    "\\begin{align*}\n",
    "    \\dot{y} &= \\dfrac{f(t)-c(t)\\,y}{b(t)},\\\\\n",
    "    y(0)    &= \\alpha.\n",
    "\\end{align*}\n",
    "Notice that we used $\\alpha$ since we don't know the initial condition, we only know a final condition, i.e. $y(1)=y_1$."
   ]
  },
  {
   "cell_type": "code",
   "execution_count": 24,
   "id": "8935fb75",
   "metadata": {},
   "outputs": [
    {
     "data": {
      "image/png": "[encoded data removed]",
      "text/plain": [
       "<Figure size 1152x576 with 1 Axes>"
      ]
     },
     "metadata": {
      "needs_background": "light"
     },
     "output_type": "display_data"
    }
   ],
   "source": [
    "# RHS of IVP\n",
    "def my_f2(t,w,b,c,f):\n",
    "    return (f(t)-c(t)*w)/b(t)\n",
    "\n",
    "# Function to be used to apply the Shooting Method\n",
    "def F_SM_2(alpha,b,c,f,y1,N):\n",
    "    sol = solve_ivp(my_f2,(0,1),alpha,t_eval=np.linspace(0,1,N),args=(b,c,f))\n",
    "    return sol.y[0][-1]-y1\n",
    "\n",
    "F_root_2 = lambda alpha: F_SM_2(alpha,b,c,f,y1,N)\n",
    "# Notice that the initial guess for ther root must be choose wisely\n",
    "alpha_r = root(F_root_2, 1).x[0]\n",
    "\n",
    "sol = solve_ivp(my_f2,(0,1),(alpha_r,),t_eval=np.linspace(0,1,N),args=(b,c,f))\n",
    "\n",
    "plt.figure(figsize=(16,8))\n",
    "plt.plot(sol.t,sol.y[0,:],'rd',label='SM',alpha=0.5)\n",
    "plt.plot(x,w,'.',label=r'$w_i$')\n",
    "plt.legend(loc='best')\n",
    "plt.xlabel(r'$x_i$')\n",
    "plt.grid(True)\n",
    "plt.show()"
   ]
  },
  {
   "cell_type": "markdown",
   "id": "775dc2e9",
   "metadata": {},
   "source": [
    "Notice that in this particular case the solution for the case when $a\\neq 0$ and $a=0$ are close to each other, but they are not the same.\n",
    "In particular, the value at $x=0$ is different."
   ]
  },
  {
   "cell_type": "markdown",
   "id": "96e84118",
   "metadata": {},
   "source": [
    "<div id='example2s' />\n",
    "\n",
    "# Solution Example 2\n",
    "[Back to toc](#toc)"
   ]
  },
  {
   "cell_type": "markdown",
   "id": "bcab2a54",
   "metadata": {},
   "source": [
    "Considere el siguiente BVP:\n",
    "\\begin{align*}\n",
    "    y''(x)+3\\,\\exp(y(x)) & = 0, \\quad \\text{para $x \\in]0,1[$}\\\\\n",
    "    y(0) &= 0,\\\\\n",
    "    y(1) &= 0,\\\\\n",
    "\\end{align*}\n",
    "donde $x\\in[0,1]$. Note que $y(x)=0$ no es una solución.\n",
    "1. Construya un algoritmo basado en diferencias finitas que obtenga la aproximación numérica $y(x)$ considerando como _initial guess_ $y_0(x)$. Utilice el método de Newton con GMRes para resolver el sistema de ecuaciones no-lineales asociado o el módulo _newton_krylov_ de _scipy_, en este último caso no es necesario implementar build_jacobian_matrix_FD.\n",
    "2. Construya un algoritmo basado en el método del disparo que obtenga la aproximación numérica $y(x)$ considerando como _initial guess_ $y_0(x)$.\n",
    "3. Resuelva con el algoritmo basado en diferencias finitas el BVP con $y_0(x)=0$ con N=20.\n",
    "4. Resuelva con el algoritmo basado en el método del disparo el BVP con $y_0(x)=0$ con N=20.\n",
    "5. ¿Obtiene aproximadamente la misma aproximación numérica en la pregunta 3 y 4?\n",
    "6. Considere la siguiente familia de _initial guesses_ $y_0^{[m]}(x)=m\\,(x-x^2)$, para $m\\in\\{-10,-9,\\dots,10\\}$ y N=20.\n",
    "    1. Resuelva con el algoritmo basado en diferencias finitas el BVP con cada $y_0^{[m]}(x)$.\n",
    "    2. Resuelva con el algoritmo basado en el método del disparo el BVP con cada $y_0^{[m]}(x)$.\n",
    "    3. ¿Se obtinen las mismas soluciones en cada caso?\n",
    "    4. ¿Cuantas soluciones distintas se obtienen?"
   ]
  },
  {
   "cell_type": "markdown",
   "id": "a81372ec",
   "metadata": {},
   "source": [
    "## FD"
   ]
  },
  {
   "cell_type": "markdown",
   "id": "d2735364",
   "metadata": {},
   "source": [
    "In this case we will re-use $D_2$ from the previous analysis, so the discrete equation becomes:\n",
    "The discrete equation at $x_i$ is the following:\n",
    "\\begin{equation*}\n",
    "    \\dfrac{1}{h^2} \\left(w_{i+1}-2\\,w_i+w_{i-1}\\right)\n",
    "    +3\\,\\,\\exp(w_i)\n",
    "    =\n",
    "    0.\n",
    "\\end{equation*}\n",
    "There are two special cases, for $x_1$ and $x_{N-2}$, they generate the following equations:\n",
    "\\begin{align*}\n",
    "    \\dfrac{1}{h^2} \\left(w_{2}-2\\,w_{1}+w_0\\right)\n",
    "    +3\\,\\,\\exp(w_1)\n",
    "    &=\n",
    "    0.\\\\\n",
    "    \\dfrac{1}{h^2} \\left(w_{N-1}-2\\,w_{N-2}+w_{N-3}\\right)\n",
    "    +3\\,\\,\\exp(w_{N-2})\n",
    "    &=\n",
    "    0.\n",
    "\\end{align*}\n",
    "But, since we know $w_0$ and $w_{N-1}$, they become,\n",
    "\\begin{align*}\n",
    "    \\dfrac{1}{h^2} \\left(w_{2}-2\\,w_{1}\\right)\n",
    "    +3\\,\\,\\exp(w_1)\n",
    "    &=\n",
    "    -\\dfrac{1}{h^2}\\,w_0.\\\\\n",
    "    \\dfrac{1}{h^2} \\left(-2\\,w_{N-2}+w_{N-3}\\right)\n",
    "    +3\\,\\,\\exp(w_{N-2})\n",
    "    &=\n",
    "    -\\dfrac{1}{h^2}\\,w_{N-1}.\n",
    "\\end{align*}\n",
    "This analysis allows us to write the discrete equation in the following way for the unknown vector $\\mathbf{w}=[w_1,w_2,\\dots,w_{N-2}]$ and $\\mathbf{x}=[x_1,x_2,\\dots,x_{N-2}]$:\n",
    "\\begin{equation*}\n",
    "    \\dfrac{1}{h^2}\\,D_2\\,\\mathbf{w}\n",
    "    +\n",
    "    3\\,\\begin{bmatrix}\n",
    "        \\exp(w_1)\\\\\n",
    "        \\exp(w_2)\\\\\n",
    "        \\vdots\\\\\n",
    "        \\exp(w_{N-3})\\\\\n",
    "        \\exp(w_{N-2})\n",
    "    \\end{bmatrix}\n",
    "    =\n",
    "    \\begin{bmatrix}\n",
    "        -\\dfrac{1}{h^2}\\,w_0\\\\\n",
    "        0\\\\\n",
    "        \\vdots\\\\\n",
    "        0\\\\\n",
    "        -\\dfrac{1}{h^2}\\,w_{N-1}\n",
    "    \\end{bmatrix},\n",
    "\\end{equation*}\n",
    "but since $w_0=0$ and $w_{N-1}=0$ we get,\n",
    "\\begin{equation*}\n",
    "    \\dfrac{1}{h^2}\\,D_2\\,\\mathbf{w}\n",
    "    +\n",
    "    3\\,\\begin{bmatrix}\n",
    "        \\exp(w_1)\\\\\n",
    "        \\exp(w_2)\\\\\n",
    "        \\vdots\\\\\n",
    "        \\exp(w_{N-3})\\\\\n",
    "        \\exp(w_{N-2})\n",
    "    \\end{bmatrix}\n",
    "    =\n",
    "    \\begin{bmatrix}\n",
    "        0\\\\\n",
    "        0\\\\\n",
    "        \\vdots\\\\\n",
    "        0\\\\\n",
    "        0\n",
    "    \\end{bmatrix},\n",
    "\\end{equation*}\n",
    "In this case we can't factor out the unknown vector $\\mathbf{w}$ since it is not a linear problem.\n",
    "We need to ask for help to _Sir Isaac Newton_ and to _Professor Aleksey Nikolaevich Krylov_!\n",
    "For simplicity we will build $\\mathbf{F}(\\mathbf{w})$, i.e. the high dimensional function that we need to find the root.\n",
    "\\begin{equation*}\n",
    "    \\mathbf{F}(\\mathbf{w})=\\dfrac{1}{h^2}\\,D_2\\,\\mathbf{w}\n",
    "    +\n",
    "    3\\,\\begin{bmatrix}\n",
    "        \\exp(w_1)\\\\\n",
    "        \\exp(w_2)\\\\\n",
    "        \\vdots\\\\\n",
    "        \\exp(w_{N-3})\\\\\n",
    "        \\exp(w_{N-2})\n",
    "    \\end{bmatrix}\n",
    "\\end{equation*}\n",
    "To solve this equation we will use _newton_krylov_!"
   ]
  },
  {
   "cell_type": "code",
   "execution_count": 25,
   "id": "799b00be",
   "metadata": {},
   "outputs": [
    {
     "data": {
      "image/png": "[encoded data removed]",
      "text/plain": [
       "<Figure size 1152x576 with 1 Axes>"
      ]
     },
     "metadata": {
      "needs_background": "light"
     },
     "output_type": "display_data"
    }
   ],
   "source": [
    "N = 100\n",
    "x = np.linspace(0,1,N)\n",
    "h = 1/(N-1)\n",
    "_, D2 = build_D_D2(N-2)\n",
    "def F(w):\n",
    "    return np.dot(D2,w)/(h**2)+3*np.exp(w)\n",
    "\n",
    "w0 = lambda m: m*(x[1:-1]-np.power(x[1:-1],2))\n",
    "# First solution\n",
    "w = newton_krylov(F,w0(0))\n",
    "w = np.append(0,w)\n",
    "w = np.append(w,0)\n",
    "\n",
    "# First solution, notice that the initial guess is different\n",
    "w2 = newton_krylov(F,w0(8))\n",
    "w2 = np.append(0,w2)\n",
    "w2 = np.append(w2,0)\n",
    "\n",
    "plt.figure(figsize=(16,8))\n",
    "plt.plot(x,w,'.',label=r'$w$')\n",
    "plt.plot(x,w2,'.',label=r'$w2$')\n",
    "plt.legend(loc='best')\n",
    "plt.xlabel(r'$x_i$')\n",
    "plt.grid(True)\n",
    "plt.show()"
   ]
  },
  {
   "cell_type": "markdown",
   "id": "e3c39432",
   "metadata": {},
   "source": [
    "### SM"
   ]
  },
  {
   "cell_type": "markdown",
   "id": "31a42882",
   "metadata": {},
   "source": [
    "Considere el siguiente BVP:\n",
    "\\begin{align*}\n",
    "    y''(x)+3\\,\\exp(y(x)) & = 0, \\quad \\text{para $x \\in]0,1[$}\\\\\n",
    "    y(0) &= 0,\\\\\n",
    "    y(1) &= 0,\\\\\n",
    "\\end{align*}\n",
    "donde $x\\in[0,1]$. Note que $y(x)=0$ no es una solución.\n",
    "\n",
    "We first need to rewrite the BVP as a dynamical system and consider $x\\rightarrow t$:\n",
    "\\begin{align*}\n",
    "    w_1(t) &= y(t),\\\\\n",
    "    w_2(t) &= y'(t),\\\\\n",
    "\\end{align*}\n",
    "so,\n",
    "\\begin{align*}\n",
    "    \\dot{w}_1 &= y'(t) = w_2,\\\\\n",
    "    \\dot{w}_2(t) &= y''(t)\\\\\n",
    "                 &= -3\\,\\exp(y(t)) = -3\\,\\exp(w_1),\\\\\n",
    "    w_1(0)   &= 0,\\\\\n",
    "    w_2(0)   &= \\alpha.\n",
    "\\end{align*}\n",
    "\n",
    "Notice that in this case the only degree of freedom we have is how we initilize $\\alpha$ when we look for the root. In particular the way we can use $y_0^{[m]}(x)=m\\,(x-x^2)$ is by computing its slope at $x=0$, this will help us to define a convenient initial guess for $\\alpha$."
   ]
  },
  {
   "cell_type": "code",
   "execution_count": 26,
   "id": "20809c35",
   "metadata": {},
   "outputs": [
    {
     "data": {
      "image/png": "[encoded data removed]",
      "text/plain": [
       "<Figure size 1152x576 with 1 Axes>"
      ]
     },
     "metadata": {
      "needs_background": "light"
     },
     "output_type": "display_data"
    }
   ],
   "source": [
    "# RHS of dynamical system\n",
    "def my_f_NL(t,w):\n",
    "    w1 = w[0]\n",
    "    w2 = w[1]\n",
    "    w1dot = w2\n",
    "    w2dot = -3*np.exp(w1)\n",
    "    return np.array([w1dot,w2dot])\n",
    "\n",
    "# Function to be used to apply the Shooting Method\n",
    "def F_SM_NL(alpha,N):\n",
    "    initial_condition = np.zeros(2)\n",
    "    initial_condition[1] = alpha\n",
    "    sol = solve_ivp(my_f_NL,(0,1),initial_condition,t_eval=np.linspace(0,1,N))\n",
    "    return sol.y[0,-1]\n",
    "\n",
    "F_root_NL = lambda alpha: F_SM_NL(alpha,N)\n",
    "# First solution with initial guess for alpha=0\n",
    "alpha_r = root(F_root_NL, 0.).x[0]\n",
    "sol = solve_ivp(my_f_NL,(0,1),np.array([0,alpha_r]),t_eval=np.linspace(0,1,N))\n",
    "\n",
    "# Second solution with initial guess for alpha=8\n",
    "alpha_r = root(F_root_NL, 8).x[0]\n",
    "sol2 = solve_ivp(my_f_NL,(0,1),np.array([0,alpha_r]),t_eval=np.linspace(0,1,N))\n",
    "\n",
    "plt.figure(figsize=(16,8))\n",
    "plt.plot(sol.t,sol.y[0,:],'md',label='SM1',alpha=0.5)\n",
    "plt.plot(sol2.t,sol2.y[0,:],'gs',label='SM2',alpha=0.5)\n",
    "plt.plot(x,w,'.',label=r'$w$')\n",
    "plt.plot(x,w2,'.',label=r'$w2$')\n",
    "plt.legend(loc='best')\n",
    "plt.xlabel(r'$x_i$')\n",
    "plt.grid(True)\n",
    "plt.show()"
   ]
  },
  {
   "cell_type": "markdown",
   "id": "3b1eaab7",
   "metadata": {},
   "source": [
    "<div id='acknowledgements' />\n",
    "\n",
    "# Acknowledgements\n",
    "[Back to toc](#toc)\n",
    "\n",
    "* _Material originally created by professor Claudio Torres_ (`ctorres@inf.utfsm.cl`) _. DI UTFSM. July 2021._\n",
    "* _Update July 2021 - v1.01 - C.Torres_ : Adding algorithms to compute numerical approximations."
   ]
  },
  {
   "cell_type": "code",
   "execution_count": null,
   "id": "d9985669",
   "metadata": {},
   "outputs": [],
   "source": []
  }
 ],
 "metadata": {
  "kernelspec": {
   "display_name": "Python 3.9.12 ('base')",
   "language": "python",
   "name": "python3"
  },
  "language_info": {
   "codemirror_mode": {
    "name": "ipython",
    "version": 3
   },
   "file_extension": ".py",
   "mimetype": "text/x-python",
   "name": "python",
   "nbconvert_exporter": "python",
   "pygments_lexer": "ipython3",
   "version": "3.9.12"
  },
  "vscode": {
   "interpreter": {
    "hash": "3d597f4c481aa0f25dceb95d2a0067e73c0966dcbd003d741d821a7208527ecf"
   }
  }
 },
 "nbformat": 4,
 "nbformat_minor": 5
}
