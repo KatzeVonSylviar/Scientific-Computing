{
 "cells": [
  {
   "cell_type": "markdown",
   "metadata": {},
   "source": [
    "<center>\n",
    "    <img src=\"http://sct.inf.utfsm.cl/wp-content/uploads/2020/04/logo_di.png\" style=\"width:60%\">\n",
    "    <h1> INF285 - Computación Científica </h1>\n",
    "    <h2> Generalized Minimal Residual Method </h2>\n",
    "    <h2> <a href=\"#acknowledgements\"> [S]cientific [C]omputing [T]eam </a> </h2>\n",
    "    <h2> Version: 1.23</h2>\n",
    "</center>"
   ]
  },
  {
   "cell_type": "markdown",
   "metadata": {},
   "source": [
    "<div id='toc' />\n",
    "\n",
    "## Table of Contents\n",
    "* [Introduction](#intro)\n",
    "* [A quick review on Least Squares](#LS)\n",
    "* [GMRes](#GMRes)\n",
    "    * [A very simple example](#AVSE)\n",
    "    * [Another example, how may iteration does it need to converge?](#AEx)\n",
    "    * [Plotting the residual over the iterations](#Proi)\n",
    "* [Theoretical Problems](#TP)\n",
    "* [Practical Problems](#PP)\n",
    "* [Acknowledgements](#acknowledgements)"
   ]
  },
  {
   "cell_type": "code",
   "execution_count": 1,
   "metadata": {},
   "outputs": [],
   "source": [
    "import numpy as np\n",
    "import scipy as sp\n",
    "from scipy import linalg as la\n",
    "import matplotlib.pyplot as plt\n",
    "import scipy.sparse.linalg\n",
    "%matplotlib inline\n",
    "#%load_ext memory_profiler\n",
    "import matplotlib as mpl\n",
    "mpl.rcParams['font.size'] = 14\n",
    "mpl.rcParams['axes.labelsize'] = 20\n",
    "mpl.rcParams['xtick.labelsize'] = 14\n",
    "mpl.rcParams['ytick.labelsize'] = 14\n",
    "M=8"
   ]
  },
  {
   "cell_type": "markdown",
   "metadata": {},
   "source": [
    "<div id='intro' />\n",
    "\n",
    "## Introduction\n",
    "[Back to TOC](#toc)\n",
    "\n",
    "Welcome to another edition of our Jupyter Notebooks. A few notebooks back, we saw that the Conjugate Gradient Method, an iterative method, was very useful to solve $A\\,\\mathbf{x}=\\mathbf{b}$ but it only worked when $A$ was positive definite and symmetric. So now we need an iterative method that works with nonsymmetric linear system of equations, and for that we have the Generalized Minimum Residual Method (GMRes). It works really well for finding the solution of large, sparse (and dense as well), nonsymmetric linear systems of equations. Of course, it will also have trouble for ill-conditioned linear system of equations. But it is really easy to add a left or right or both preconditioners!"
   ]
  },
  {
   "cell_type": "markdown",
   "metadata": {},
   "source": [
    "<div id='LS' />\n",
    "\n",
    "## A quick review on Least Squares\n",
    "[Back to TOC](#toc)"
   ]
  },
  {
   "cell_type": "markdown",
   "metadata": {},
   "source": [
    "Least Squares is used to solve overdetemined linear systems of equations $A\\,\\mathbf{x} = \\mathbf{b}$. That is, for example, a linear system of equations where there are more equations than unknowns. It finds the _best_ $\\overline{\\mathbf{x}}$ so that it minimizes the euclidean length of $\\mathbf{r} = \\mathbf{b} - A\\,\\mathbf{x}$.\n",
    "\n",
    "So, you might be wondering, what does Least Squares have to do with GMRes? WELL, since you're dying to know, I'll tell you: the backward error of the system in GMRes is minimized at each iteration step using a Least Squares formulation."
   ]
  },
  {
   "cell_type": "markdown",
   "metadata": {},
   "source": [
    "<div id='GMRes' />\n",
    "\n",
    "## GMRes\n",
    "[Back to TOC](#toc)\n",
    "\n",
    "GMRes is a member of the family of Krylov methods.\n",
    "It solve a square linear system of equations $A\\,\\mathbf{x}=\\mathbf{b}$, for $A\\in\\mathbb{R}^{n \\times n}$ nonsingular, $\\mathbf{x}\\in\\mathbb{R}^n$ and $\\mathbf{b}\\in\\mathbb{R}^n$.\n",
    "It finds an approximation of $\\mathbf{x}$ restricted to _live_ on the Krylov sub-space $\\mathcal{K}_k$,  where $\\mathcal{K}_k=\\{\\mathbf{r}_0, A\\,\\mathbf{r}_0, A^2\\,\\mathbf{r}_0, \\cdots, A^{k-1}\\,\\mathbf{r}_0\\}$ and $\\mathbf{r}_0 = \\mathbf{b} - A\\,\\mathbf{x}_0$ is the residual vector of the initial guess.\n",
    "\n",
    "The idea behind this method is to look for improvements to the initial guess $\\mathbf{x}_0$ in the Krylov sub-space. \n",
    "At the $(k+1)$-th iteration, we enlarge the Krylov space by adding $A^k\\,\\mathbf{r}_0$, reorthogonalize it against  the basis, and then use least squares to find the best improvement to add to $\\mathbf{x}_0$.\n",
    "\n",
    "The algorithm is as follows:"
   ]
  },
  {
   "cell_type": "markdown",
   "metadata": {},
   "source": [
    "`Generalized Minimum Residual Method`\n",
    "\n",
    "$\\mathbf{x}_0$ `= initial guess`<br>\n",
    "$\\mathbf{r}$ `=` $\\mathbf{b} - A\\,\\mathbf{x}_0$<br>\n",
    "$\\mathbf{q}_1$ `=` $\\mathbf{r} / \\|\\mathbf{r}\\|_2$<br>\n",
    "`for` $k = 1, ..., n$<br>\n",
    "$\\qquad \\ \\ \\mathbf{y} = A\\,\\mathbf{q}_k$<br>\n",
    "$\\qquad$ `for` $j = 1,2,...,k$ <br>\n",
    "$\\qquad \\qquad$ $h_{jk} = \\mathbf{q}_j^*\\,\\mathbf{y}$<br>\n",
    "$\\qquad \\qquad$ $\\mathbf{y} = \\mathbf{y} - h_{jk}\\, \\mathbf{q}_j$<br>\n",
    "$\\qquad$ `end`<br>\n",
    "$\\qquad h_{k+1,k} = \\|\\mathbf{y}\\|_2$ <br>\n",
    "$\\qquad$ `if` $h_{k+1,k}>0:$ <br>\n",
    "$\\qquad \\qquad\\ \\mathbf{q}_{k+1} = \\mathbf{y}/h_{k+1,k}$ <br>\n",
    "$\\qquad \\overline{\\mathbf{c}}_k=\\text{argmin}_{\\mathbf{c}_k}\\left\\|[\\|\\mathbf{r}\\|_2, 0, 0, \\dots, 0]^T-\\widehat{H}_k\\,\\mathbf{c}_k\\right\\|_2$ <br>\n",
    "$\\qquad$ $\\mathbf{x}_k = Q_k \\, \\overline{\\mathbf{c}}_k + \\mathbf{x}_0$ <br>\n",
    "`end`"
   ]
  },
  {
   "cell_type": "markdown",
   "metadata": {},
   "source": [
    "Now we have to implement it."
   ]
  },
  {
   "cell_type": "code",
   "execution_count": 2,
   "metadata": {},
   "outputs": [],
   "source": [
    "# This is a very instructive implementation of GMRes.\n",
    "def GMRes(A, b, x0=np.array([0.0]), m=10, flag_display=True, threshold=1e-12):\n",
    "    n = len(b)\n",
    "    if len(x0)==1:\n",
    "        x0=np.zeros(n)\n",
    "    r0 = b - np.dot(A, x0)\n",
    "    nr0=np.linalg.norm(r0)\n",
    "    out_res=np.array(nr0)\n",
    "    Q = np.zeros((n,n))\n",
    "    H = np.zeros((n,n))\n",
    "    Q[:,0] = r0 / nr0\n",
    "    flag_break=False\n",
    "    for k in np.arange(np.min((m,n))):\n",
    "        y = np.dot(A, Q[:,k])\n",
    "        if flag_display:\n",
    "            print('||y||=',np.linalg.norm(y))\n",
    "        for j in np.arange(k+1):\n",
    "            H[j][k] = np.dot(Q[:,j], y)\n",
    "            if flag_display:\n",
    "                print('H[',j,'][',k,']=',H[j][k])\n",
    "            y = y - np.dot(H[j][k],Q[:,j])\n",
    "            if flag_display:\n",
    "                print('||y||=',np.linalg.norm(y))\n",
    "        # All but the last equation are treated equally. Why?\n",
    "        if k+1<n:\n",
    "            H[k+1][k] = np.linalg.norm(y)\n",
    "            if flag_display:\n",
    "                print('H[',k+1,'][',k,']=',H[k+1][k])\n",
    "            if (np.abs(H[k+1][k]) > 1e-16):\n",
    "                Q[:,k+1] = y/H[k+1][k]\n",
    "            else:\n",
    "                print('flag_break has been activated')\n",
    "                flag_break=True\n",
    "            # Do you remember e_1? The canonical vector.\n",
    "            e1 = np.zeros((k+1)+1)        \n",
    "            e1[0]=1\n",
    "            H_tilde=H[0:(k+1)+1,0:k+1]\n",
    "        else:\n",
    "            H_tilde=H[0:k+1,0:k+1]\n",
    "        # Solving the 'SMALL' least square problem. \n",
    "        # This could be improved with Givens rotations!\n",
    "        ck = np.linalg.lstsq(H_tilde, nr0*e1,rcond=None)[0] \n",
    "        if k+1<n:\n",
    "            x = x0 + np.dot(Q[:,0:(k+1)], ck)\n",
    "        else:\n",
    "            x = x0 + np.dot(Q, ck)\n",
    "        # Why is 'norm_small' equal to 'norm_full'?\n",
    "        norm_small=np.linalg.norm(np.dot(H_tilde,ck)-nr0*e1)\n",
    "        out_res = np.append(out_res,norm_small)\n",
    "        if flag_display:\n",
    "            norm_full=np.linalg.norm(b-np.dot(A,x))\n",
    "            print('..........||b-A\\,x_k||=',norm_full)\n",
    "            print('..........||H_k\\,c_k-nr0*e1||',norm_small);\n",
    "        if flag_break:\n",
    "            if flag_display: \n",
    "                print('EXIT: flag_break=True')\n",
    "            break\n",
    "        if norm_small<threshold:\n",
    "            if flag_display:\n",
    "                print('EXIT: norm_small<threshold')\n",
    "            break\n",
    "    return x, out_res"
   ]
  },
  {
   "cell_type": "markdown",
   "metadata": {},
   "source": [
    "<div id='AVSE' />\n",
    "\n",
    "## A very simple example\n",
    "[Back to TOC](#toc)"
   ]
  },
  {
   "cell_type": "code",
   "execution_count": 3,
   "metadata": {},
   "outputs": [],
   "source": [
    "A = np.array([[1,1,0],[0,1,0],[0,1,1]])\n",
    "b = np.array([1,2,3])\n",
    "x0 = np.zeros(3)"
   ]
  },
  {
   "cell_type": "code",
   "execution_count": 4,
   "metadata": {},
   "outputs": [
    {
     "name": "stdout",
     "output_type": "stream",
     "text": [
      "||y||= 1.647508942095828\n",
      "H[ 0 ][ 0 ]= 1.5714285714285714\n",
      "||y||= 0.4948716593053935\n",
      "H[ 1 ][ 0 ]= 0.4948716593053935\n",
      "..........||b-A\\,x_k||= 1.1239029738980326\n",
      "..........||H_k\\,c_k-nr0*e1|| 1.1239029738980326\n",
      "||y||= 0.7867957924694432\n",
      "H[ 0 ][ 1 ]= -0.6598288790738581\n",
      "||y||= 0.4285714285714286\n",
      "H[ 1 ][ 1 ]= 0.4285714285714286\n",
      "||y||= 1.1443916996305594e-16\n",
      "H[ 2 ][ 1 ]= 1.1443916996305594e-16\n",
      "..........||b-A\\,x_k||= 1.0175362097255202e-15\n",
      "..........||H_k\\,c_k-nr0*e1|| 4.920762688787672e-16\n",
      "EXIT: norm_small<threshold\n",
      "--------------------------------\n",
      "x_scipy [-1.  2.  1.]\n",
      "x_our [-1.  2.  1.]\n",
      "x_np [-1.  2.  1.]\n"
     ]
    }
   ],
   "source": [
    "# scipy gmres\n",
    "x_scipy = scipy.sparse.linalg.gmres(A,b,x0)[0]\n",
    "# our gmres\n",
    "x_our, _ = GMRes(A,b)\n",
    "# numpy solve\n",
    "x_np= np.linalg.solve(A,b)\n",
    "\n",
    "# Showing the solutions\n",
    "print('--------------------------------')\n",
    "print('x_scipy',x_scipy)\n",
    "print('x_our',x_our)\n",
    "print('x_np',x_np)"
   ]
  },
  {
   "cell_type": "markdown",
   "metadata": {},
   "source": [
    "<div id='AEx' />\n",
    "\n",
    "## Another example, how may iteration does it need to converge?\n",
    "[Back to TOC](#toc)"
   ]
  },
  {
   "cell_type": "code",
   "execution_count": 5,
   "metadata": {},
   "outputs": [
    {
     "name": "stdout",
     "output_type": "stream",
     "text": [
      "||y||= 0.9999999999999999\n",
      "H[ 0 ][ 0 ]= 0.0\n",
      "||y||= 0.9999999999999999\n",
      "H[ 1 ][ 0 ]= 0.9999999999999999\n",
      "..........||b-A\\,x_k||= 1.4142135623730951\n",
      "..........||H_k\\,c_k-nr0*e1|| 1.4142135623730951\n",
      "||y||= 1.0\n",
      "H[ 0 ][ 1 ]= 1.0\n",
      "||y||= 1.5700924586837752e-16\n",
      "H[ 1 ][ 1 ]= 0.0\n",
      "||y||= 1.5700924586837752e-16\n",
      "H[ 2 ][ 1 ]= 1.5700924586837752e-16\n",
      "..........||b-A\\,x_k||= 3.1401849173675503e-16\n",
      "..........||H_k\\,c_k-nr0*e1|| 2.2204460492503136e-16\n",
      "EXIT: norm_small<threshold\n",
      "3.1401849173675503e-16\n"
     ]
    }
   ],
   "source": [
    "A = np.array([[0,0,0,1],[1,0,0,0],[0,1,0,0],[0,0,1,0]])\n",
    "b = np.array([1,0,1,0])\n",
    "x_our, _ = GMRes(A, b, m=10)\n",
    "norm_full=np.linalg.norm(b-np.dot(A,x_our))\n",
    "print(norm_full)"
   ]
  },
  {
   "cell_type": "code",
   "execution_count": 6,
   "metadata": {
    "scrolled": false
   },
   "outputs": [
    {
     "name": "stdout",
     "output_type": "stream",
     "text": [
      "||y||= 14.522650113216834\n",
      "H[ 0 ][ 0 ]= 14.43905103313625\n",
      "||y||= 1.5560114310003972\n",
      "H[ 1 ][ 0 ]= 1.5560114310003972\n",
      "..........||b-A\\,x_k||= 0.2229016105052561\n",
      "..........||H_k\\,c_k-nr0*e1|| 0.2229016105052561\n",
      "||y||= 10.673231023685243\n",
      "H[ 0 ][ 1 ]= 1.2602781507612815\n",
      "||y||= 10.598564028568722\n",
      "H[ 1 ][ 1 ]= 10.553398997348925\n",
      "||y||= 0.9774093668599669\n",
      "H[ 2 ][ 1 ]= 0.9774093668599669\n",
      "..........||b-A\\,x_k||= 0.020941350566071916\n",
      "..........||H_k\\,c_k-nr0*e1|| 0.020941350566071975\n",
      "||y||= 10.12620319779615\n",
      "H[ 0 ][ 2 ]= 0.25482708133214693\n",
      "||y||= 10.122996313427992\n",
      "H[ 1 ][ 2 ]= 0.21543414440564113\n",
      "||y||= 10.120703655927334\n",
      "H[ 2 ][ 2 ]= 10.105382323930627\n",
      "||y||= 0.556678164015254\n",
      "H[ 3 ][ 2 ]= 0.556678164015254\n",
      "..........||b-A\\,x_k||= 0.0011589741085531386\n",
      "..........||H_k\\,c_k-nr0*e1|| 0.0011589741085531642\n",
      "||y||= 10.07005038450172\n",
      "H[ 0 ][ 3 ]= 0.00845246171143813\n",
      "||y||= 10.070046837145009\n",
      "H[ 1 ][ 3 ]= 0.29561509235269806\n",
      "||y||= 10.065706881261123\n",
      "H[ 2 ][ 3 ]= 0.23370739374521843\n",
      "||y||= 10.062993385348932\n",
      "H[ 3 ][ 3 ]= 10.04343991847111\n",
      "||y||= 0.6270171270685982\n",
      "H[ 4 ][ 3 ]= 0.6270171270685982\n",
      "..........||b-A\\,x_k||= 7.240683255689419e-05\n",
      "..........||H_k\\,c_k-nr0*e1|| 7.240683255681246e-05\n",
      "||y||= 10.270710771951206\n",
      "H[ 0 ][ 4 ]= -0.3208839355162706\n",
      "||y||= 10.26569692037526\n",
      "H[ 1 ][ 4 ]= -0.22008554324624596\n",
      "||y||= 10.263337450101508\n",
      "H[ 2 ][ 4 ]= -0.15451738859196051\n",
      "||y||= 10.26217423313787\n",
      "H[ 3 ][ 4 ]= -0.30022372153588833\n",
      "||y||= 10.257781714791262\n",
      "H[ 4 ][ 4 ]= 10.254383438026306\n",
      "||y||= 0.26401896567821104\n",
      "H[ 5 ][ 4 ]= 0.26401896567821104\n",
      "..........||b-A\\,x_k||= 1.8639591509671972e-06\n",
      "..........||H_k\\,c_k-nr0*e1|| 1.863959150759171e-06\n",
      "||y||= 9.809541305963968\n",
      "H[ 0 ][ 5 ]= 0.08126738142324656\n",
      "||y||= 9.809204669397507\n",
      "H[ 1 ][ 5 ]= -0.02102033049117176\n",
      "||y||= 9.809182146939463\n",
      "H[ 2 ][ 5 ]= 0.5073933375028917\n",
      "||y||= 9.796050550752257\n",
      "H[ 3 ][ 5 ]= 0.04227939605286028\n",
      "||y||= 9.795959312163511\n",
      "H[ 4 ][ 5 ]= -0.2631978871114134\n",
      "||y||= 9.792422872700254\n",
      "H[ 5 ][ 5 ]= 9.79041247485039\n",
      "||y||= 0.19841696015458063\n",
      "H[ 6 ][ 5 ]= 0.19841696015458063\n",
      "..........||b-A\\,x_k||= 3.775444310223422e-08\n",
      "..........||H_k\\,c_k-nr0*e1|| 3.7754443094802827e-08\n",
      "||y||= 9.832468556212211\n",
      "H[ 0 ][ 6 ]= 0.1853609981637237\n",
      "||y||= 9.830721194768042\n",
      "H[ 1 ][ 6 ]= -0.13097700940135115\n",
      "||y||= 9.829848637302097\n",
      "H[ 2 ][ 6 ]= -0.08794148213680977\n",
      "||y||= 9.82945525082593\n",
      "H[ 3 ][ 6 ]= -0.639774449854979\n",
      "||y||= 9.808612500313293\n",
      "H[ 4 ][ 6 ]= 0.2987372033815296\n",
      "||y||= 9.804062181800868\n",
      "H[ 5 ][ 6 ]= -0.055424631946106\n",
      "||y||= 9.803905516414957\n",
      "H[ 6 ][ 6 ]= 9.79549553480935\n",
      "||y||= 0.40599335255856256\n",
      "H[ 7 ][ 6 ]= 0.40599335255856256\n",
      "..........||b-A\\,x_k||= 1.5635771838844738e-09\n",
      "..........||H_k\\,c_k-nr0*e1|| 1.5635772841359665e-09\n",
      "||y||= 9.359236634171475\n",
      "H[ 0 ][ 7 ]= -0.13826349264727042\n",
      "||y||= 9.35821529892417\n",
      "H[ 1 ][ 7 ]= -0.5094408196857482\n",
      "||y||= 9.344338587201145\n",
      "H[ 2 ][ 7 ]= -0.05034411591534599\n",
      "||y||= 9.344202967736146\n",
      "H[ 3 ][ 7 ]= 0.034050317277615164\n",
      "||y||= 9.344140927776202\n",
      "H[ 4 ][ 7 ]= -0.01636034185021357\n",
      "||y||= 9.344126605379277\n",
      "H[ 5 ][ 7 ]= 0.3372050412068589\n",
      "||y||= 9.338040200038845\n",
      "H[ 6 ][ 7 ]= 0.1432558513745927\n",
      "||y||= 9.336941283878167\n",
      "H[ 7 ][ 7 ]= 9.328933030825082\n",
      "||y||= 0.3866277860801022\n",
      "H[ 8 ][ 7 ]= 0.3866277860801022\n",
      "..........||b-A\\,x_k||= 6.483978031378366e-11\n",
      "..........||H_k\\,c_k-nr0*e1|| 6.483995680342304e-11\n",
      "||y||= 9.98576494527124\n",
      "H[ 0 ][ 8 ]= 0.2696992211902371\n",
      "||y||= 9.982122212851198\n",
      "H[ 1 ][ 8 ]= 0.25653512178074267\n",
      "||y||= 9.978825261702413\n",
      "H[ 2 ][ 8 ]= -0.04908582305777679\n",
      "||y||= 9.978704534435568\n",
      "H[ 3 ][ 8 ]= -0.43428819042887934\n",
      "||y||= 9.969249618362406\n",
      "H[ 4 ][ 8 ]= 0.2869528933185389\n",
      "||y||= 9.965118965182256\n",
      "H[ 5 ][ 8 ]= -0.07238436887455663\n",
      "||y||= 9.964856069877664\n",
      "H[ 6 ][ 8 ]= -0.35262370165516166\n",
      "||y||= 9.958615015071562\n",
      "H[ 7 ][ 8 ]= 0.41652147168449133\n",
      "||y||= 9.949900646842385\n",
      "H[ 8 ][ 8 ]= 9.945616026409786\n",
      "||y||= 0.2919670139850512\n",
      "H[ 9 ][ 8 ]= 0.2919670139850512\n",
      "..........||b-A\\,x_k||= 1.9078346108247204e-12\n",
      "..........||H_k\\,c_k-nr0*e1|| 1.907720502579602e-12\n",
      "||y||= 10.070410884479127\n",
      "H[ 0 ][ 9 ]= -0.048126093682799846\n",
      "||y||= 10.070295887477315\n",
      "H[ 1 ][ 9 ]= 0.3600738814818342\n",
      "||y||= 10.063856420936117\n",
      "H[ 2 ][ 9 ]= 0.28066071035424117\n",
      "||y||= 10.059942128406135\n",
      "H[ 3 ][ 9 ]= 0.23013315389280092\n",
      "||y||= 10.057309498984305\n",
      "H[ 4 ][ 9 ]= 0.3289445975848726\n",
      "||y||= 10.051928661211223\n",
      "H[ 5 ][ 9 ]= 0.46762265364348227\n",
      "||y||= 10.041045705696149\n",
      "H[ 6 ][ 9 ]= 0.14688184994135037\n",
      "||y||= 10.039971343885243\n",
      "H[ 7 ][ 9 ]= 0.4406799616740371\n",
      "||y||= 10.030295397315866\n",
      "H[ 8 ][ 9 ]= 0.3638134358855661\n",
      "||y||= 10.023695203929785\n",
      "H[ 9 ][ 9 ]= 10.023695059529027\n",
      "||y||= 0.001701428322596104\n",
      "..........||b-A\\,x_k||= 5.382005793715205e-16\n",
      "..........||H_k\\,c_k-nr0*e1|| 4.2956612000677307e-16\n",
      "EXIT: norm_small<threshold\n",
      "5.382005793715205e-16\n"
     ]
    }
   ],
   "source": [
    "A = np.random.rand(10,10)+10*np.eye(10)\n",
    "b = np.random.rand(10)\n",
    "x_our, out_res = GMRes(A, b, m=10,flag_display=True, threshold=1e-15)\n",
    "norm_full=np.linalg.norm(b-np.dot(A,x_our))\n",
    "print(norm_full)"
   ]
  },
  {
   "cell_type": "markdown",
   "metadata": {},
   "source": [
    "<div id='Proi' />\n",
    "\n",
    "## Plotting the residual over the iterations\n",
    "[Back to TOC](#toc)"
   ]
  },
  {
   "cell_type": "code",
   "execution_count": 7,
   "metadata": {},
   "outputs": [
    {
     "data": {
      "image/png": "[encoded data removed]",
      "text/plain": [
       "<Figure size 576x576 with 1 Axes>"
      ]
     },
     "metadata": {
      "needs_background": "light"
     },
     "output_type": "display_data"
    }
   ],
   "source": [
    "plt.figure(figsize=(M,M))\n",
    "plt.semilogy(out_res,'.k',markersize=20,label='residual')\n",
    "plt.grid(True)\n",
    "plt.xlabel(r'$k$')\n",
    "plt.ylabel(r'$\\|\\|\\mathbf{b}-A\\,\\mathbf{x}_k\\|\\|_2$')\n",
    "plt.grid(True)\n",
    "plt.show()"
   ]
  },
  {
   "cell_type": "markdown",
   "metadata": {},
   "source": [
    "<div id='TP' />\n",
    "\n",
    "## Theoretical Problems\n",
    "[Back to TOC](#toc)"
   ]
  },
  {
   "cell_type": "markdown",
   "metadata": {},
   "source": [
    "1. Prove that in GMRES method, the backward error $||b- Ax_k||$ decreases monotonically with k.\n",
    "2. What would happen if we pass a singular matrix $A$ to the previous implementation of GMRes?\n",
    "3. Prove that for\n",
    "\\begin{equation}\n",
    "A=\n",
    "\\left[\n",
    "\\begin{array}{c|c}\n",
    "I & C \\\\\n",
    "\\hline\n",
    "0 & I\n",
    "\\end{array}\n",
    "\\right]\n",
    "\\end{equation}\n",
    "and any $x_0$ and $b$, GMRES converges to the exact solution after **two** steps. Here $C$ is a $m_1 \\times m_2$ submatrix, $0$ denotes the $m_2 \\times m_1$ matrix of zeros, and $I$ denotes the appropiate-sized identity matrix."
   ]
  },
  {
   "cell_type": "markdown",
   "metadata": {},
   "source": [
    "<div id='PP' />\n",
    "\n",
    "## Practical Problems\n",
    "[Back to TOC](#toc)"
   ]
  },
  {
   "cell_type": "markdown",
   "metadata": {},
   "source": [
    "1. A possible improvement to the present algorithm consists on taking out of the loop the least squares computations, since the _Krylov_ subspace spaned by $Q_k$ doesn't depend on previous least squares calculations.\n",
    "    * Verify the truth of the above statement.\n",
    "    * Verify if it is really an improvement.\n",
    "    * Implement it.\n",
    "    * Test both implementations using `%timeit`\n",
    "1. The GMRES method is meant for huge $n\\times n$ sparse matrices $A$. In most cases, the goal is to run the method for $k$ steps (with $k << n$), reducing the complexity of the subproblems (Least squares). Neverthless for $k$ values too small, the solution $x_k$ could be not as good as needed. So to keep the values $k$ small and avoid bad solutions, there exists a variation of the algorithm known as **Restarted GMRES**: If no enough progress is made toward the solution after $k$ iterations, discard $Q_k$ and start GMRES from the beginning, using the current best guess $x_k$ as the new $x_0$.\n",
    "    * Implement the Restarted GMRES method. Introduce a tolerance parameter to stop restarting.\n",
    "    * Compare the asymptotic operation count and storage requirements of GMRES and Restarted GMRES, for fixed $k$ and increasing $n$.\n",
    "    * Execute it on a _huge_ linear system $A x = b$, and compare the solution with the solution of standard GMRES. Keep a value of $k$ small, and count how many times Restarted GMRES has to restart. Perform benchmarks using `%timeit` and `%memit` and verify the results.\n",
    "    * Describe an example in which Restared GMRES can be expected to fail to converge, whereas GMRES succeds."
   ]
  },
  {
   "cell_type": "markdown",
   "metadata": {},
   "source": [
    "<div id='acknowledgements' />\n",
    "\n",
    "# Acknowledgements\n",
    "[Back to TOC](#toc)\n",
    "\n",
    "* _Material created by professor Claudio Torres_ (`ctorres@inf.utfsm.cl`) _and assistants: Laura Bermeo, Alvaro Salinas, Axel Simonsen and Martín Villanueva. DI UTFSM. April 2016._\n",
    "* _Material updated by professor Claudio Torres_ (`ctorres@inf.utfsm.cl`). DI UTFSM. June 2017.\n",
    "* _Update July 2020 - v1.21 - C.Torres_ : Fixing formatting issues.\n",
    "* _Update June 2021 - v1.22 - C.Torres_ : Updating format and adding link to TOC. Improving GMRes description. Adding `rcond=None` to  np.linalg.lstsq.\n",
    "* _Update June 2022 - v1.23 - C.Torres_ : Fixing some LaTeX issues."
   ]
  },
  {
   "cell_type": "code",
   "execution_count": null,
   "metadata": {},
   "outputs": [],
   "source": []
  }
 ],
 "metadata": {
  "anaconda-cloud": {},
  "interpreter": {
   "hash": "3ac50632fb3bdf9f343ef51447c90235899ecf2fcb8080338e89f31f890e4206"
  },
  "kernelspec": {
   "display_name": "Python 3.9.12 ('base')",
   "language": "python",
   "name": "python3"
  },
  "language_info": {
   "codemirror_mode": {
    "name": "ipython",
    "version": 3
   },
   "file_extension": ".py",
   "mimetype": "text/x-python",
   "name": "python",
   "nbconvert_exporter": "python",
   "pygments_lexer": "ipython3",
   "version": "3.9.12"
  }
 },
 "nbformat": 4,
 "nbformat_minor": 4
}
