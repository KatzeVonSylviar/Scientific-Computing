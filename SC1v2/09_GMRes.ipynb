{
 "cells": [
  {
   "cell_type": "markdown",
   "metadata": {},
   "source": [
    "<center>\n",
    "    <img src=\"http://sct.inf.utfsm.cl/wp-content/uploads/2020/04/logo_di.png\" style=\"width:60%\">\n",
    "    <h1> INF285 - Computación Científica </h1>\n",
    "    <h2> Generalized Minimal Residual Method </h2>\n",
    "    <h2> <a href=\"#acknowledgements\"> [S]cientific [C]omputing [T]eam </a> </h2>\n",
    "    <h2> Version: 1.23</h2>\n",
    "</center>"
   ]
  },
  {
   "cell_type": "markdown",
   "metadata": {},
   "source": [
    "<div id='toc' />\n",
    "\n",
    "## Table of Contents\n",
    "* [Introduction](#intro)\n",
    "* [A quick review on Least Squares](#LS)\n",
    "* [GMRes](#GMRes)\n",
    "    * [A very simple example](#AVSE)\n",
    "    * [Another example, how may iteration does it need to converge?](#AEx)\n",
    "    * [Plotting the residual over the iterations](#Proi)\n",
    "* [Theoretical Problems](#TP)\n",
    "* [Practical Problems](#PP)\n",
    "* [Acknowledgements](#acknowledgements)"
   ]
  },
  {
   "cell_type": "code",
   "execution_count": 1,
   "metadata": {},
   "outputs": [],
   "source": [
    "import numpy as np\n",
    "import scipy as sp\n",
    "from scipy import linalg as la\n",
    "import matplotlib.pyplot as plt\n",
    "import scipy.sparse.linalg\n",
    "%matplotlib inline\n",
    "#%load_ext memory_profiler\n",
    "import matplotlib as mpl\n",
    "mpl.rcParams['font.size'] = 14\n",
    "mpl.rcParams['axes.labelsize'] = 20\n",
    "mpl.rcParams['xtick.labelsize'] = 14\n",
    "mpl.rcParams['ytick.labelsize'] = 14\n",
    "M=8"
   ]
  },
  {
   "cell_type": "markdown",
   "metadata": {},
   "source": [
    "<div id='intro' />\n",
    "\n",
    "## Introduction\n",
    "[Back to TOC](#toc)\n",
    "\n",
    "Welcome to another edition of our Jupyter Notebooks. A few notebooks back, we saw that the Conjugate Gradient Method, an iterative method, was very useful to solve $A\\,\\mathbf{x}=\\mathbf{b}$ but it only worked when $A$ was positive definite and symmetric. So now we need an iterative method that works with nonsymmetric linear system of equations, and for that we have the Generalized Minimum Residual Method (GMRes). It works really well for finding the solution of large, sparse (and dense as well), nonsymmetric linear systems of equations. Of course, it will also have trouble for ill-conditioned linear system of equations. But it is really easy to add a left or right or both preconditioners!"
   ]
  },
  {
   "cell_type": "markdown",
   "metadata": {},
   "source": [
    "<div id='LS' />\n",
    "\n",
    "## A quick review on Least Squares\n",
    "[Back to TOC](#toc)"
   ]
  },
  {
   "cell_type": "markdown",
   "metadata": {},
   "source": [
    "Least Squares is used to solve overdetemined linear systems of equations $A\\,\\mathbf{x} = \\mathbf{b}$. That is, for example, a linear system of equations where there are more equations than unknowns. It finds the _best_ $\\overline{\\mathbf{x}}$ so that it minimizes the euclidean length of $\\mathbf{r} = \\mathbf{b} - A\\,\\mathbf{x}$.\n",
    "\n",
    "So, you might be wondering, what does Least Squares have to do with GMRes? WELL, since you're dying to know, I'll tell you: the backward error of the system in GMRes is minimized at each iteration step using a Least Squares formulation."
   ]
  },
  {
   "cell_type": "markdown",
   "metadata": {},
   "source": [
    "<div id='GMRes' />\n",
    "\n",
    "## GMRes\n",
    "[Back to TOC](#toc)\n",
    "\n",
    "GMRes is a member of the family of Krylov methods.\n",
    "It solve a square linear system of equations $A\\,\\mathbf{x}=\\mathbf{b}$, for $A\\in\\mathbb{R}^{n \\times n}$ nonsingular, $\\mathbf{x}\\in\\mathbb{R}^n$ and $\\mathbf{b}\\in\\mathbb{R}^n$.\n",
    "It finds an approximation of $\\mathbf{x}$ restricted to _live_ on the Krylov sub-space $\\mathcal{K}_k$,  where $\\mathcal{K}_k=\\{\\mathbf{r}_0, A\\,\\mathbf{r}_0, A^2\\,\\mathbf{r}_0, \\cdots, A^{k-1}\\,\\mathbf{r}_0\\}$ and $\\mathbf{r}_0 = \\mathbf{b} - A\\,\\mathbf{x}_0$ is the residual vector of the initial guess.\n",
    "\n",
    "The idea behind this method is to look for improvements to the initial guess $\\mathbf{x}_0$ in the Krylov sub-space. \n",
    "At the $(k+1)$-th iteration, we enlarge the Krylov space by adding $A^k\\,\\mathbf{r}_0$, reorthogonalize it against  the basis, and then use least squares to find the best improvement to add to $\\mathbf{x}_0$.\n",
    "\n",
    "The algorithm is as follows:"
   ]
  },
  {
   "cell_type": "markdown",
   "metadata": {},
   "source": [
    "`Generalized Minimum Residual Method`\n",
    "\n",
    "$\\mathbf{x}_0$ `= initial guess`<br>\n",
    "$\\mathbf{r}$ `=` $\\mathbf{b} - A\\,\\mathbf{x}_0$<br>\n",
    "$\\mathbf{q}_1$ `=` $\\mathbf{r} / \\|\\mathbf{r}\\|_2$<br>\n",
    "`for` $k = 1, ..., n$<br>\n",
    "$\\qquad \\ \\ \\mathbf{y} = A\\,\\mathbf{q}_k$<br>\n",
    "$\\qquad$ `for` $j = 1,2,...,k$ <br>\n",
    "$\\qquad \\qquad$ $h_{jk} = \\mathbf{q}_j^*\\,\\mathbf{y}$<br>\n",
    "$\\qquad \\qquad$ $\\mathbf{y} = \\mathbf{y} - h_{jk}\\, \\mathbf{q}_j$<br>\n",
    "$\\qquad$ `end`<br>\n",
    "$\\qquad h_{k+1,k} = \\|\\mathbf{y}\\|_2$ <br>\n",
    "$\\qquad$ `if` $h_{k+1,k}>0:$ <br>\n",
    "$\\qquad \\qquad\\ \\mathbf{q}_{k+1} = \\mathbf{y}/h_{k+1,k}$ <br>\n",
    "$\\qquad \\overline{\\mathbf{c}}_k=\\text{argmin}_{\\mathbf{c}_k}\\left\\|[\\|\\mathbf{r}\\|_2, 0, 0, \\dots, 0]^T-\\widehat{H}_k\\,\\mathbf{c}_k\\right\\|_2$ <br>\n",
    "$\\qquad$ $\\mathbf{x}_k = Q_k \\, \\overline{\\mathbf{c}}_k + \\mathbf{x}_0$ <br>\n",
    "`end`"
   ]
  },
  {
   "cell_type": "markdown",
   "metadata": {},
   "source": [
    "Now we have to implement it."
   ]
  },
  {
   "cell_type": "code",
   "execution_count": 2,
   "metadata": {},
   "outputs": [],
   "source": [
    "# This is a very instructive implementation of GMRes.\n",
    "def GMRes(A, b, x0=np.array([0.0]), m=10, flag_display=True, threshold=1e-12):\n",
    "    n = len(b)\n",
    "    if len(x0)==1:\n",
    "        x0=np.zeros(n)\n",
    "    r0 = b - np.dot(A, x0)\n",
    "    nr0=np.linalg.norm(r0)\n",
    "    out_res=np.array(nr0)\n",
    "    Q = np.zeros((n,n))\n",
    "    H = np.zeros((n,n))\n",
    "    Q[:,0] = r0 / nr0\n",
    "    flag_break=False\n",
    "    for k in np.arange(np.min((m,n))):\n",
    "        y = np.dot(A, Q[:,k])\n",
    "        if flag_display:\n",
    "            print('||y||=',np.linalg.norm(y))\n",
    "        for j in np.arange(k+1):\n",
    "            H[j][k] = np.dot(Q[:,j], y)\n",
    "            if flag_display:\n",
    "                print('H[',j,'][',k,']=',H[j][k])\n",
    "            y = y - np.dot(H[j][k],Q[:,j])\n",
    "            if flag_display:\n",
    "                print('||y||=',np.linalg.norm(y))\n",
    "        # All but the last equation are treated equally. Why?\n",
    "        if k+1<n:\n",
    "            H[k+1][k] = np.linalg.norm(y)\n",
    "            if flag_display:\n",
    "                print('H[',k+1,'][',k,']=',H[k+1][k])\n",
    "            if (np.abs(H[k+1][k]) > 1e-16):\n",
    "                Q[:,k+1] = y/H[k+1][k]\n",
    "            else:\n",
    "                print('flag_break has been activated')\n",
    "                flag_break=True\n",
    "            # Do you remember e_1? The canonical vector.\n",
    "            e1 = np.zeros((k+1)+1)        \n",
    "            e1[0]=1\n",
    "            H_tilde=H[0:(k+1)+1,0:k+1]\n",
    "        else:\n",
    "            H_tilde=H[0:k+1,0:k+1]\n",
    "        # Solving the 'SMALL' least square problem. \n",
    "        # This could be improved with Givens rotations!\n",
    "        ck = np.linalg.lstsq(H_tilde, nr0*e1,rcond=None)[0] \n",
    "        if k+1<n:\n",
    "            x = x0 + np.dot(Q[:,0:(k+1)], ck)\n",
    "        else:\n",
    "            x = x0 + np.dot(Q, ck)\n",
    "        # Why is 'norm_small' equal to 'norm_full'?\n",
    "        norm_small=np.linalg.norm(np.dot(H_tilde,ck)-nr0*e1)\n",
    "        out_res = np.append(out_res,norm_small)\n",
    "        if flag_display:\n",
    "            norm_full=np.linalg.norm(b-np.dot(A,x))\n",
    "            print('..........||b-A\\,x_k||=',norm_full)\n",
    "            print('..........||H_k\\,c_k-nr0*e1||',norm_small);\n",
    "        if flag_break:\n",
    "            if flag_display: \n",
    "                print('EXIT: flag_break=True')\n",
    "            break\n",
    "        if norm_small<threshold:\n",
    "            if flag_display:\n",
    "                print('EXIT: norm_small<threshold')\n",
    "            break\n",
    "    return x, out_res"
   ]
  },
  {
   "cell_type": "markdown",
   "metadata": {},
   "source": [
    "<div id='AVSE' />\n",
    "\n",
    "## A very simple example\n",
    "[Back to TOC](#toc)"
   ]
  },
  {
   "cell_type": "code",
   "execution_count": 3,
   "metadata": {},
   "outputs": [],
   "source": [
    "A = np.array([[1,1,0],[0,1,0],[0,1,1]])\n",
    "b = np.array([1,2,3])\n",
    "x0 = np.zeros(3)"
   ]
  },
  {
   "cell_type": "code",
   "execution_count": 4,
   "metadata": {},
   "outputs": [
    {
     "name": "stdout",
     "output_type": "stream",
     "text": [
      "||y||= 1.647508942095828\n",
      "H[ 0 ][ 0 ]= 1.5714285714285714\n",
      "||y||= 0.4948716593053935\n",
      "H[ 1 ][ 0 ]= 0.4948716593053935\n",
      "..........||b-A\\,x_k||= 1.1239029738980326\n",
      "..........||H_k\\,c_k-nr0*e1|| 1.1239029738980326\n",
      "||y||= 0.7867957924694432\n",
      "H[ 0 ][ 1 ]= -0.659828879073858\n",
      "||y||= 0.4285714285714286\n",
      "H[ 1 ][ 1 ]= 0.4285714285714286\n",
      "||y||= 2.7755575615628914e-17\n",
      "H[ 2 ][ 1 ]= 2.7755575615628914e-17\n",
      "flag_break has been activated\n",
      "..........||b-A\\,x_k||= 9.992007221626409e-16\n",
      "..........||H_k\\,c_k-nr0*e1|| 8.896640829961128e-16\n",
      "EXIT: flag_break=True\n",
      "--------------------------------\n",
      "x_scipy [-1.  2.  1.]\n",
      "x_our [-1.  2.  1.]\n",
      "x_np [-1.  2.  1.]\n"
     ]
    }
   ],
   "source": [
    "# scipy gmres\n",
    "x_scipy = scipy.sparse.linalg.gmres(A,b,x0)[0]\n",
    "# our gmres\n",
    "x_our, _ = GMRes(A,b)\n",
    "# numpy solve\n",
    "x_np= np.linalg.solve(A,b)\n",
    "\n",
    "# Showing the solutions\n",
    "print('--------------------------------')\n",
    "print('x_scipy',x_scipy)\n",
    "print('x_our',x_our)\n",
    "print('x_np',x_np)"
   ]
  },
  {
   "cell_type": "markdown",
   "metadata": {},
   "source": [
    "<div id='AEx' />\n",
    "\n",
    "## Another example, how may iteration does it need to converge?\n",
    "[Back to TOC](#toc)"
   ]
  },
  {
   "cell_type": "code",
   "execution_count": 5,
   "metadata": {},
   "outputs": [
    {
     "name": "stdout",
     "output_type": "stream",
     "text": [
      "||y||= 0.9999999999999999\n",
      "H[ 0 ][ 0 ]= 0.0\n",
      "||y||= 0.9999999999999999\n",
      "H[ 1 ][ 0 ]= 0.9999999999999999\n",
      "..........||b-A\\,x_k||= 1.4142135623730951\n",
      "..........||H_k\\,c_k-nr0*e1|| 1.4142135623730951\n",
      "||y||= 1.0\n",
      "H[ 0 ][ 1 ]= 1.0\n",
      "||y||= 1.5700924586837752e-16\n",
      "H[ 1 ][ 1 ]= 0.0\n",
      "||y||= 1.5700924586837752e-16\n",
      "H[ 2 ][ 1 ]= 1.5700924586837752e-16\n",
      "..........||b-A\\,x_k||= 3.1401849173675503e-16\n",
      "..........||H_k\\,c_k-nr0*e1|| 2.2204460492503136e-16\n",
      "EXIT: norm_small<threshold\n",
      "3.1401849173675503e-16\n"
     ]
    }
   ],
   "source": [
    "A = np.array([[0,0,0,1],[1,0,0,0],[0,1,0,0],[0,0,1,0]])\n",
    "b = np.array([1,0,1,0])\n",
    "x_our, _ = GMRes(A, b, m=10)\n",
    "norm_full=np.linalg.norm(b-np.dot(A,x_our))\n",
    "print(norm_full)"
   ]
  },
  {
   "cell_type": "code",
   "execution_count": 6,
   "metadata": {
    "scrolled": false
   },
   "outputs": [
    {
     "name": "stdout",
     "output_type": "stream",
     "text": [
      "||y||= 13.997896157383131\n",
      "H[ 0 ][ 0 ]= 13.841532197560952\n",
      "||y||= 2.086404384764581\n",
      "H[ 1 ][ 0 ]= 2.086404384764581\n",
      "..........||b-A\\,x_k||= 0.29270434958474867\n",
      "..........||H_k\\,c_k-nr0*e1|| 0.2927043495847487\n",
      "||y||= 11.479333263088565\n",
      "H[ 0 ][ 1 ]= 1.7191940552423297\n",
      "||y||= 11.34986625319748\n",
      "H[ 1 ][ 1 ]= 11.326897214678784\n",
      "||y||= 0.7217087040995774\n",
      "H[ 2 ][ 1 ]= 0.7217087040995774\n",
      "..........||b-A\\,x_k||= 0.019260517003666537\n",
      "..........||H_k\\,c_k-nr0*e1|| 0.01926051700366657\n",
      "||y||= 10.422489010555749\n",
      "H[ 0 ][ 2 ]= 0.41934046004802106\n",
      "||y||= 10.414049680778465\n",
      "H[ 1 ][ 2 ]= 0.3684434788223787\n",
      "||y||= 10.40752997385236\n",
      "H[ 2 ][ 2 ]= 10.315142671313335\n",
      "||y||= 1.3836588550239322\n",
      "H[ 3 ][ 2 ]= 1.3836588550239322\n",
      "..........||b-A\\,x_k||= 0.002570980403428166\n",
      "..........||H_k\\,c_k-nr0*e1|| 0.0025709804034281416\n",
      "||y||= 10.169575179790765\n",
      "H[ 0 ][ 3 ]= -0.021280089293027604\n",
      "||y||= 10.169552915208026\n",
      "H[ 1 ][ 3 ]= 0.33957210084823974\n",
      "||y||= 10.163881998702148\n",
      "H[ 2 ][ 3 ]= -0.315711877514011\n",
      "||y||= 10.158977472853168\n",
      "H[ 3 ][ 3 ]= 10.142319863167462\n",
      "||y||= 0.5815247949459394\n",
      "H[ 4 ][ 3 ]= 0.5815247949459394\n",
      "..........||b-A\\,x_k||= 0.00014783368300728486\n",
      "..........||H_k\\,c_k-nr0*e1|| 0.00014783368300730674\n",
      "||y||= 9.823158007511235\n",
      "H[ 0 ][ 4 ]= 0.2561828445903154\n",
      "||y||= 9.819816881727974\n",
      "H[ 1 ][ 4 ]= 0.4262796685249377\n",
      "||y||= 9.81056008772547\n",
      "H[ 2 ][ 4 ]= -0.09328974622433545\n",
      "||y||= 9.810116526225434\n",
      "H[ 3 ][ 4 ]= -0.32211526544859526\n",
      "||y||= 9.80482677123295\n",
      "H[ 4 ][ 4 ]= 9.791275692089956\n",
      "||y||= 0.5153138222236144\n",
      "H[ 5 ][ 4 ]= 0.5153138222236144\n",
      "..........||b-A\\,x_k||= 7.76873068760265e-06\n",
      "..........||H_k\\,c_k-nr0*e1|| 7.76873068761686e-06\n",
      "||y||= 9.969746651742577\n",
      "H[ 0 ][ 5 ]= -0.04697299611379646\n",
      "||y||= 9.969635993233073\n",
      "H[ 1 ][ 5 ]= -0.27975167746253193\n",
      "||y||= 9.96571025248704\n",
      "H[ 2 ][ 5 ]= -0.5725297518511097\n",
      "||y||= 9.949250751678269\n",
      "H[ 3 ][ 5 ]= 0.00877795529263814\n",
      "||y||= 9.949246879401048\n",
      "H[ 4 ][ 5 ]= -0.3047268120533717\n",
      "||y||= 9.944579178491532\n",
      "H[ 5 ][ 5 ]= 9.917918080828837\n",
      "||y||= 0.7277059703312329\n",
      "H[ 6 ][ 5 ]= 0.7277059703312329\n",
      "..........||b-A\\,x_k||= 5.683414065229825e-07\n",
      "..........||H_k\\,c_k-nr0*e1|| 5.683414064921363e-07\n",
      "||y||= 9.640318463461552\n",
      "H[ 0 ][ 6 ]= 0.04276889428151831\n",
      "||y||= 9.640223591734772\n",
      "H[ 1 ][ 6 ]= -0.283587625853276\n",
      "||y||= 9.636051523165625\n",
      "H[ 2 ][ 6 ]= -0.41934495937086935\n",
      "||y||= 9.626922600818643\n",
      "H[ 3 ][ 6 ]= 0.2336008970036092\n",
      "||y||= 9.624087976690149\n",
      "H[ 4 ][ 6 ]= -0.15636566914433003\n",
      "||y||= 9.622817631057181\n",
      "H[ 5 ][ 6 ]= 0.2585869424555448\n",
      "||y||= 9.619342594677478\n",
      "H[ 6 ][ 6 ]= 9.615063947325993\n",
      "||y||= 0.2868749598837622\n",
      "H[ 7 ][ 6 ]= 0.2868749598837622\n",
      "..........||b-A\\,x_k||= 1.7029681867374032e-08\n",
      "..........||H_k\\,c_k-nr0*e1|| 1.7029681827538727e-08\n",
      "||y||= 10.532047850001968\n",
      "H[ 0 ][ 7 ]= -0.048413487072684\n",
      "||y||= 10.531936576385206\n",
      "H[ 1 ][ 7 ]= -0.06646944506013819\n",
      "||y||= 10.531726822410175\n",
      "H[ 2 ][ 7 ]= -0.17828312185782869\n",
      "||y||= 10.530217708591524\n",
      "H[ 3 ][ 7 ]= -0.20403735500760245\n",
      "||y||= 10.528240771757456\n",
      "H[ 4 ][ 7 ]= -0.40905605177058735\n",
      "||y||= 10.52029119818486\n",
      "H[ 5 ][ 7 ]= -0.3095896890229701\n",
      "||y||= 10.515734930049186\n",
      "H[ 6 ][ 7 ]= 0.30861069540829433\n",
      "||y||= 10.511205475954513\n",
      "H[ 7 ][ 7 ]= 10.504668848980366\n",
      "||y||= 0.37063854494322845\n",
      "H[ 8 ][ 7 ]= 0.37063854494322845\n",
      "..........||b-A\\,x_k||= 6.013215120564611e-10\n",
      "..........||H_k\\,c_k-nr0*e1|| 6.0132140907225e-10\n",
      "||y||= 9.846029418564074\n",
      "H[ 0 ][ 8 ]= -0.8563405510774977\n",
      "||y||= 9.808719395099926\n",
      "H[ 1 ][ 8 ]= 0.1856905419518522\n",
      "||y||= 9.806961567908742\n",
      "H[ 2 ][ 8 ]= -0.23495483825684427\n",
      "||y||= 9.804146644069476\n",
      "H[ 3 ][ 8 ]= -0.1909088463466968\n",
      "||y||= 9.802287754948095\n",
      "H[ 4 ][ 8 ]= 0.12489880358345329\n",
      "||y||= 9.801492004775028\n",
      "H[ 5 ][ 8 ]= 0.12432903737014067\n",
      "||y||= 9.800703434454865\n",
      "H[ 6 ][ 8 ]= 0.253754734116759\n",
      "||y||= 9.797417840688878\n",
      "H[ 7 ][ 8 ]= 0.6077823515545473\n",
      "||y||= 9.77854779393073\n",
      "H[ 8 ][ 8 ]= 9.774970872130636\n",
      "||y||= 0.2644643779135238\n",
      "H[ 9 ][ 8 ]= 0.2644643779135238\n",
      "..........||b-A\\,x_k||= 1.6308370529720544e-11\n",
      "..........||H_k\\,c_k-nr0*e1|| 1.630845021893035e-11\n",
      "||y||= 10.156175067395175\n",
      "H[ 0 ][ 9 ]= 0.15679892843639942\n",
      "||y||= 10.154964603366206\n",
      "H[ 1 ][ 9 ]= 0.529033063215079\n",
      "||y||= 10.141174986836873\n",
      "H[ 2 ][ 9 ]= 0.09262470491180474\n",
      "||y||= 10.140751982850476\n",
      "H[ 3 ][ 9 ]= 0.033990379617877875\n",
      "||y||= 10.140695017195778\n",
      "H[ 4 ][ 9 ]= -0.040111540619396924\n",
      "||y||= 10.140615686243535\n",
      "H[ 5 ][ 9 ]= -0.2135453624021184\n",
      "||y||= 10.138366972756755\n",
      "H[ 6 ][ 9 ]= 0.5764153737683279\n",
      "||y||= 10.121967703523287\n",
      "H[ 7 ][ 9 ]= 0.038479153453425896\n",
      "||y||= 10.121894563070592\n",
      "H[ 8 ][ 9 ]= -0.18592145453151687\n",
      "||y||= 10.120186893465105\n",
      "H[ 9 ][ 9 ]= 10.120186891234683\n",
      "||y||= 0.00021247248350874984\n",
      "..........||b-A\\,x_k||= 2.603713031901112e-15\n",
      "..........||H_k\\,c_k-nr0*e1|| 2.0862989782243366e-15\n",
      "2.603713031901112e-15\n"
     ]
    }
   ],
   "source": [
    "A = np.random.rand(10,10)+10*np.eye(10)\n",
    "b = np.random.rand(10)\n",
    "x_our, out_res = GMRes(A, b, m=10,flag_display=True, threshold=1e-15)\n",
    "norm_full=np.linalg.norm(b-np.dot(A,x_our))\n",
    "print(norm_full)"
   ]
  },
  {
   "cell_type": "markdown",
   "metadata": {},
   "source": [
    "<div id='Proi' />\n",
    "\n",
    "## Plotting the residual over the iterations\n",
    "[Back to TOC](#toc)"
   ]
  },
  {
   "cell_type": "code",
   "execution_count": 7,
   "metadata": {},
   "outputs": [
    {
     "data": {
      "image/png": "[encoded data removed]",
      "text/plain": [
       "<Figure size 576x576 with 1 Axes>"
      ]
     },
     "metadata": {
      "needs_background": "light"
     },
     "output_type": "display_data"
    }
   ],
   "source": [
    "plt.figure(figsize=(M,M))\n",
    "plt.semilogy(out_res,'.k',markersize=20,label='residual')\n",
    "plt.grid(True)\n",
    "plt.xlabel(r'$k$')\n",
    "plt.ylabel(r'$\\|\\|\\mathbf{b}-A\\,\\mathbf{x}_k\\|\\|_2$')\n",
    "plt.grid(True)\n",
    "plt.show()"
   ]
  },
  {
   "cell_type": "markdown",
   "metadata": {},
   "source": [
    "<div id='TP' />\n",
    "\n",
    "## Theoretical Problems\n",
    "[Back to TOC](#toc)"
   ]
  },
  {
   "cell_type": "markdown",
   "metadata": {},
   "source": [
    "1. Prove that in GMRES method, the backward error $||b- Ax_k||$ decreases monotonically with k.\n",
    "2. What would happen if we pass a singular matrix $A$ to the previous implementation of GMRes?\n",
    "3. Prove that for\n",
    "\\begin{equation}\n",
    "A=\n",
    "\\left[\n",
    "\\begin{array}{c|c}\n",
    "I & C \\\\\n",
    "\\hline\n",
    "0 & I\n",
    "\\end{array}\n",
    "\\right]\n",
    "\\end{equation}\n",
    "and any $x_0$ and $b$, GMRES converges to the exact solution after **two** steps. Here $C$ is a $m_1 \\times m_2$ submatrix, $0$ denotes the $m_2 \\times m_1$ matrix of zeros, and $I$ denotes the appropiate-sized identity matrix."
   ]
  },
  {
   "cell_type": "markdown",
   "metadata": {},
   "source": [
    "<div id='PP' />\n",
    "\n",
    "## Practical Problems\n",
    "[Back to TOC](#toc)"
   ]
  },
  {
   "cell_type": "markdown",
   "metadata": {},
   "source": [
    "1. A possible improvement to the present algorithm consists on taking out of the loop the least squares computations, since the _Krylov_ subspace spaned by $Q_k$ doesn't depend on previous least squares calculations.\n",
    "    * Verify the truth of the above statement.\n",
    "    * Verify if it is really an improvement.\n",
    "    * Implement it.\n",
    "    * Test both implementations using `%timeit`\n",
    "1. The GMRES method is meant for huge $n\\times n$ sparse matrices $A$. In most cases, the goal is to run the method for $k$ steps (with $k << n$), reducing the complexity of the subproblems (Least squares). Neverthless for $k$ values too small, the solution $x_k$ could be not as good as needed. So to keep the values $k$ small and avoid bad solutions, there exists a variation of the algorithm known as **Restarted GMRES**: If no enough progress is made toward the solution after $k$ iterations, discard $Q_k$ and start GMRES from the beginning, using the current best guess $x_k$ as the new $x_0$.\n",
    "    * Implement the Restarted GMRES method. Introduce a tolerance parameter to stop restarting.\n",
    "    * Compare the asymptotic operation count and storage requirements of GMRES and Restarted GMRES, for fixed $k$ and increasing $n$.\n",
    "    * Execute it on a _huge_ linear system $A x = b$, and compare the solution with the solution of standard GMRES. Keep a value of $k$ small, and count how many times Restarted GMRES has to restart. Perform benchmarks using `%timeit` and `%memit` and verify the results.\n",
    "    * Describe an example in which Restared GMRES can be expected to fail to converge, whereas GMRES succeds."
   ]
  },
  {
   "cell_type": "markdown",
   "metadata": {},
   "source": [
    "<div id='acknowledgements' />\n",
    "\n",
    "# Acknowledgements\n",
    "[Back to TOC](#toc)\n",
    "\n",
    "* _Material created by professor Claudio Torres_ (`ctorres@inf.utfsm.cl`) _and assistants: Laura Bermeo, Alvaro Salinas, Axel Simonsen and Martín Villanueva. DI UTFSM. April 2016._\n",
    "* _Material updated by professor Claudio Torres_ (`ctorres@inf.utfsm.cl`). DI UTFSM. June 2017.\n",
    "* _Update July 2020 - v1.21 - C.Torres_ : Fixing formatting issues.\n",
    "* _Update June 2021 - v1.22 - C.Torres_ : Updating format and adding link to TOC. Improving GMRes description. Adding `rcond=None` to  np.linalg.lstsq.\n",
    "* _Update June 2022 - v1.23 - C.Torres_ : Fixing some LaTeX issues."
   ]
  },
  {
   "cell_type": "code",
   "execution_count": null,
   "metadata": {},
   "outputs": [],
   "source": []
  }
 ],
 "metadata": {
  "anaconda-cloud": {},
  "kernelspec": {
   "display_name": "Python 3.9.12 ('base')",
   "language": "python",
   "name": "python3"
  },
  "language_info": {
   "codemirror_mode": {
    "name": "ipython",
    "version": 3
   },
   "file_extension": ".py",
   "mimetype": "text/x-python",
   "name": "python",
   "nbconvert_exporter": "python",
   "pygments_lexer": "ipython3",
   "version": "3.9.12"
  },
  "vscode": {
   "interpreter": {
    "hash": "3d597f4c481aa0f25dceb95d2a0067e73c0966dcbd003d741d821a7208527ecf"
   }
  }
 },
 "nbformat": 4,
 "nbformat_minor": 4
}
