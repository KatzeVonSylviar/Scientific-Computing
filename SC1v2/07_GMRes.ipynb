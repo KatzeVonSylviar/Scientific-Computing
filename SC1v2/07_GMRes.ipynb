{
 "cells": [
  {
   "cell_type": "markdown",
   "metadata": {},
   "source": [
    "<center>\n",
    "    <img src=\"http://sct.inf.utfsm.cl/wp-content/uploads/2020/04/logo_di.png\" style=\"width:60%\">\n",
    "    <h1> INF285 - Computación Científica </h1>\n",
    "    <h2> Generalized Minimal Residual Method </h2>\n",
    "    <h2> <a href=\"#acknowledgements\"> [S]cientific [C]omputing [T]eam </a> </h2>\n",
    "    <h2> Version: 1.23</h2>\n",
    "</center>"
   ]
  },
  {
   "cell_type": "markdown",
   "metadata": {},
   "source": [
    "<div id='toc' />\n",
    "\n",
    "## Table of Contents\n",
    "* [Introduction](#intro)\n",
    "* [A quick review on Least Squares](#LS)\n",
    "* [GMRes](#GMRes)\n",
    "    * [A very simple example](#AVSE)\n",
    "    * [Another example, how may iteration does it need to converge?](#AEx)\n",
    "    * [Plotting the residual over the iterations](#Proi)\n",
    "* [Theoretical Problems](#TP)\n",
    "* [Practical Problems](#PP)\n",
    "* [Acknowledgements](#acknowledgements)"
   ]
  },
  {
   "cell_type": "code",
   "execution_count": 1,
   "metadata": {},
   "outputs": [],
   "source": [
    "import numpy as np\n",
    "import scipy as sp\n",
    "from scipy import linalg as la\n",
    "import matplotlib.pyplot as plt\n",
    "import scipy.sparse.linalg\n",
    "%matplotlib inline\n",
    "#%load_ext memory_profiler\n",
    "import matplotlib as mpl\n",
    "mpl.rcParams['font.size'] = 14\n",
    "mpl.rcParams['axes.labelsize'] = 20\n",
    "mpl.rcParams['xtick.labelsize'] = 14\n",
    "mpl.rcParams['ytick.labelsize'] = 14\n",
    "M=8"
   ]
  },
  {
   "cell_type": "markdown",
   "metadata": {},
   "source": [
    "<div id='intro' />\n",
    "\n",
    "## Introduction\n",
    "[Back to TOC](#toc)\n",
    "\n",
    "Welcome to another edition of our Jupyter Notebooks. A few notebooks back, we saw that the Conjugate Gradient Method, an iterative method, was very useful to solve $A\\,\\mathbf{x}=\\mathbf{b}$ but it only worked when $A$ was positive definite and symmetric. So now we need an iterative method that works with nonsymmetric linear system of equations, and for that we have the Generalized Minimum Residual Method (GMRes). It works really well for finding the solution of large, sparse (and dense as well), nonsymmetric linear systems of equations. Of course, it will also have trouble for ill-conditioned linear system of equations. But it is really easy to add a left or right or both preconditioners!"
   ]
  },
  {
   "cell_type": "markdown",
   "metadata": {},
   "source": [
    "<div id='LS' />\n",
    "\n",
    "## A quick review on Least Squares\n",
    "[Back to TOC](#toc)"
   ]
  },
  {
   "cell_type": "markdown",
   "metadata": {},
   "source": [
    "Least Squares is used to solve overdetemined linear systems of equations $A\\,\\mathbf{x} = \\mathbf{b}$. That is, for example, a linear system of equations where there are more equations than unknowns. It finds the _best_ $\\overline{\\mathbf{x}}$ so that it minimizes the euclidean length of $\\mathbf{r} = \\mathbf{b} - A\\,\\mathbf{x}$.\n",
    "\n",
    "So, you might be wondering, what does Least Squares have to do with GMRes? WELL, since you're dying to know, I'll tell you: the backward error of the system in GMRes is minimized at each iteration step using a Least Squares formulation."
   ]
  },
  {
   "cell_type": "markdown",
   "metadata": {},
   "source": [
    "<div id='GMRes' />\n",
    "\n",
    "## GMRes\n",
    "[Back to TOC](#toc)\n",
    "\n",
    "GMRes is a member of the family of Krylov methods.\n",
    "It solve a square linear system of equations $A\\,\\mathbf{x}=\\mathbf{b}$, for $A\\in\\mathbb{R}^{n \\times n}$ nonsingular, $\\mathbf{x}\\in\\mathbb{R}^n$ and $\\mathbf{b}\\in\\mathbb{R}^n$.\n",
    "It finds an approximation of $\\mathbf{x}$ restricted to _live_ on the Krylov sub-space $\\mathcal{K}_k$,  where $\\mathcal{K}_k=\\{\\mathbf{r}_0, A\\,\\mathbf{r}_0, A^2\\,\\mathbf{r}_0, \\cdots, A^{k-1}\\,\\mathbf{r}_0\\}$ and $\\mathbf{r}_0 = \\mathbf{b} - A\\,\\mathbf{x}_0$ is the residual vector of the initial guess.\n",
    "\n",
    "The idea behind this method is to look for improvements to the initial guess $\\mathbf{x}_0$ in the Krylov sub-space. \n",
    "At the $(k+1)$-th iteration, we enlarge the Krylov space by adding $A^k\\,\\mathbf{r}_0$, reorthogonalize it against  the basis, and then use least squares to find the best improvement to add to $\\mathbf{x}_0$.\n",
    "\n",
    "The algorithm is as follows:"
   ]
  },
  {
   "cell_type": "markdown",
   "metadata": {},
   "source": [
    "`Generalized Minimum Residual Method`\n",
    "\n",
    "$\\mathbf{x}_0$ `= initial guess`<br>\n",
    "$\\mathbf{r}$ `=` $\\mathbf{b} - A\\,\\mathbf{x}_0$<br>\n",
    "$\\mathbf{q}_1$ `=` $\\mathbf{r} / \\|\\mathbf{r}\\|_2$<br>\n",
    "`for` $k = 1, ..., n$<br>\n",
    "$\\qquad \\ \\ \\mathbf{y} = A\\,\\mathbf{q}_k$<br>\n",
    "$\\qquad$ `for` $j = 1,2,...,k$ <br>\n",
    "$\\qquad \\qquad$ $h_{jk} = \\mathbf{q}_j^*\\,\\mathbf{y}$<br>\n",
    "$\\qquad \\qquad$ $\\mathbf{y} = \\mathbf{y} - h_{jk}\\, \\mathbf{q}_j$<br>\n",
    "$\\qquad$ `end`<br>\n",
    "$\\qquad h_{k+1,k} = \\|\\mathbf{y}\\|_2$ <br>\n",
    "$\\qquad$ `if` $h_{k+1,k}>0:$ <br>\n",
    "$\\qquad \\qquad\\ \\mathbf{q}_{k+1} = \\mathbf{y}/h_{k+1,k}$ <br>\n",
    "$\\qquad \\overline{\\mathbf{c}}_k=\\text{argmin}_{\\mathbf{c}_k}\\left\\|[\\|\\mathbf{r}\\|_2, 0, 0, \\dots, 0]^T-\\widehat{H}_k\\,\\mathbf{c}_k\\right\\|_2$ <br>\n",
    "$\\qquad$ $\\mathbf{x}_k = Q_k \\, \\overline{\\mathbf{c}}_k + \\mathbf{x}_0$ <br>\n",
    "`end`"
   ]
  },
  {
   "cell_type": "markdown",
   "metadata": {},
   "source": [
    "Now we have to implement it."
   ]
  },
  {
   "cell_type": "code",
   "execution_count": 2,
   "metadata": {},
   "outputs": [],
   "source": [
    "# This is a very instructive implementation of GMRes.\n",
    "def GMRes(A, b, x0=np.array([0.0]), m=10, flag_display=True, threshold=1e-12):\n",
    "    n = len(b)\n",
    "    if len(x0)==1:\n",
    "        x0=np.zeros(n)\n",
    "    r0 = b - np.dot(A, x0)\n",
    "    nr0=np.linalg.norm(r0)\n",
    "    out_res=np.array(nr0)\n",
    "    Q = np.zeros((n,n))\n",
    "    H = np.zeros((n,n))\n",
    "    Q[:,0] = r0 / nr0\n",
    "    flag_break=False\n",
    "    for k in np.arange(np.min((m,n))):\n",
    "        y = np.dot(A, Q[:,k])\n",
    "        if flag_display:\n",
    "            print('||y||=',np.linalg.norm(y))\n",
    "        for j in np.arange(k+1):\n",
    "            H[j][k] = np.dot(Q[:,j], y)\n",
    "            if flag_display:\n",
    "                print('H[',j,'][',k,']=',H[j][k])\n",
    "            y = y - np.dot(H[j][k],Q[:,j])\n",
    "            if flag_display:\n",
    "                print('||y||=',np.linalg.norm(y))\n",
    "        # All but the last equation are treated equally. Why?\n",
    "        if k+1<n:\n",
    "            H[k+1][k] = np.linalg.norm(y)\n",
    "            if flag_display:\n",
    "                print('H[',k+1,'][',k,']=',H[k+1][k])\n",
    "            if (np.abs(H[k+1][k]) > 1e-16):\n",
    "                Q[:,k+1] = y/H[k+1][k]\n",
    "            else:\n",
    "                print('flag_break has been activated')\n",
    "                flag_break=True\n",
    "            # Do you remember e_1? The canonical vector.\n",
    "            e1 = np.zeros((k+1)+1)        \n",
    "            e1[0]=1\n",
    "            H_tilde=H[0:(k+1)+1,0:k+1]\n",
    "        else:\n",
    "            H_tilde=H[0:k+1,0:k+1]\n",
    "        # Solving the 'SMALL' least square problem. \n",
    "        # This could be improved with Givens rotations!\n",
    "        ck = np.linalg.lstsq(H_tilde, nr0*e1,rcond=None)[0] \n",
    "        if k+1<n:\n",
    "            x = x0 + np.dot(Q[:,0:(k+1)], ck)\n",
    "        else:\n",
    "            x = x0 + np.dot(Q, ck)\n",
    "        # Why is 'norm_small' equal to 'norm_full'?\n",
    "        norm_small=np.linalg.norm(np.dot(H_tilde,ck)-nr0*e1)\n",
    "        out_res = np.append(out_res,norm_small)\n",
    "        if flag_display:\n",
    "            norm_full=np.linalg.norm(b-np.dot(A,x))\n",
    "            print('..........||b-A\\,x_k||=',norm_full)\n",
    "            print('..........||H_k\\,c_k-nr0*e1||',norm_small);\n",
    "        if flag_break:\n",
    "            if flag_display: \n",
    "                print('EXIT: flag_break=True')\n",
    "            break\n",
    "        if norm_small<threshold:\n",
    "            if flag_display:\n",
    "                print('EXIT: norm_small<threshold')\n",
    "            break\n",
    "    return x, out_res"
   ]
  },
  {
   "cell_type": "markdown",
   "metadata": {},
   "source": [
    "<div id='AVSE' />\n",
    "\n",
    "## A very simple example\n",
    "[Back to TOC](#toc)"
   ]
  },
  {
   "cell_type": "code",
   "execution_count": 3,
   "metadata": {},
   "outputs": [],
   "source": [
    "A = np.array([[1,1,0],[0,1,0],[0,1,1]])\n",
    "b = np.array([1,2,3])\n",
    "x0 = np.zeros(3)"
   ]
  },
  {
   "cell_type": "code",
   "execution_count": 4,
   "metadata": {},
   "outputs": [
    {
     "name": "stdout",
     "output_type": "stream",
     "text": [
      "||y||= 1.647508942095828\n",
      "H[ 0 ][ 0 ]= 1.5714285714285714\n",
      "||y||= 0.4948716593053935\n",
      "H[ 1 ][ 0 ]= 0.4948716593053935\n",
      "..........||b-A\\,x_k||= 1.1239029738980326\n",
      "..........||H_k\\,c_k-nr0*e1|| 1.1239029738980326\n",
      "||y||= 0.7867957924694432\n",
      "H[ 0 ][ 1 ]= -0.6598288790738581\n",
      "||y||= 0.4285714285714286\n",
      "H[ 1 ][ 1 ]= 0.4285714285714286\n",
      "||y||= 1.1443916996305594e-16\n",
      "H[ 2 ][ 1 ]= 1.1443916996305594e-16\n",
      "..........||b-A\\,x_k||= 1.0175362097255202e-15\n",
      "..........||H_k\\,c_k-nr0*e1|| 4.920762688787672e-16\n",
      "EXIT: norm_small<threshold\n",
      "--------------------------------\n",
      "x_scipy [-1.  2.  1.]\n",
      "x_our [-1.  2.  1.]\n",
      "x_np [-1.  2.  1.]\n"
     ]
    }
   ],
   "source": [
    "# scipy gmres\n",
    "x_scipy = scipy.sparse.linalg.gmres(A,b,x0)[0]\n",
    "# our gmres\n",
    "x_our, _ = GMRes(A,b)\n",
    "# numpy solve\n",
    "x_np= np.linalg.solve(A,b)\n",
    "\n",
    "# Showing the solutions\n",
    "print('--------------------------------')\n",
    "print('x_scipy',x_scipy)\n",
    "print('x_our',x_our)\n",
    "print('x_np',x_np)"
   ]
  },
  {
   "cell_type": "markdown",
   "metadata": {},
   "source": [
    "<div id='AEx' />\n",
    "\n",
    "## Another example, how may iteration does it need to converge?\n",
    "[Back to TOC](#toc)"
   ]
  },
  {
   "cell_type": "code",
   "execution_count": 5,
   "metadata": {},
   "outputs": [
    {
     "name": "stdout",
     "output_type": "stream",
     "text": [
      "||y||= 0.9999999999999999\n",
      "H[ 0 ][ 0 ]= 0.0\n",
      "||y||= 0.9999999999999999\n",
      "H[ 1 ][ 0 ]= 0.9999999999999999\n",
      "..........||b-A\\,x_k||= 1.4142135623730951\n",
      "..........||H_k\\,c_k-nr0*e1|| 1.4142135623730951\n",
      "||y||= 1.0\n",
      "H[ 0 ][ 1 ]= 1.0\n",
      "||y||= 1.5700924586837752e-16\n",
      "H[ 1 ][ 1 ]= 0.0\n",
      "||y||= 1.5700924586837752e-16\n",
      "H[ 2 ][ 1 ]= 1.5700924586837752e-16\n",
      "..........||b-A\\,x_k||= 3.1401849173675503e-16\n",
      "..........||H_k\\,c_k-nr0*e1|| 2.2204460492503136e-16\n",
      "EXIT: norm_small<threshold\n",
      "3.1401849173675503e-16\n"
     ]
    }
   ],
   "source": [
    "A = np.array([[0,0,0,1],[1,0,0,0],[0,1,0,0],[0,0,1,0]])\n",
    "b = np.array([1,0,1,0])\n",
    "x_our, _ = GMRes(A, b, m=10)\n",
    "norm_full=np.linalg.norm(b-np.dot(A,x_our))\n",
    "print(norm_full)"
   ]
  },
  {
   "cell_type": "code",
   "execution_count": 6,
   "metadata": {
    "scrolled": false
   },
   "outputs": [
    {
     "name": "stdout",
     "output_type": "stream",
     "text": [
      "||y||= 13.392381686810994\n",
      "H[ 0 ][ 0 ]= 13.18819782293616\n",
      "||y||= 2.3296620845806078\n",
      "H[ 1 ][ 0 ]= 2.3296620845806078\n",
      "..........||b-A\\,x_k||= 0.23114637573612035\n",
      "..........||H_k\\,c_k-nr0*e1|| 0.23114637573612035\n",
      "||y||= 11.16601272009107\n",
      "H[ 0 ][ 1 ]= 2.1176478966387604\n",
      "||y||= 10.963366611178202\n",
      "H[ 1 ][ 1 ]= 10.947895247078291\n",
      "||y||= 0.5822345833918966\n",
      "H[ 2 ][ 1 ]= 0.5822345833918966\n",
      "..........||b-A\\,x_k||= 0.012904694797718117\n",
      "..........||H_k\\,c_k-nr0*e1|| 0.012904694797718075\n",
      "||y||= 10.303739986496012\n",
      "H[ 0 ][ 2 ]= 0.7138481677568855\n",
      "||y||= 10.278982367078319\n",
      "H[ 1 ][ 2 ]= -0.11007093168603133\n",
      "||y||= 10.27839301120096\n",
      "H[ 2 ][ 2 ]= 10.25067412428374\n",
      "||y||= 0.754349315930305\n",
      "H[ 3 ][ 2 ]= 0.754349315930305\n",
      "..........||b-A\\,x_k||= 0.0009473742991656015\n",
      "..........||H_k\\,c_k-nr0*e1|| 0.0009473742991655807\n",
      "||y||= 9.9869235397381\n",
      "H[ 0 ][ 3 ]= -0.05889443921407447\n",
      "||y||= 9.986749883400737\n",
      "H[ 1 ][ 3 ]= -0.5114767989579354\n",
      "||y||= 9.973643502638962\n",
      "H[ 2 ][ 3 ]= -0.21163422598024392\n",
      "||y||= 9.971397879541572\n",
      "H[ 3 ][ 3 ]= 9.93774487447149\n",
      "||y||= 0.8185367933341741\n",
      "H[ 4 ][ 3 ]= 0.8185367933341741\n",
      "..........||b-A\\,x_k||= 7.787222305855922e-05\n",
      "..........||H_k\\,c_k-nr0*e1|| 7.787222305853482e-05\n",
      "||y||= 10.158426879977554\n",
      "H[ 0 ][ 4 ]= 0.23386985383698902\n",
      "||y||= 10.1557344179196\n",
      "H[ 1 ][ 4 ]= 0.034356258458176636\n",
      "||y||= 10.155676305141943\n",
      "H[ 2 ][ 4 ]= -0.13930196928145933\n",
      "||y||= 10.15472088125399\n",
      "H[ 3 ][ 4 ]= 0.31134366631634214\n",
      "||y||= 10.149946861812651\n",
      "H[ 4 ][ 4 ]= 10.108796146968311\n",
      "||y||= 0.9130507963191997\n",
      "H[ 5 ][ 4 ]= 0.9130507963191997\n",
      "..........||b-A\\,x_k||= 7.046970198902433e-06\n",
      "..........||H_k\\,c_k-nr0*e1|| 7.046970198881134e-06\n",
      "||y||= 10.25995627224089\n",
      "H[ 0 ][ 5 ]= -0.49228449621399606\n",
      "||y||= 10.24813927906342\n",
      "H[ 1 ][ 5 ]= 0.25863192667039947\n",
      "||y||= 10.244875216887186\n",
      "H[ 2 ][ 5 ]= -0.29576265460238116\n",
      "||y||= 10.24060509255834\n",
      "H[ 3 ][ 5 ]= 0.21083859266144633\n",
      "||y||= 10.238434438407873\n",
      "H[ 4 ][ 5 ]= -0.05800134125016826\n",
      "||y||= 10.238270146562334\n",
      "H[ 5 ][ 5 ]= 10.22134572928432\n",
      "||y||= 0.588444624778527\n",
      "H[ 6 ][ 5 ]= 0.588444624778527\n",
      "..........||b-A\\,x_k||= 4.0641054332705446e-07\n",
      "..........||H_k\\,c_k-nr0*e1|| 4.0641054336241804e-07\n",
      "||y||= 10.061030957370265\n",
      "H[ 0 ][ 6 ]= -0.4814059367350736\n",
      "||y||= 10.049507064987768\n",
      "H[ 1 ][ 6 ]= -0.5857505998773397\n",
      "||y||= 10.032421865331541\n",
      "H[ 2 ][ 6 ]= -0.2952876596213537\n",
      "||y||= 10.028075273055032\n",
      "H[ 3 ][ 6 ]= 0.49117498708363294\n",
      "||y||= 10.0160391779446\n",
      "H[ 4 ][ 6 ]= 0.05523638724304705\n",
      "||y||= 10.015886868153288\n",
      "H[ 5 ][ 6 ]= -0.08445401674858367\n",
      "||y||= 10.015530803442248\n",
      "H[ 6 ][ 6 ]= 10.005188024576576\n",
      "||y||= 0.4550493023508301\n",
      "H[ 7 ][ 6 ]= 0.4550493023508301\n",
      "..........||b-A\\,x_k||= 1.8486640596032405e-08\n",
      "..........||H_k\\,c_k-nr0*e1|| 1.848664056045094e-08\n",
      "||y||= 9.89664722687127\n",
      "H[ 0 ][ 7 ]= 0.08683098237375915\n",
      "||y||= 9.896266301673517\n",
      "H[ 1 ][ 7 ]= -0.13312967929582215\n",
      "||y||= 9.895370796596225\n",
      "H[ 2 ][ 7 ]= 0.1961617272824571\n",
      "||y||= 9.893426291173293\n",
      "H[ 3 ][ 7 ]= -0.10641151879105516\n",
      "||y||= 9.892854005166939\n",
      "H[ 4 ][ 7 ]= -0.5509245346051548\n",
      "||y||= 9.877501836229525\n",
      "H[ 5 ][ 7 ]= -0.06558033565421131\n",
      "||y||= 9.87728412795203\n",
      "H[ 6 ][ 7 ]= -0.1958513023132819\n",
      "||y||= 9.87534222250932\n",
      "H[ 7 ][ 7 ]= 9.832840356746681\n",
      "||y||= 0.9152237597490228\n",
      "H[ 8 ][ 7 ]= 0.9152237597490228\n",
      "..........||b-A\\,x_k||= 1.7135281568248367e-09\n",
      "..........||H_k\\,c_k-nr0*e1|| 1.7135281894065467e-09\n",
      "||y||= 9.850697912898157\n",
      "H[ 0 ][ 8 ]= -0.3944921479700056\n",
      "||y||= 9.842795604723596\n",
      "H[ 1 ][ 8 ]= -0.06757707152066318\n",
      "||y||= 9.842563622134776\n",
      "H[ 2 ][ 8 ]= 0.17821895629921602\n",
      "||y||= 9.840949987647862\n",
      "H[ 3 ][ 8 ]= -0.0610584139137919\n",
      "||y||= 9.840760566616627\n",
      "H[ 4 ][ 8 ]= 0.33823632360682937\n",
      "||y||= 9.834946096388618\n",
      "H[ 5 ][ 8 ]= -0.6179739282125576\n",
      "||y||= 9.815511853332932\n",
      "H[ 6 ][ 8 ]= 0.00786818577738743\n",
      "||y||= 9.815508699734917\n",
      "H[ 7 ][ 8 ]= 0.15703709140160654\n",
      "||y||= 9.814252410983528\n",
      "H[ 8 ][ 8 ]= 9.812155573072026\n",
      "||y||= 0.20286299891180956\n",
      "H[ 9 ][ 8 ]= 0.20286299891180956\n",
      "..........||b-A\\,x_k||= 3.5624518071335086e-11\n",
      "..........||H_k\\,c_k-nr0*e1|| 3.5624422960606625e-11\n",
      "||y||= 9.924069961079162\n",
      "H[ 0 ][ 9 ]= -0.3425285254339119\n",
      "||y||= 9.918157026467055\n",
      "H[ 1 ][ 9 ]= -0.258634136941897\n",
      "||y||= 9.914784273238935\n",
      "H[ 2 ][ 9 ]= -0.1561255614719374\n",
      "||y||= 9.913554962470386\n",
      "H[ 3 ][ 9 ]= 0.1957008240919156\n",
      "||y||= 9.911623135560138\n",
      "H[ 4 ][ 9 ]= -0.06300612261155122\n",
      "||y||= 9.911422875141815\n",
      "H[ 5 ][ 9 ]= -0.10903521867604324\n",
      "||y||= 9.910823110669098\n",
      "H[ 6 ][ 9 ]= -0.15344874836280806\n",
      "||y||= 9.909635120053542\n",
      "H[ 7 ][ 9 ]= 0.15781924764189312\n",
      "||y||= 9.908378338440269\n",
      "H[ 8 ][ 9 ]= 0.16439477208182746\n",
      "||y||= 9.907014467365256\n",
      "H[ 9 ][ 9 ]= 9.907014466934397\n",
      "||y||= 9.239611560443671e-05\n",
      "..........||b-A\\,x_k||= 1.0895610206501939e-15\n",
      "..........||H_k\\,c_k-nr0*e1|| 8.780171811070664e-16\n",
      "EXIT: norm_small<threshold\n",
      "1.0895610206501939e-15\n"
     ]
    }
   ],
   "source": [
    "A = np.random.rand(10,10)+10*np.eye(10)\n",
    "b = np.random.rand(10)\n",
    "x_our, out_res = GMRes(A, b, m=10,flag_display=True, threshold=1e-15)\n",
    "norm_full=np.linalg.norm(b-np.dot(A,x_our))\n",
    "print(norm_full)"
   ]
  },
  {
   "cell_type": "markdown",
   "metadata": {},
   "source": [
    "<div id='Proi' />\n",
    "\n",
    "## Plotting the residual over the iterations\n",
    "[Back to TOC](#toc)"
   ]
  },
  {
   "cell_type": "code",
   "execution_count": 7,
   "metadata": {},
   "outputs": [
    {
     "data": {
      "image/png": "[encoded data removed]",
      "text/plain": [
       "<Figure size 576x576 with 1 Axes>"
      ]
     },
     "metadata": {
      "needs_background": "light"
     },
     "output_type": "display_data"
    }
   ],
   "source": [
    "plt.figure(figsize=(M,M))\n",
    "plt.semilogy(out_res,'.k',markersize=20,label='residual')\n",
    "plt.grid(True)\n",
    "plt.xlabel(r'$k$')\n",
    "plt.ylabel(r'$\\|\\|\\mathbf{b}-A\\,\\mathbf{x}_k\\|\\|_2$')\n",
    "plt.grid(True)\n",
    "plt.show()"
   ]
  },
  {
   "cell_type": "markdown",
   "metadata": {},
   "source": [
    "<div id='TP' />\n",
    "\n",
    "## Theoretical Problems\n",
    "[Back to TOC](#toc)"
   ]
  },
  {
   "cell_type": "markdown",
   "metadata": {},
   "source": [
    "1. Prove that in GMRES method, the backward error $||b- Ax_k||$ decreases monotonically with k.\n",
    "2. What would happen if we pass a singular matrix $A$ to the previous implementation of GMRes?\n",
    "3. Prove that for\n",
    "\\begin{equation}\n",
    "A=\n",
    "\\left[\n",
    "\\begin{array}{c|c}\n",
    "I & C \\\\\n",
    "\\hline\n",
    "0 & I\n",
    "\\end{array}\n",
    "\\right]\n",
    "\\end{equation}\n",
    "and any $x_0$ and $b$, GMRES converges to the exact solution after **two** steps. Here $C$ is a $m_1 \\times m_2$ submatrix, $0$ denotes the $m_2 \\times m_1$ matrix of zeros, and $I$ denotes the appropiate-sized identity matrix."
   ]
  },
  {
   "cell_type": "markdown",
   "metadata": {},
   "source": [
    "<div id='PP' />\n",
    "\n",
    "## Practical Problems\n",
    "[Back to TOC](#toc)"
   ]
  },
  {
   "cell_type": "markdown",
   "metadata": {},
   "source": [
    "1. A possible improvement to the present algorithm consists on taking out of the loop the least squares computations, since the _Krylov_ subspace spaned by $Q_k$ doesn't depend on previous least squares calculations.\n",
    "    * Verify the truth of the above statement.\n",
    "    * Verify if it is really an improvement.\n",
    "    * Implement it.\n",
    "    * Test both implementations using `%timeit`\n",
    "1. The GMRES method is meant for huge $n\\times n$ sparse matrices $A$. In most cases, the goal is to run the method for $k$ steps (with $k << n$), reducing the complexity of the subproblems (Least squares). Neverthless for $k$ values too small, the solution $x_k$ could be not as good as needed. So to keep the values $k$ small and avoid bad solutions, there exists a variation of the algorithm known as **Restarted GMRES**: If no enough progress is made toward the solution after $k$ iterations, discard $Q_k$ and start GMRES from the beginning, using the current best guess $x_k$ as the new $x_0$.\n",
    "    * Implement the Restarted GMRES method. Introduce a tolerance parameter to stop restarting.\n",
    "    * Compare the asymptotic operation count and storage requirements of GMRES and Restarted GMRES, for fixed $k$ and increasing $n$.\n",
    "    * Execute it on a _huge_ linear system $A x = b$, and compare the solution with the solution of standard GMRES. Keep a value of $k$ small, and count how many times Restarted GMRES has to restart. Perform benchmarks using `%timeit` and `%memit` and verify the results.\n",
    "    * Describe an example in which Restared GMRES can be expected to fail to converge, whereas GMRES succeds."
   ]
  },
  {
   "cell_type": "markdown",
   "metadata": {},
   "source": [
    "<div id='acknowledgements' />\n",
    "\n",
    "# Acknowledgements\n",
    "[Back to TOC](#toc)\n",
    "\n",
    "* _Material created by professor Claudio Torres_ (`ctorres@inf.utfsm.cl`) _and assistants: Laura Bermeo, Alvaro Salinas, Axel Simonsen and Martín Villanueva. DI UTFSM. April 2016._\n",
    "* _Material updated by professor Claudio Torres_ (`ctorres@inf.utfsm.cl`). DI UTFSM. June 2017.\n",
    "* _Update July 2020 - v1.21 - C.Torres_ : Fixing formatting issues.\n",
    "* _Update June 2021 - v1.22 - C.Torres_ : Updating format and adding link to TOC. Improving GMRes description. Adding `rcond=None` to  np.linalg.lstsq.\n",
    "* _Update June 2022 - v1.23 - C.Torres_ : Fixing some LaTeX issues."
   ]
  },
  {
   "cell_type": "code",
   "execution_count": null,
   "metadata": {},
   "outputs": [],
   "source": []
  }
 ],
 "metadata": {
  "anaconda-cloud": {},
  "kernelspec": {
   "display_name": "Python 3.9.12 ('base')",
   "language": "python",
   "name": "python3"
  },
  "language_info": {
   "codemirror_mode": {
    "name": "ipython",
    "version": 3
   },
   "file_extension": ".py",
   "mimetype": "text/x-python",
   "name": "python",
   "nbconvert_exporter": "python",
   "pygments_lexer": "ipython3",
   "version": "3.9.12"
  },
  "vscode": {
   "interpreter": {
    "hash": "3ac50632fb3bdf9f343ef51447c90235899ecf2fcb8080338e89f31f890e4206"
   }
  }
 },
 "nbformat": 4,
 "nbformat_minor": 4
}
