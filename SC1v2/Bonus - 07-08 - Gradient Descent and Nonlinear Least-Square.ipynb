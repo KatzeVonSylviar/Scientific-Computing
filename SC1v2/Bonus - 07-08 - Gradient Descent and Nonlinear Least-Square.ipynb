{
 "cells": [
  {
   "cell_type": "markdown",
   "metadata": {},
   "source": [
    "<center>\n",
    "    <img src=\"http://sct.inf.utfsm.cl/wp-content/uploads/2020/04/logo_di.png\" style=\"width:60%\">\n",
    "    <h1> INF285 - Computación Científica </h1>\n",
    "    <h2> Gradient Descent and Nonlinear Least-Square </h2>\n",
    "    <h2> <a href=\"#acknowledgements\"> [S]cientific [C]omputing [T]eam </a> </h2>\n",
    "    <h2> Version: 1.03</h2>\n",
    "</center>"
   ]
  },
  {
   "cell_type": "markdown",
   "metadata": {},
   "source": [
    "<div id='toc' />\n",
    "\n",
    "## Table of Contents\n",
    "* [Introduction](#intro)\n",
    "* [Gradient Descent](#GradientDescent) \n",
    "* [Gradient Descent in 1D](#GradientDescent1D)\n",
    "* [Gradient Descent for a 2D linear least-square problem](#GD_2D_LinearLeastSquare)\n",
    "* [Gradient Descent for a 2D nonlinear least-square problem](#GD_2D_NonLinearLeastSquare)\n",
    "* [Further Study](#FurtherStudy)\n",
    "* [Acknowledgements](#acknowledgements)"
   ]
  },
  {
   "cell_type": "code",
   "execution_count": 1,
   "metadata": {},
   "outputs": [],
   "source": [
    "import numpy as np\n",
    "import matplotlib.pyplot as plt\n",
    "import scipy.linalg as spla\n",
    "%matplotlib inline\n",
    "# https://scikit-learn.org/stable/modules/classes.html#module-sklearn.datasets\n",
    "from sklearn import datasets\n",
    "import ipywidgets as widgets\n",
    "from ipywidgets import interact, interact_manual, RadioButtons\n",
    "import matplotlib as mpl\n",
    "mpl.rcParams['font.size'] = 14\n",
    "mpl.rcParams['axes.labelsize'] = 20\n",
    "mpl.rcParams['xtick.labelsize'] = 14\n",
    "mpl.rcParams['ytick.labelsize'] = 14\n",
    "M=8"
   ]
  },
  {
   "cell_type": "markdown",
   "metadata": {},
   "source": [
    "<div id='intro' />\n",
    "\n",
    "# Introduction\n",
    "[Back to TOC](#toc)\n",
    "\n",
    "This jupyter notebook presents the algorithm of Gradient Descent applied to non-linear least-square problems."
   ]
  },
  {
   "cell_type": "markdown",
   "metadata": {},
   "source": [
    "<div id='GradientDescent' />\n",
    "\n",
    "# Gradient Descent\n",
    "[Back to TOC](#toc)\n",
    "\n",
    "The algorithm of Gradient Descent is used in Optimization, in particular, in problems when we want to minimize a function (or equivalently in maximization problem by changing the sign of the function).\n",
    "This algorithm considers a function $f(\\mathbf{x}):\\mathbb{R}^n \\rightarrow \\mathbb{R}$, which has at least a local minimum near the point $\\mathbf{x}_0$.\n",
    "The algorithm considers that we have access to the gradient of $f(\\mathbf{x})$, i.e. $\\nabla f(\\mathbf{x})$, which indicates the direction of fastest increase of $f(\\mathbf{x})$ at the point $\\mathbf{x}$, or equivalently, $-\\nabla f(\\mathbf{x})$ is teh direction of fastest decrease.\n",
    "Thus, the algorithm is the following,\n",
    "- Select an initial guess, say $\\mathbf{x}_0$\n",
    "- Compute the direction of fastest decrease: $\\mathbf{d}_0=-\\nabla f(\\mathbf{x}_0)$\n",
    "- Update the approximation $\\mathbf{x}_1=\\mathbf{x}_0+\\alpha\\,\\mathbf{d}_0$\n",
    "- Iterate until certain threshold is achieved.\n",
    "where $\\alpha$ is a scaling factor for the Gradient Descent step.\n",
    "The coefficient $\\alpha$ could also depend on on the iteration number, such that it adapts based on the iterations.\n",
    "\n"
   ]
  },
  {
   "cell_type": "markdown",
   "metadata": {},
   "source": [
    "<div id='GradientDescent1D' />\n",
    "\n",
    "# Gradient Descent in 1D\n",
    "[Back to TOC](#toc)\n",
    "\n",
    "To primary explain the algorithm, considere the following 1D example:\n",
    "$$\n",
    "f(x) = (x - 2)\\,\\sin(2\\,x) + x^2.\n",
    "$$\n",
    "We will first plot the function as follows:"
   ]
  },
  {
   "cell_type": "code",
   "execution_count": 2,
   "metadata": {},
   "outputs": [
    {
     "data": {
      "image/png": "[encoded data removed]",
      "text/plain": [
       "<Figure size 576x576 with 1 Axes>"
      ]
     },
     "metadata": {
      "needs_background": "light"
     },
     "output_type": "display_data"
    }
   ],
   "source": [
    "# Defining the function using a 'lambda' definition.\n",
    "f = lambda x: (x - 2)*np.sin(2*x) + np.power(x,2)\n",
    "\n",
    "# Defining the grid for plotting, the number '1000' indicates the number of points of the sample. \n",
    "# Suggestion: Change it and see what happends! For instance, what about if you change to 10?\n",
    "xx = np.linspace(-3,3,1000)\n",
    "# Plotting the function\n",
    "plt.figure(figsize=(8,8))\n",
    "plt.plot(xx,f(xx),'-',label=r'$f(x)$')\n",
    "plt.grid(True)\n",
    "plt.xlabel('$x$')\n",
    "plt.legend(loc='best')\n",
    "plt.show()"
   ]
  },
  {
   "cell_type": "markdown",
   "metadata": {},
   "source": [
    "Now, we will create an interactive use of the Gradient Descent in 1D where you could define the initial guess $x_0$, the scaling factor $\\alpha$ and the iteration number.\n",
    "In this numerical experiment we will the importance of the coefficient $\\alpha$, and how it is related to the 'gradient' and the initial guess."
   ]
  },
  {
   "cell_type": "code",
   "execution_count": 3,
   "metadata": {},
   "outputs": [
    {
     "data": {
      "application/vnd.jupyter.widget-view+json": {
       "model_id": "a5a9ff937dc44bc59ee6c748d59a8af5",
       "version_major": 2,
       "version_minor": 0
      },
      "text/plain": [
       "interactive(children=(FloatSlider(value=2.0, description='x0', max=3.0, min=-3.0), FloatSlider(value=1.0, desc…"
      ]
     },
     "metadata": {},
     "output_type": "display_data"
    },
    {
     "data": {
      "text/plain": [
       "<function __main__.GD_1D(x0=2, alpha=1, n=0)>"
      ]
     },
     "execution_count": 3,
     "metadata": {},
     "output_type": "execute_result"
    }
   ],
   "source": [
    "def GD_1D(x0=2, alpha=1, n=0):\n",
    "    \n",
    "    # Defining the function using a 'lambda' definition and its derivative.\n",
    "    f = lambda x: (x-2)*np.sin(2*x)+np.power(x,2)\n",
    "    fp = lambda x: 2*x+2*(x-2)*np.cos(2*x)+np.sin(2*x)\n",
    "    \n",
    "    # Plotting the function and its derivative.\n",
    "    xx = np.linspace(-3,3,1000)\n",
    "    plt.figure(figsize=(14,7))\n",
    "    \n",
    "    ax = plt.subplot(1,2,1)\n",
    "    plt.plot(xx,f(xx),'b-',label=r'$f(x)$')\n",
    "    # Warning: The 'alpha' parameter for the plt.plot function corresponds to\n",
    "    # a transparency parameter, it is not related to the alpha parameter of\n",
    "    # the Gradient Descent explained before.\n",
    "    plt.plot(xx,fp(xx),'r-',label=r\"$f'(x)$\", alpha=0.5)\n",
    "    plt.grid(True)\n",
    "    plt.xlabel('$x$')\n",
    "    plt.title('Plot in linear scale')\n",
    "    \n",
    "    # Plotting outcome with no iterations\n",
    "    plt.plot(x0,f(x0),'k.',markersize=10,label=r'$x_i$')\n",
    "    plt.plot(x0,fp(x0),'m.',markersize=10,label=r\"$f'(x_i)$: 'Gradient'\")\n",
    "    ax = plt.subplot(1,2,2)\n",
    "    plt.semilogy(xx,np.abs(f(xx)),'b-',label=r\"$|f(x)|$\")\n",
    "    plt.semilogy(xx,np.abs(fp(xx)),'r-',label=r\"$|f'(x)|$\", alpha=0.5)\n",
    "    plt.grid(True)\n",
    "    plt.xlabel('$x$')\n",
    "    plt.title('Plot in logarithmic scale')\n",
    "    plt.semilogy(x0,np.abs(f(x0)),'k.',markersize=10,label=r'$x_i$')\n",
    "    plt.semilogy(x0,np.abs(fp(x0)),'m.',markersize=10,label=r\"$|f'(x_i)|$: 'Gradient'\")\n",
    "    \n",
    "    # Computing steps of Gradient Descent\n",
    "    if n>0:\n",
    "        xi_output=np.zeros(n+1)\n",
    "        xi_output[0]=x0\n",
    "        for k in range(n):\n",
    "            fp_x0=fp(x0)\n",
    "            x1 = x0-alpha*fp_x0\n",
    "            xi_output[k+1]=x1\n",
    "            x0 = x1\n",
    "        ax = plt.subplot(1,2,1)\n",
    "        plt.plot(xi_output,f(xi_output),'k.-',markersize=10,label=r'$x_i$')\n",
    "        plt.plot(xi_output,fp(xi_output),'m.',markersize=10)\n",
    "        ax = plt.subplot(1,2,2)\n",
    "        plt.semilogy(xi_output,np.abs(f(xi_output)),'k.-',markersize=10,label=r'$x_i$')\n",
    "        plt.semilogy(xi_output,np.abs(fp(xi_output)),'m.',markersize=10)\n",
    "        \n",
    "    \n",
    "    # Plotting outcome\n",
    "    ax = plt.subplot(1,2,1)\n",
    "    plt.legend(loc='best')\n",
    "    ax = plt.subplot(1,2,2)\n",
    "    plt.legend(loc='best')\n",
    "    \n",
    "    plt.show()\n",
    "    \n",
    "interact(GD_1D,x0=(-3,3,0.1), alpha=(0,10,0.01), n=(0,100,1))"
   ]
  },
  {
   "cell_type": "markdown",
   "metadata": {},
   "source": [
    "What conclusions could be draw?\n",
    "\n",
    "The main conclusion that can be draw is the importance of the selection of the parameter $\\alpha$ for the success of the task of finding a minimum of a function.\n",
    "Also, as ussual, the initial guess $x_0$ will help us to select different local minima.\n",
    "\n",
    "Question to think about:\n",
    "- What could happen if you normalize the 'gradient'? In 1D this would be computing the following coeficients: $GN=\\frac{f'(x_i)}{|f'(x_i)|}$, this will gives us the 'direction' where we should move (in 1D is just the sign of the derivative), then the coefficient $\\alpha$ may control a bit more the magnitude of each step from $x_i$ to $x_{i+1}$. So, how do we undertand this? Implement it!\n"
   ]
  },
  {
   "cell_type": "markdown",
   "metadata": {},
   "source": [
    "<div id='GD_2D_LinearLeastSquare' />\n",
    "\n",
    "# Gradient Descent for a 2D linear least-square problem\n",
    "[Back to TOC](#toc)\n",
    "\n",
    "In this case we will solve the following least-square problem:\n",
    "$$\n",
    "\\begin{equation}\n",
    "    \\underbrace{\\begin{bmatrix}\n",
    "        1 & x_1 \\\\\n",
    "        1 & x_2 \\\\\n",
    "        1 & x_3 \\\\\n",
    "        \\vdots & \\vdots \\\\\n",
    "        1 & x_m\n",
    "    \\end{bmatrix}}_{\\displaystyle{A}}\n",
    "    \\underbrace{\\begin{bmatrix}\n",
    "        a\\\\\n",
    "        b\n",
    "    \\end{bmatrix}}_{\\mathbf{x}}\n",
    "    =\n",
    "    \\underbrace{\\begin{bmatrix}\n",
    "        y_1 \\\\\n",
    "        y_2 \\\\\n",
    "        y_3 \\\\\n",
    "        \\vdots\\\\\n",
    "        y_m \n",
    "    \\end{bmatrix}}_{\\displaystyle{\\mathbf{b}}}.\n",
    "\\end{equation}\n",
    "$$\n",
    "This overdetermined linear least-square problem can be translated to the following form:\n",
    "$$\n",
    "\\begin{equation}\n",
    "    E(a,b)=\\left\\|\\mathbf{b}-A\\,\\mathbf{x}\\right\\|_2^2=\\sum_{i=1}^m (y_i-a-b\\,x_i)^2.\n",
    "\\end{equation}\n",
    "$$\n",
    "Now, to apply the Gradient Descent algorithm we need to compute the Gradient of $E(a,b)$ with respect to $a$ and $b$, which is the following,\n",
    "$$\n",
    "\\begin{align*}\n",
    "    \\frac{\\partial E}{\\partial a} &= \\sum_{i=1}^m -2\\,(y_i-a-b\\,x_i),\\\\\n",
    "    \\frac{\\partial E}{\\partial b} &= \\sum_{i=1}^m -2\\,x_i\\,(y_i-a-b\\,x_i).\n",
    "\\end{align*}\n",
    "$$\n",
    "Notice that in this case we don't want to cancel out the \"-\" (minus) sign since it will change the direction of the Gradient.\n",
    "Now, we have everything to apply the Gradient Descent in 2D.\n",
    "For comparison purposes, we will also include the solution obtain by the normal equations."
   ]
  },
  {
   "cell_type": "code",
   "execution_count": 4,
   "metadata": {
    "scrolled": false
   },
   "outputs": [
    {
     "data": {
      "application/vnd.jupyter.widget-view+json": {
       "model_id": "e36eebe0b54c42ef8cd7f67d1b2cfaa7",
       "version_major": 2,
       "version_minor": 0
      },
      "text/plain": [
       "interactive(children=(FloatSlider(value=2.0, description='a0', max=4.0, min=-4.0), FloatSlider(value=2.0, desc…"
      ]
     },
     "metadata": {},
     "output_type": "display_data"
    },
    {
     "data": {
      "text/plain": [
       "<function __main__.GD_2D_linear(a0=2, b0=2, alpha=0.01, n=0, m=10)>"
      ]
     },
     "execution_count": 4,
     "metadata": {},
     "output_type": "execute_result"
    }
   ],
   "source": [
    "def GD_2D_linear(a0=2, b0=2, alpha=0.01, n=0, m=10):\n",
    "    \n",
    "    # Building data.\n",
    "    np.random.seed(0)\n",
    "    xi = np.random.normal(size=m)\n",
    "    yi = -2+xi+np.random.normal(loc=0, scale=0.5, size=m)\n",
    "\n",
    "    # Defining matrix A and the right-hand-side.\n",
    "    # Recall that we usually denote as b the right-hand-side but to avoid confusion with\n",
    "    # the coefficient b, we will just call it RHS.\n",
    "    A = np.ones((m,2))\n",
    "    A[:,1] = xi\n",
    "    RHS = yi\n",
    "    \n",
    "    # Defining the Gradient\n",
    "    E = lambda a, b: np.sum(np.power(yi-a-b*xi,2))\n",
    "    G = lambda a, b: np.array([np.sum(-2*(yi-a-b*xi)), np.sum(-2*xi*(yi-a-b*xi))],dtype=float)\n",
    "    # This fucntion will help us to evaluate the Gradient on the points (X[i,j],Y[i,j])\n",
    "    def E_mG_XY(AA,BB):\n",
    "        Z = np.zeros_like(AA)\n",
    "        U = np.zeros_like(AA)\n",
    "        V = np.zeros_like(AA)\n",
    "        for i in range(m):\n",
    "            for j in range(m):\n",
    "                Z[i,j]=E(AA[i,j],BB[i,j])\n",
    "                uv = -G(AA[i,j],BB[i,j])\n",
    "                U[i,j] = uv[0]\n",
    "                V[i,j] = uv[1]\n",
    "        return Z, U, V\n",
    "    \n",
    "    # Plotting the function and its gradient.\n",
    "    # Credits: \n",
    "    #  https://matplotlib.org/stable/gallery/images_contours_and_fields/plot_streamplot.html\n",
    "    #  https://scipython.com/blog/visualizing-a-vector-field-with-matplotlib/\n",
    "    x = np.linspace(-5,5,m)\n",
    "    AA, BB = np.meshgrid(x,x)\n",
    "    fig = plt.figure(figsize=(14,10))\n",
    "    Z, U, V = E_mG_XY(AA,BB)\n",
    "    cont = plt.contour(AA,BB,Z, 100)\n",
    "    stream = plt.streamplot(AA, BB, U, V, color=Z, linewidth=2, cmap='autumn', arrowstyle='->', arrowsize=2)\n",
    "    fig.colorbar(stream.lines)\n",
    "    fig.colorbar(cont)\n",
    "    plt.scatter(a0, b0, s=300, marker='.', c='k')\n",
    "    my_grad = G(a0,b0)\n",
    "    my_title = r'$\\alpha=$ %.4f, $E(a,b)=$ %.4f, $\\nabla E(a,b)=$ [%.4f, %.4f]' %  (alpha, E(a0,b0), my_grad[0], my_grad[1])\n",
    "    plt.title(my_title)\n",
    "    \n",
    "    # Computing steps of Gradient Descent\n",
    "    if n>0:\n",
    "        ab_output=np.zeros((n+1,2))\n",
    "        z0 = np.array([a0,b0],dtype=float)\n",
    "        z0[0] = a0\n",
    "        z0[1] = b0\n",
    "        ab_output[0,:]=z0\n",
    "        # The Gradient Descent Algorithm\n",
    "        for k in range(n):\n",
    "            G_E_0=G(z0[0],z0[1])\n",
    "            z1 = z0-alpha*G_E_0\n",
    "            ab_output[k+1,:]=z1\n",
    "            z0 = z1\n",
    "            plt.scatter(z1[0], z1[1], s=300, marker='.', c='k')\n",
    "        plt.plot(ab_output[:,0],ab_output[:,1],'k-')\n",
    "        my_grad = G(ab_output[-1,0],ab_output[-1,1])\n",
    "        my_title = r'$\\alpha=$ %.4f, $E(a,b)=$ %.4f, $\\nabla E(a,b)=$ [%.4f, %.4f]' %  (alpha, E(ab_output[-1,0],ab_output[-1,1]), my_grad[0], my_grad[1])\n",
    "        plt.title(my_title)\n",
    "    plt.show()\n",
    "    \n",
    "interact(GD_2D_linear, a0=(-4,4,0.1), b0=(-4,4,0.1), alpha=(0,0.1,0.0001), n=(0,100,1), m=(10,100,10))"
   ]
  },
  {
   "cell_type": "markdown",
   "metadata": {},
   "source": [
    "In the previous implementation we used the following notation:\n",
    "- $n$: Number of iteration of Gradient Descent\n",
    "- Black dot: Solution $[a_n,b_n]$ at $n$-th step of the Gradient Descent.\n",
    "- Red-Yellow streamplot: Stream plot of the vector field generated by minus the Gradient of the error function $E(a,b)$\n",
    "- Blue-Green contour: Contour plot of the error function $E(a,b)$.\n",
    "\n",
    "Questions:\n",
    "- Try: $\\alpha=0.02$, $n=20$, and $m=10$. What do you observe? (keep initialization values of $a_0$ and $a_1$)\n",
    "- Try: $\\alpha=0.04$, $n=20$, and $m=10$. What do you observe? (keep initialization values of $a_0$ and $a_1$)\n",
    "- Try: $\\alpha=0.08$, $n=20$, and $m=10$. What do you observe? (keep initialization values of $a_0$ and $a_1$)\n",
    "- Can we use a large value of $\\alpha$?\n",
    "- How is related $\\alpha$ and the iteration number $n$?\n"
   ]
  },
  {
   "cell_type": "markdown",
   "metadata": {},
   "source": [
    "<div id='GD_2D_NonLinearLeastSquare' />\n",
    "\n",
    "# Gradient Descent for a 2D nonlinear least-square problem\n",
    "[Back to TOC](#toc)\n",
    "\n",
    "In this case, we will explore the use of the the Gradient Descent algorithm applied to a nonlinear least-square problem with an exponential fit.\n",
    "Let the function to be fit be,\n",
    "$$\n",
    "\\begin{equation}\n",
    "    y(t) = a\\,\\exp(b\\,t),\n",
    "\\end{equation}\n",
    "$$\n",
    "where the error function is defined as follows,\n",
    "$$\n",
    "\\begin{equation}\n",
    "    E(a,b)=\\sum_{i=1}^m (y_i-a\\,\\exp(b\\,t_i))^2.\n",
    "\\end{equation}\n",
    "$$\n",
    "Now, to apply the Gradient Descent algorithm we need to compute the Gradient of $E(a,b)$ with respect to $a$ and $b$, which is the following,\n",
    "$$\n",
    "\\begin{align*}\n",
    "    \\frac{\\partial E}{\\partial a} &= \\sum_{i=1}^m 2\\,\\exp(b\\,t_i)(a\\,\\exp(b\\,t_i)-y_i),\\\\\n",
    "    \\frac{\\partial E}{\\partial b} &= \\sum_{i=1}^m 2\\,a\\,\\exp(b\\,t_i)\\,t_i\\,(a\\,\\exp(b\\,t_i)-y_i).\n",
    "\\end{align*}\n",
    "$$\n",
    "As you may expect, this approach may create very large values for the gradient, which will be very challenging to handle them numerically.\n",
    "So, an alternative approach is the following,  which we will call it \"The Variant\":\n",
    "- Select an initial guess, say $\\mathbf{x}_0$\n",
    "- Compute the direction of fastest decrease: $\\mathbf{d}_0=-\\nabla E(\\mathbf{x}_0)$\n",
    "- Update the approximation $\\mathbf{x}_1=\\mathbf{x}_0+\\alpha\\,\\frac{\\mathbf{d}_0}{\\|\\mathbf{d}_0\\|}$\n",
    "- Iterate until certain threshold is achieved.\n",
    "Thus, the only change is on the magnitud of the **direction** vector used.\n",
    "In this case, it will be a unitary direction. \n",
    "This brings the advantage that $\\alpha$ now controls the **length** of the update.\n",
    "This is useful when you want to control the increment, otherwise it may require a very fine tuning of the parameter (or in general hyperparameter tuning!)."
   ]
  },
  {
   "cell_type": "code",
   "execution_count": 5,
   "metadata": {
    "scrolled": false
   },
   "outputs": [
    {
     "data": {
      "application/vnd.jupyter.widget-view+json": {
       "model_id": "143bbb79e5bb4688b4ea5fd439250f66",
       "version_major": 2,
       "version_minor": 0
      },
      "text/plain": [
       "interactive(children=(FloatSlider(value=0.75, description='a0', max=2.0, min=-2.0, step=0.01), FloatSlider(val…"
      ]
     },
     "metadata": {},
     "output_type": "display_data"
    },
    {
     "data": {
      "text/plain": [
       "<function __main__.GD_2D_nonlinear(a0=0.75, b0=0.75, alpha=0, n=0, m=10, TheVariantFlag=False)>"
      ]
     },
     "execution_count": 5,
     "metadata": {},
     "output_type": "execute_result"
    }
   ],
   "source": [
    "def GD_2D_nonlinear(a0=0.75, b0=0.75, alpha=0, n=0, m=10, TheVariantFlag=False):\n",
    "    \n",
    "    # Building data.\n",
    "    np.random.seed(0)\n",
    "    a = 1.1\n",
    "    b = 0.23\n",
    "    y = lambda t: a*np.exp(b*t)\n",
    "    T = 10\n",
    "    ti = T*(np.random.rand(m)*2-1)\n",
    "    yi = y(ti)+np.random.normal(loc=0, scale=0.1, size=m)\n",
    "    \n",
    "    # Defining the Gradient\n",
    "    E = lambda a, b: np.sum(np.power(yi-a*np.exp(b*ti),2))\n",
    "    G = lambda a, b: np.array([np.sum(2*np.exp(b*ti)*(a*np.exp(b*ti)-yi)), np.sum(2*a*np.exp(b*ti)*ti*(a*np.exp(b*ti)-yi))],dtype=float)\n",
    "    # This fucntion will help us to evaluate the Gradient on the points (X[i,j],Y[i,j])\n",
    "    def E_mG_XY(AA,BB):\n",
    "        Z = np.zeros_like(AA)\n",
    "        U = np.zeros_like(AA)\n",
    "        V = np.zeros_like(AA)\n",
    "        for i in range(m):\n",
    "            for j in range(m):\n",
    "                Z[i,j]=E(AA[i,j],BB[i,j])\n",
    "                uv = -G(AA[i,j],BB[i,j])\n",
    "                U[i,j] = uv[0]\n",
    "                V[i,j] = uv[1]\n",
    "        return Z, U, V\n",
    "    \n",
    "    # Plotting the function and its gradient.\n",
    "    # Credits: \n",
    "    #  https://matplotlib.org/stable/gallery/images_contours_and_fields/plot_streamplot.html\n",
    "    #  https://scipython.com/blog/visualizing-a-vector-field-with-matplotlib/\n",
    "    x = np.linspace(-3,3,m)\n",
    "    AA, BB = np.meshgrid(x,x)\n",
    "    fig = plt.figure(figsize=(14,10))\n",
    "    Z, U, V = E_mG_XY(AA,BB)\n",
    "    cont = plt.contour(AA,BB,Z, 10)\n",
    "    stream = plt.streamplot(AA, BB, U, V, color=Z, linewidth=2, cmap='autumn', arrowstyle='->', arrowsize=2)\n",
    "    fig.colorbar(stream.lines)\n",
    "    fig.colorbar(cont)\n",
    "    plt.scatter(a0, b0, s=300, marker='.', c='k')\n",
    "    my_grad = G(a0,b0)\n",
    "    my_title = r'$\\alpha=$ %.4f, $E(a,b)=$ %.4f, $\\nabla E(a,b)=$ [%.4f, %.4f]' %  (alpha, E(a0,b0), my_grad[0], my_grad[1])\n",
    "    plt.title(my_title)\n",
    "    \n",
    "    # Computing steps of Gradient Descent\n",
    "    if n>0:\n",
    "        ab_output=np.zeros((n+1,2))\n",
    "        z0 = np.array([a0,b0],dtype=float)\n",
    "        z0[0] = a0\n",
    "        z0[1] = b0\n",
    "        ab_output[0,:]=z0\n",
    "        # The Gradient Descent Algorithm\n",
    "        for k in range(n):\n",
    "            G_E_0=G(z0[0],z0[1])\n",
    "            if not TheVariantFlag:\n",
    "                # Traditional GD\n",
    "                z1 = z0-alpha*G_E_0\n",
    "            else:\n",
    "                # The Variant! Why would this be useful?\n",
    "                z1 = z0-alpha*G_E_0/np.linalg.norm(G_E_0)\n",
    "            ab_output[k+1,:]=z1\n",
    "            z0 = z1\n",
    "            plt.scatter(z1[0], z1[1], s=300, marker='.', c='k')\n",
    "        plt.plot(ab_output[:,0],ab_output[:,1],'k-')\n",
    "        my_grad = G(ab_output[-1,0],ab_output[-1,1])\n",
    "        my_title = r'$\\alpha=$ %.6f, $E(a,b)=$ %.4f, $\\nabla E(a,b)=$ [%.4f, %.4f]' %  (alpha, E(ab_output[-1,0],ab_output[-1,1]), my_grad[0], my_grad[1])\n",
    "        plt.title(my_title)\n",
    "        print('GD found:',ab_output[-1,0],ab_output[-1,1])\n",
    "        \n",
    "    # Plotting the original data and the \"transformed\" solution\n",
    "    # Using the same notation from classnotes:\n",
    "    A = np.ones((m,2))\n",
    "    A[:,1]=ti\n",
    "    K_c2 =np.linalg.lstsq(A,np.log(yi), rcond=None)[0]\n",
    "    c1_ls = np.exp(K_c2[0])\n",
    "    c2_ls = K_c2[1]\n",
    "    print('Transformed Linear LS solution:',c1_ls, c2_ls)\n",
    "    plt.plot(c1_ls,c2_ls,'ms',markersize=20, label='Transformed Linear LS')\n",
    "    print('Original data:',a,b)\n",
    "    plt.plot(a,b,'bd',markersize=20, label='Original data')\n",
    "        \n",
    "    plt.legend(loc='lower right')\n",
    "    plt.show()\n",
    "\n",
    "radio_button_TheVariant=RadioButtons(\n",
    "    options=[('Traditional GD',False),('The Variant GD',True)],\n",
    "    value=False,\n",
    "    description='GD type:',\n",
    "    disabled=False\n",
    ")\n",
    "    \n",
    "interact(GD_2D_nonlinear, a0=(-2,2,0.01), b0=(-2,2,0.01), alpha=(0,1,0.0001), n=(0,1000,1), m=(10,100,10), TheVariantFlag=radio_button_TheVariant)"
   ]
  },
  {
   "cell_type": "markdown",
   "metadata": {},
   "source": [
    "In the previous implementation we used the following notation:\n",
    "- $n$: Number of iteration of Gradient Descent\n",
    "- Black dot: Solution $[a_n,b_n]$ at $n$-th step of the Gradient Descent.\n",
    "- Red-Yellow streamplot: Stream plot of the vector field generated by minus the Gradient of the error function $E(a,b)$\n",
    "- Blue-Green contour: Contour plot of the error function $E(a,b)$.\n"
   ]
  },
  {
   "cell_type": "markdown",
   "metadata": {},
   "source": [
    "<div id='FurtherStudy' />\n",
    "\n",
    "# Further Study\n",
    "[Back to TOC](#toc)\n",
    "\n",
    "Another extension of the Gradient Descent is the so called _Stochastic Gradient Descent Method (SGD)_, very popular in Data Science, Machine Learning and Artificial Neural Networks (ANN) in general.\n",
    "Here a interesting reference: [Link](https://optimization.cbe.cornell.edu/index.php?title=Stochastic_gradient_descent), another good reference is the textbook _[Linear Algebra and learning from data](https://math.mit.edu/~gs/learningfromdata/)_ by Professor Gilbert Strang, page 359.\n",
    "\n",
    "A simple way to undertand the SGD is as follows:\n",
    "- Select an initial guess, say $\\mathbf{x}_0$\n",
    "- Select a sample of data $D_k$ from the dataset $D$, where $k$ indicates the number of _data points_ of the sample.\n",
    "- Define the error only including the _data points_ from the sample $D_k$, and call it $E_k(\\cdot)$\n",
    "- Compute the direction of fastest decrease: $\\mathbf{d}^{[k]}_0=-\\nabla E_k(\\mathbf{x}_0)$\n",
    "- Update the approximation $\\mathbf{x}_1=\\mathbf{x}_0+\\alpha\\,\\mathbf{d}^{[k]}_0$\n",
    "- Iterate until certain threshold is achieved.\n",
    "\n",
    "So, the key point here is that we don't use all the dataset $D$ to update the coefficients on each iteration, it clearly has the advantage that the computation is way faster but the question it arises is that, _would this affect the convergence?_ Answer: Try it numerically! In general, this approximation behaves very well when used in ANN since in ANN they don't want to _overfit_ the coefficients to the dataset.\n",
    "Notice that the size of the sample $k$ could it be even $1$, this makes the computation very fast!\n",
    "\n",
    "Before we finish, it is useful to make the connection between the terminology used here and the terminology used in ANN,\n",
    "- Error function $E(\\cdot)$ $\\rightarrow$ Loss function $L(\\cdot)=\\frac{1}{m}E(\\cdot)$. Notice however that the loss function $L(\\cdot)$ in ANN may not have a quadratic form, for instance it could be $\\frac{1}{m}\\sum |y_i-a-b\\,x_i|$, i.e. the sum of the absolutes values. And in general it may also consider _activator functions_ $\\phi(\\cdot)$ to model neurons, which modify the loss function as follows $\\frac{1}{m}\\sum \\phi(y_i-a-b\\,x_i)$.\n",
    "- Coefficient $\\alpha$ $\\rightarrow$ It is called _learning rate_ in ANN, since it controls how fast the ANN _learns_ from samples. As we say in this jupyter notebook, it is very important for a good _training_.\n",
    "- Adjusting coefficients $\\rightarrow$ Training. This the step where the ANN _learn_ from _samples_. Notice that in ANN it may not be required a low error, since it may affect the _generalization capabilities_ of the ANN.\n",
    "- A brief but useful explanation of Deep Learning is [here](https://math.mit.edu/%7Egs/learningfromdata/siam.pdf)."
   ]
  },
  {
   "cell_type": "markdown",
   "metadata": {},
   "source": [
    "<div id='acknowledgements' />\n",
    "\n",
    "# Acknowledgements\n",
    "[Back to TOC](#toc)\n",
    "* _Material created by professor Claudio Torres_ (`ctorres@inf.utfsm.cl`) DI UTFSM. November 2021.- v1.0.\n",
    "* _Update November 2021 - v1.01 - C.Torres_ : Fixing TOC.\n",
    "* _Update November 2021 - v1.02 - C.Torres_ : Fixing titles size, typos and adding further study section.\n",
    "* _Update June 2022 - v1.03 - C.Torres_ : Fixing typo."
   ]
  },
  {
   "cell_type": "code",
   "execution_count": null,
   "metadata": {},
   "outputs": [],
   "source": []
  }
 ],
 "metadata": {
  "anaconda-cloud": {},
  "kernelspec": {
   "display_name": "Python 3.9.12 ('base')",
   "language": "python",
   "name": "python3"
  },
  "language_info": {
   "codemirror_mode": {
    "name": "ipython",
    "version": 3
   },
   "file_extension": ".py",
   "mimetype": "text/x-python",
   "name": "python",
   "nbconvert_exporter": "python",
   "pygments_lexer": "ipython3",
   "version": "3.9.12"
  },
  "vscode": {
   "interpreter": {
    "hash": "3d597f4c481aa0f25dceb95d2a0067e73c0966dcbd003d741d821a7208527ecf"
   }
  },
  "widgets": {
   "state": {
    "7fd91d6f0d2545e7af10aae93cfe07e9": {
     "views": [
      {
       "cell_index": 15
      }
     ]
    }
   },
   "version": "1.2.0"
  }
 },
 "nbformat": 4,
 "nbformat_minor": 4
}
