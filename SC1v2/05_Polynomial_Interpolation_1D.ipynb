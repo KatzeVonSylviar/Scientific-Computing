{
 "cells": [
  {
   "cell_type": "markdown",
   "metadata": {},
   "source": [
    "<center>\n",
    "    <img src=\"http://sct.inf.utfsm.cl/wp-content/uploads/2020/04/logo_di.png\" style=\"width:60%\">\n",
    "    <h1> INF285 - Computación Científica </h1>\n",
    "    <h2> Polynomial Interpolation: Vandermonde matrix, Lagrange interpolation, Barycentric interpolation, and Chebyshev points. </h2>\n",
    "    <h2> <a href=\"#acknowledgements\"> [S]cientific [C]omputing [T]eam </a> </h2>\n",
    "    <h2> Version: 1.34</h2>\n",
    "</center>"
   ]
  },
  {
   "cell_type": "markdown",
   "metadata": {},
   "source": [
    "<div id='toc' />\n",
    "\n",
    "## Table of Contents\n",
    "* [Introduction](#intro)\n",
    "* [Vandermonde Matrix](#vander)\n",
    "    * [Is the Vandermonde matrix really ill-conditioned?](#vandermonde_illconditioned)\n",
    "* [Lagrange Interpolation](#lagrange)\n",
    "    * [Plotting $L_i(x)$](#LiLagrange)\n",
    "* [Barycentric interpolation](#barycentric)\n",
    "* [Interpolation Error](#Error)\n",
    "* [Runge Phenomenon](#runge)\n",
    "* [Interpolation with Chebyshev points](#cheby)\n",
    "* [Python Modules and Functions](#py)\n",
    "* [Acknowledgements](#acknowledgements)"
   ]
  },
  {
   "cell_type": "code",
   "execution_count": 1,
   "metadata": {},
   "outputs": [],
   "source": [
    "import numpy as np\n",
    "import matplotlib.pyplot as plt\n",
    "import sympy as sym\n",
    "from functools import reduce\n",
    "import matplotlib as mpl\n",
    "mpl.rcParams['font.size'] = 14\n",
    "mpl.rcParams['axes.labelsize'] = 20\n",
    "mpl.rcParams['xtick.labelsize'] = 14\n",
    "mpl.rcParams['ytick.labelsize'] = 14\n",
    "%matplotlib inline\n",
    "from ipywidgets import interact, fixed, IntSlider, interact_manual, Checkbox, RadioButtons\n",
    "sym.init_printing()\n",
    "import time"
   ]
  },
  {
   "cell_type": "markdown",
   "metadata": {},
   "source": [
    "<div id='intro' />\n",
    "\n",
    "## Introduction\n",
    "[Back to TOC](#toc)\n",
    "\n",
    "Hello! In this notebook we will learn how to interpolate 1D data with polynomials. \n",
    "A polynomial interpolation consists in finding a polynomial that fits a discrete set of known data points, allowing us to construct new data points within the range of the data. \n",
    "Formally, a polynomial $p(x)$ interpolate the data $(x_1,y_1),...,(x_n,y_n)$ if $p(x_i)=y_i$ for all $i$ in $1,...,n$. "
   ]
  },
  {
   "cell_type": "code",
   "execution_count": 2,
   "metadata": {},
   "outputs": [],
   "source": [
    "# Function that evaluates the xi's points in the polynomial\n",
    "def EvaluateInterpolant(D, xx):\n",
    "    if D['Method']=='Vandermonde':\n",
    "        p = lambda x: np.dot(D['PrecomputedData'],np.power(x,np.arange(D['n'])))\n",
    "    elif D['Method']=='Lagrange':\n",
    "        p = lambda x: np.dot(D['PrecomputedData'],[np.prod(x - np.delete(D['x'],j)) for j in range(D['n'])])\n",
    "    elif D['Method']=='Barycentric':\n",
    "        wi = D['PrecomputedData']\n",
    "        xi = D['x']\n",
    "        yi = D['y']\n",
    "        p = lambda x: np.sum(yi*wi/(x-xi))/np.sum(wi/(x-xi)) if len(xi[xi == x])==0 else np.ndarray.item(yi[xi == x])\n",
    "        # We add these three alternatives but they are analyzed in the file 'Bonus - 05 - Sinc and piecewiselinear interpolations'.\n",
    "    elif D['Method']=='Newton':\n",
    "        p = lambda x: np.dot(D['PrecomputedData'],np.append([1],[np.prod(x-D['x'][:j]) for j in range(1,D['n'])]))\n",
    "    elif D['Method']=='SincInterpolator':\n",
    "        p = lambda x: np.dot([np.sinc((x-xi)/D['h']) for xi in D['x']],D['y'])\n",
    "    elif D['Method']=='PiecewiseLinear':\n",
    "        m = D['m']\n",
    "        n = D['n']\n",
    "        xi = D['x']\n",
    "        yi = D['y']\n",
    "        def p(x):\n",
    "            for i in range(n-1):\n",
    "                if xi[i]<= x and x<xi[i+1]:\n",
    "                    return yi[i]+m[i]*(x-xi[i])\n",
    "            # This is the last case, if x==x[-1]\n",
    "            return yi[-1]\n",
    "    return np.array([p(x) for x in xx])\n",
    "    \n",
    "# Function that shows the data points and the function that interpolates them.\n",
    "def PlotInterpolant(D,ylim=None):\n",
    "    xi = np.linspace(min(D['x']),max(D['x']),1000)\n",
    "    yi = EvaluateInterpolant(D,xi)\n",
    "    fig = plt.figure(figsize=(8,8))\n",
    "    plt.plot(D['x'],D['y'],'ro',label='Interpolation points')\n",
    "    plt.plot(xi,yi,'b-',label='$p(x)$')\n",
    "    plt.xlim(min(xi)-0.5, max(xi)+0.5)\n",
    "    if ylim:\n",
    "        plt.ylim(ylim[0], ylim[1])\n",
    "    else:\n",
    "        plt.ylim(min(yi)-0.5, max(yi)+0.5)\n",
    "    plt.grid(True)\n",
    "    plt.legend(loc='best')\n",
    "    plt.xlabel('$x$')\n",
    "    plt.show()\n",
    "    \n",
    "def PlotInterpolant2(D):\n",
    "    xi = np.linspace(min(D['x']),max(D['x']),1000)\n",
    "    yi = EvaluateInterpolant(D,xi)\n",
    "    \n",
    "    plt.figure(figsize=(10,5))\n",
    "    plt.rcParams.update({'font.size': 12})\n",
    "    \n",
    "    plt.subplot(1,2,1)\n",
    "    plt.title(\"Interpolant with unlimited y axis\")\n",
    "    plt.plot(D['x'],D['y'],'ro',label='Interpolation points')\n",
    "    plt.plot(xi,yi,'b-',label='$p(x)$')\n",
    "    plt.grid(True)\n",
    "    plt.xlabel('$x$')\n",
    "    \n",
    "    plt.subplot(1,2,2)\n",
    "    plt.title(\"Interpolant with limited y axis\")\n",
    "    plt.plot(D['x'],D['y'],'ro',label='Interpolation points')\n",
    "    plt.plot(xi,yi,'b-',label='$p(x)$')\n",
    "    plt.ylim(min(D['y'])-1, max(D['y'])+1)\n",
    "    plt.grid(True)\n",
    "    plt.xlabel('$x$')\n",
    "    \n",
    "    plt.legend(loc='lower left', ncol=1, fancybox=True, shadow=True, numpoints=1, bbox_to_anchor=(1,0))\n",
    "    plt.show()"
   ]
  },
  {
   "cell_type": "markdown",
   "metadata": {},
   "source": [
    "<div id='vander' />\n",
    "\n",
    "## Vandermonde Matrix\n",
    "[Back to TOC](#toc)"
   ]
  },
  {
   "cell_type": "markdown",
   "metadata": {},
   "source": [
    "First, we are going to learn the Vandermonde matrix method. \n",
    "This is a $n \\times n$ matrix (with $n$ being the cardinality of the set of known data points) with the terms of a geometric progression in each row. \n",
    "It allows us to construct a system of linear equations with the objective of find the coefficients of the polynomial function that interpolates our data.\n",
    "\n",
    "Example:\n",
    "\n",
    "Given the set of known data points: $(x_1,y_1),(x_2,y_2),(x_3,y_3)$ \n",
    "\n",
    "Our system of linear equations will be:\n",
    "$$ \\begin{bmatrix}\n",
    "    1 & x_1 & x_1^2  \\\\[0.3em]\n",
    "    1 & x_2 & x_2^2  \\\\[0.3em]\n",
    "    1 & x_3 & x_3^2  \\end{bmatrix}\n",
    "    \\begin{bmatrix}\n",
    "    a_0  \\\\[0.3em]\n",
    "    a_1  \\\\[0.3em]\n",
    "    a_2  \\end{bmatrix} =\n",
    "    \\begin{bmatrix}\n",
    "    y_1  \\\\[0.3em]\n",
    "    y_2  \\\\[0.3em]\n",
    "    y_3  \\end{bmatrix}$$ \n",
    "And by solving it we will find the coefficients $a_0,a_1,a_2$ that we need to construct the polynomial, $$p(x)=a_0+a_1\\,x+a_2\\,x^2,$$ \n",
    "that interpolates our data."
   ]
  },
  {
   "cell_type": "code",
   "execution_count": 3,
   "metadata": {},
   "outputs": [],
   "source": [
    "def Vandermonde(x, y, show=False):\n",
    "    # We construct the matrix and solve the system of linear equations\n",
    "    # A = np.array([xi**np.arange(len(x)) for xi in x]) # OLDER VERSION\n",
    "    A = np.vander(x, increasing=True)\n",
    "    b = y\n",
    "    coefficients = np.linalg.solve(A,b)\n",
    "    n = len(x)\n",
    "    \n",
    "    # The function shows the data if the flag is true\n",
    "    if show:\n",
    "        print('Data Points: '); print([(x[i],y[i]) for i in range(n)])\n",
    "        print('A = '); print(np.array_str(A, precision=2, suppress_small=True))\n",
    "        print(\"cond(A) = \"+str(np.linalg.cond(A)))\n",
    "        print('b = '); print(np.array_str(b, precision=2, suppress_small=True))\n",
    "        print('x = '); print(np.array_str(coefficients, precision=2, suppress_small=True))\n",
    "        xS = sym.Symbol('x')\n",
    "        F = np.dot(xS**np.arange(len(x)),coefficients)\n",
    "        print('Interpolation Function: ') \n",
    "        print('F(x) = ')\n",
    "        print(F)\n",
    "        \n",
    "    # Finally, we return a data structure with our interpolating polynomial\n",
    "    D = {'Method': 'Vandermonde',\n",
    "         'PrecomputedData': coefficients,\n",
    "         'x': x,\n",
    "         'y': y,\n",
    "         'n': n}\n",
    "    return D"
   ]
  },
  {
   "cell_type": "markdown",
   "metadata": {},
   "source": [
    "The following example shows the output of a polynomial interpolation with the provided data.\n",
    "We use an epsilon value on the thrid interpolation point ($x_3=3+\\varepsilon$) and then we control it with a intercat widget, this way we can evaluate what will happen to the interpolation when two collocation points gets close to each other.\n",
    "This behavior is obtained as soon as the third point is to close to $x_2=2$ by setting the value of $\\varepsilon$ equal to $-1$, or making it close to the forth point $x_4$ by setting $\\varepsilon$ equal to $2$."
   ]
  },
  {
   "cell_type": "code",
   "execution_count": 4,
   "metadata": {},
   "outputs": [
    {
     "data": {
      "application/vnd.jupyter.widget-view+json": {
       "model_id": "1b71c909072448e89a625d000373396e",
       "version_major": 2,
       "version_minor": 0
      },
      "text/plain": [
       "interactive(children=(FloatSlider(value=0.0, description='epsilon', max=1.0, min=-1.0), Output()), _dom_classe…"
      ]
     },
     "metadata": {},
     "output_type": "display_data"
    },
    {
     "data": {
      "text/plain": [
       "<function __main__.show_time_Vandermonde(epsilon=0)>"
      ]
     },
     "execution_count": 4,
     "metadata": {},
     "output_type": "execute_result"
    }
   ],
   "source": [
    "def show_time_Vandermonde(epsilon=0):\n",
    "    x = np.array([0.0,2.0,3.0+epsilon,4.0,5.0,6.0])\n",
    "    y = np.array([1.0,3.0,0.0,6.0,8.0,4.0])\n",
    "    D = Vandermonde(x,y,True)\n",
    "    PlotInterpolant2(D)\n",
    "interact(show_time_Vandermonde,epsilon=(-1,1,0.1))"
   ]
  },
  {
   "cell_type": "markdown",
   "metadata": {},
   "source": [
    "As the numerical experiment show, the interpolated polynomial shows larger and larger oscilations as two points get close to each other.\n",
    "Notice however that the function still interpolates the data."
   ]
  },
  {
   "cell_type": "markdown",
   "metadata": {},
   "source": [
    "<div id='vandermonde_illconditioned' />\n",
    "\n",
    "### Is the Vandermonde matrix really ill-conditioned?\n",
    "\n",
    "[Back to TOC](#toc)"
   ]
  },
  {
   "cell_type": "code",
   "execution_count": 5,
   "metadata": {
    "scrolled": false
   },
   "outputs": [
    {
     "data": {
      "text/plain": [
       "<Figure size 360x720 with 0 Axes>"
      ]
     },
     "metadata": {},
     "output_type": "display_data"
    },
    {
     "data": {
      "image/png": "[encoded data removed]",
      "text/plain": [
       "<Figure size 1080x360 with 2 Axes>"
      ]
     },
     "metadata": {
      "needs_background": "light"
     },
     "output_type": "display_data"
    }
   ],
   "source": [
    "N=20\n",
    "my_range = np.arange(4,N+4)\n",
    "F_errors=np.zeros(N)\n",
    "B_errors=np.zeros(N)\n",
    "kappas=np.zeros(N)\n",
    "\n",
    "np.random.seed(0)\n",
    "\n",
    "for i,n in zip(np.arange(N),my_range):\n",
    "    # Generating 'n' equalspaced points on [0,100]\n",
    "    x = np.linspace(0,100,n)\n",
    "    # Building Vandermonde matrix\n",
    "    V = np.vander(x, increasing=True)\n",
    "    # Generating a random solution\n",
    "    coefficients_exact = np.random.random(n)\n",
    "    # Building the RHS for the linear system of equations to be solved\n",
    "    b = V @ coefficients_exact\n",
    "    # Solving the associated linear system of equations\n",
    "    coefficients = np.linalg.solve(V,b)\n",
    "    # Computing Forward error:  ||coefficients_exact-coefficients||_2/||coefficients_exact||_2\n",
    "    F_errors[i] = np.linalg.norm(coefficients-coefficients_exact)/np.linalg.norm(coefficients_exact)\n",
    "    # Computing Backward error: ||b-A*coefficients||_2/||b||_2\n",
    "    B_errors[i] = np.linalg.norm(b - V @ coefficients)/np.linalg.norm(b)\n",
    "    # Computing the condition number\n",
    "    kappas[i]   = np.linalg.cond(V,2)\n",
    "\n",
    "plt.figure(figsize=(5,10))\n",
    "f, (ax1, ax2) = plt.subplots(1, 2, figsize=(15,5), sharey = False)\n",
    "\n",
    "ax1.semilogy(my_range, F_errors, marker='o', linestyle='--', color='r',label=r'Forward error: $||\\mathbf{x}-\\mathbf{x}_a||_2/||\\mathbf{x}||$')\n",
    "ax1.semilogy(my_range, B_errors, marker='o', linestyle='--', color='g',label=r'Backward error: $||\\mathbf{b}-A\\,\\mathbf{x}_a||_2/||\\mathbf{b}||$')\n",
    "ax1.semilogy(my_range, kappas*B_errors, marker='o', linestyle='--', color='m', label=r'$\\kappa(A_n)\\,||\\mathbf{b}-A\\,\\mathbf{x}_a||_2/||\\mathbf{b}||$')\n",
    "ax1.set_title('Errors')\n",
    "ax1.grid(True)\n",
    "ax1.set_xlabel('$n$')\n",
    "ax1.legend(loc='best')\n",
    "ax1.set_xticks(my_range)\n",
    "ax1.set_xticklabels(my_range)\n",
    "\n",
    "ax2.semilogy(my_range, kappas, marker='s', linestyle='--', color='k',label=r'$\\kappa(V_n)$')\n",
    "ax2.set_title(r'$\\kappa(V_n)$')\n",
    "ax2.set_xlabel('$n$')\n",
    "ax2.grid(True)\n",
    "ax2.set_xticks(my_range)\n",
    "ax2.set_xticklabels(my_range)\n",
    "plt.show()"
   ]
  },
  {
   "cell_type": "markdown",
   "metadata": {},
   "source": [
    "What we see in the previous plots is the fact that solving a linear system with an ill condition matrix, like the Vandermonde matrix, it is definitely not a good idea.\n",
    "Suggestion: What about if you interpolate the constant $1$ with the Vandermonde matrix, which we know that the exact solution will be the $p(x)=1$. \n",
    "This means that the constant term will be $1$ and all the other terms must be $0$.\n",
    "Do you observe the same behavior?"
   ]
  },
  {
   "cell_type": "markdown",
   "metadata": {},
   "source": [
    "<div id='lagrange' />\n",
    "\n",
    "## Lagrange Interpolation\n",
    "[Back to TOC](#toc)"
   ]
  },
  {
   "cell_type": "markdown",
   "metadata": {},
   "source": [
    "With this method, we can interpolate data thanks to the Lagrange basis polynomials. Given a set of $n$ data points $(x_1,y_1),...,(x_n,y_n)$, the Lagrange interpolation polynomial is the following:\n",
    "$$ p(x) = \\sum^n_{i=1} y_i\\,L_i(x),$$\n",
    "where $L_i(x)$ are the Lagrange basis polynomials:\n",
    "$$ L_i(x) = \\prod^n_{j=1,j \\neq i} \\frac{x-x_j}{x_i-x_j} = \\frac{x-x_1}{x_i-x_1} \\cdot ... \\cdot \\frac{x-x_{i-1}}{x_i-x_{i-1}} \\cdot \\frac{x-x_{i+1}}{x_i-x_{i+1}} \\cdot ... \\cdot \\frac{x-x_n}{x_i-x_n}$$\n",
    "or simply $L_i(x)=\\dfrac{l_i(x)}{l_i(x_i)}$, where $l_i(x)=\\displaystyle{\\prod^n_{j=1,j \\neq i} (x-x_j)}$.\n",
    "The key properties of these basis polynomials are the followings:\n",
    "$$ L_i(x_i) = 1 $$\n",
    "$$ L_{j \\neq i}(x_i) = 0 $$\n",
    "So, we assure that $L(x_i) = y_i$, which indeed interpolates the data."
   ]
  },
  {
   "cell_type": "code",
   "execution_count": 6,
   "metadata": {
    "scrolled": true
   },
   "outputs": [],
   "source": [
    "def Lagrange(x, y, show=False):\n",
    "    # We calculate the li's\n",
    "    n = len(x)\n",
    "    p = np.array([y[i]/np.prod(x[i] - np.delete(x,i)) for i in range(n)])\n",
    "    \n",
    "    # The function shows the data if the flag is true\n",
    "    if show:\n",
    "        print('Data Points: '); print([(x[i],y[i]) for i in range(n)])\n",
    "        xS = sym.Symbol('x')\n",
    "        L = np.dot(np.array([np.prod(xS - np.delete(x,i))/np.prod(x[i] - np.delete(x,i)) for i in range(n)]),y)\n",
    "        print('Interpolation Function: '); \n",
    "        print(L)\n",
    "        \n",
    "    # Finally, we return a data structure with our interpolating polynomial        \n",
    "    D = {'Method': 'Lagrange',\n",
    "         'PrecomputedData': p,\n",
    "         'x': x,\n",
    "         'y': y,\n",
    "         'n': n}\n",
    "    return D"
   ]
  },
  {
   "cell_type": "markdown",
   "metadata": {},
   "source": [
    "The following numerical experiment follows the same idea of the previous numerical experiment with the Vandermonde matrix."
   ]
  },
  {
   "cell_type": "code",
   "execution_count": 7,
   "metadata": {
    "scrolled": false
   },
   "outputs": [
    {
     "data": {
      "application/vnd.jupyter.widget-view+json": {
       "model_id": "26ba799601f2461988d8f404ae8f40e0",
       "version_major": 2,
       "version_minor": 0
      },
      "text/plain": [
       "interactive(children=(FloatSlider(value=0.0, description='epsilon', max=1.0, min=-1.0), Output()), _dom_classe…"
      ]
     },
     "metadata": {},
     "output_type": "display_data"
    },
    {
     "data": {
      "text/plain": [
       "<function __main__.show_time_Lagrange(epsilon=0)>"
      ]
     },
     "execution_count": 7,
     "metadata": {},
     "output_type": "execute_result"
    }
   ],
   "source": [
    "def show_time_Lagrange(epsilon=0):\n",
    "    x = np.array([0.0,2.0,3.0+epsilon,4.0,5.0,6.0])\n",
    "    y = np.array([1.0,3.0,0.0,6.0,8.0,4.0])\n",
    "    D = Lagrange(x,y,True)\n",
    "    PlotInterpolant2(D)\n",
    "interact(show_time_Lagrange,epsilon=(-1,1,0.1))"
   ]
  },
  {
   "cell_type": "markdown",
   "metadata": {},
   "source": [
    "<div id='LiLagrange' />\n",
    "\n",
    "### Plotting $L_i(x)$\n",
    "[Back to TOC](#toc)\n",
    "\n",
    "The next cell shows what $L_i(x)$ looks like.\n",
    "It basically shows how a polynomial looks like when it is one at $x_i$ and zero at all the other interpolation nodes."
   ]
  },
  {
   "cell_type": "code",
   "execution_count": 8,
   "metadata": {},
   "outputs": [
    {
     "data": {
      "application/vnd.jupyter.widget-view+json": {
       "model_id": "bb55babad1f84649ae90cbb4627425e0",
       "version_major": 2,
       "version_minor": 0
      },
      "text/plain": [
       "interactive(children=(IntSlider(value=0, description='i', max=7), IntSlider(value=7, description='N', max=20, …"
      ]
     },
     "metadata": {},
     "output_type": "display_data"
    },
    {
     "data": {
      "text/plain": [
       "<function __main__.show_time_Li(i=0, N=7)>"
      ]
     },
     "execution_count": 8,
     "metadata": {},
     "output_type": "execute_result"
    }
   ],
   "source": [
    "def show_time_Li(i=0, N=7):\n",
    "    x = np.arange(N+1)\n",
    "    y = np.zeros(N+1)\n",
    "    y[i]=1\n",
    "    D = Lagrange(x,y,True)\n",
    "    PlotInterpolant(D,[-1,2])\n",
    "\n",
    "i_widget = IntSlider(min=0, max=7, step=1, value=0)\n",
    "N_widget = IntSlider(min=1, max=20, step=1, value=7)\n",
    "def update_i_range(*args):\n",
    "    i_widget.max = N_widget.value\n",
    "N_widget.observe(update_i_range, 'value')\n",
    "\n",
    "interact(show_time_Li,i=i_widget,N=N_widget)"
   ]
  },
  {
   "cell_type": "markdown",
   "metadata": {},
   "source": [
    "The following example show all the $L_i(x)$ for $i\\in\\{1,2,\\dots,N\\}$ at once.\n",
    "This was included thank to an inclass question!"
   ]
  },
  {
   "cell_type": "code",
   "execution_count": 9,
   "metadata": {},
   "outputs": [
    {
     "data": {
      "application/vnd.jupyter.widget-view+json": {
       "model_id": "d4d6cfd17afa446d9a3152e6776ba36c",
       "version_major": 2,
       "version_minor": 0
      },
      "text/plain": [
       "interactive(children=(IntSlider(value=3, description='N', max=20, min=2), Checkbox(value=False, description='I…"
      ]
     },
     "metadata": {},
     "output_type": "display_data"
    },
    {
     "data": {
      "text/plain": [
       "<function __main__.show_time_all_Li(N=3, ShowLegend=False)>"
      ]
     },
     "execution_count": 9,
     "metadata": {},
     "output_type": "execute_result"
    }
   ],
   "source": [
    "def show_time_all_Li(N=3, ShowLegend=False):\n",
    "    x = np.arange(1,N+1)\n",
    "    xx = np.linspace(1,N,1000)\n",
    "    plt.figure()\n",
    "    for i in range(N):\n",
    "        y = np.zeros(N)\n",
    "        y[i]=1\n",
    "        D = Lagrange(x,y)\n",
    "        yy=EvaluateInterpolant(D, xx)\n",
    "        plt.plot(xx,yy,label=r'$L_{0}(x)$'.format(i+1))\n",
    "    if ShowLegend:\n",
    "        plt.legend(loc='best')\n",
    "    plt.grid(True)\n",
    "    plt.show()\n",
    "interact(show_time_all_Li,N=(2,20,1), ShowLegend=Checkbox(value=False, description=\"Include legend\"))"
   ]
  },
  {
   "cell_type": "markdown",
   "metadata": {},
   "source": [
    "Here you get some questions about Lagrange Interpolation:\n",
    "- Explain what happens with the interpolator polynomial when you add a new point to the set of points to interpolate. **Answer: We need to recalculate the polynomial**\n",
    "- Why it is not a good idea to use Lagrange interpolation for a set of points which is constantly changing? **A: Because we need to compute the whole interpolation again**\n",
    "- What is the operation count of obtaining the interpolator polynomial using Lagrange? What happens with the error?"
   ]
  },
  {
   "cell_type": "markdown",
   "metadata": {},
   "source": [
    "#### As an additional example we show the $\\text{sinc}(x)$ function.\n",
    "This function is a relative of $L_i(x)$ from Lagrange interpolation, the only difference is that it is one at one point and zero over an infinite grid!\n",
    "This could be also use for interpolation, you only need to shift it a bit and you are good to go!\n",
    "This is not an polynomial interpolation but it may be a good alternative."
   ]
  },
  {
   "cell_type": "code",
   "execution_count": 10,
   "metadata": {},
   "outputs": [
    {
     "data": {
      "image/png": "[encoded data removed]",
      "text/plain": [
       "<Figure size 576x576 with 1 Axes>"
      ]
     },
     "metadata": {
      "needs_background": "light"
     },
     "output_type": "display_data"
    }
   ],
   "source": [
    "xD = np.arange(-10,11)\n",
    "yD = np.zeros_like(xD)\n",
    "yD[10] = 1\n",
    "xi = np.linspace(-10,10,1000)\n",
    "yi = np.sinc(xi)\n",
    "plt.figure(figsize=(8,8))\n",
    "plt.plot(xD,yD,'ro',label='Interpolation points')\n",
    "plt.plot(xi,yi,'b-',label='sinc$(x)$')\n",
    "plt.xlim(min(xi)-0.5, max(xi)+0.5)\n",
    "plt.ylim(min(yi)-0.5, max(yi)+0.5)\n",
    "plt.grid(True)\n",
    "plt.legend(loc='best')\n",
    "plt.xlabel('$x$')\n",
    "#plt.ylabel('$P(x)$')\n",
    "plt.show()"
   ]
  },
  {
   "cell_type": "markdown",
   "metadata": {},
   "source": [
    "### Bonus: Sinc and Piecewise-linear interpolations\n",
    "We add these interpolations based on the following question from class 2021-2: why don't we just use a linear or a sinc interpolator?\n",
    "\n",
    "**See file 'Bonus - 05 - Newton's divided differences, Sinc and piecewiselinear interpolations' for a complete analysis.**"
   ]
  },
  {
   "cell_type": "markdown",
   "metadata": {},
   "source": [
    "<div id='barycentric' />\n",
    "\n",
    "## Barycentric interpolation\n",
    "[Back to TOC](#toc)"
   ]
  },
  {
   "cell_type": "markdown",
   "metadata": {},
   "source": [
    "The barycentric interpolation for interpolation $n$ data points $(x_1,y_1),...,(x_n,y_n)$ is of the following form:\n",
    "$$ p(x) = \\dfrac{\\displaystyle{\\sum_{i=1}^n y_i\\dfrac{w_i}{(x-x_i)}}}{\\displaystyle{\\sum_{i=1}^n \\dfrac{w_i}{(x-x_i)}}},$$\n",
    "where $w_i=\\dfrac{1}{l_i(x)}$ and $l_i(x)=\\displaystyle{\\prod_{k=1,i\\neq k}^n(x-x_k)}$."
   ]
  },
  {
   "cell_type": "code",
   "execution_count": 11,
   "metadata": {},
   "outputs": [],
   "source": [
    "def Barycentric(x, y, show=False):\n",
    "    W  = np.subtract.outer(x, x)\n",
    "    wi  = 1/np.prod(W, axis=1, where = W!=0)\n",
    "    n = len(x)\n",
    "\n",
    "    # The function shows the data if the flag is true\n",
    "    if show:\n",
    "        print('Data Points: '); print([(x[i],y[i]) for i in range(n)])\n",
    "        xS = sym.Symbol('x')\n",
    "        N = np.sum(y*wi/(xS-x))/np.sum(wi/(xS-x))\n",
    "        print('Interpolation Function: ');\n",
    "        print(N)\n",
    "    \n",
    "    # Finally, we return a data structure with our interpolating polynomial\n",
    "    D = {'Method':'Barycentric',\n",
    "         'PrecomputedData': wi,\n",
    "         'x': x,\n",
    "         'y': y,\n",
    "         'n': n}\n",
    "    return D"
   ]
  },
  {
   "cell_type": "code",
   "execution_count": 12,
   "metadata": {},
   "outputs": [
    {
     "data": {
      "application/vnd.jupyter.widget-view+json": {
       "model_id": "c77b77c7593d4c77a0266fa081bcfd6d",
       "version_major": 2,
       "version_minor": 0
      },
      "text/plain": [
       "interactive(children=(FloatSlider(value=0.0, description='epsilon', max=1.0, min=-1.0), Output()), _dom_classe…"
      ]
     },
     "metadata": {},
     "output_type": "display_data"
    },
    {
     "data": {
      "text/plain": [
       "<function __main__.show_time_Barycentric(epsilon=0)>"
      ]
     },
     "execution_count": 12,
     "metadata": {},
     "output_type": "execute_result"
    }
   ],
   "source": [
    "def show_time_Barycentric(epsilon=0):\n",
    "    x = np.array([0.0,2.0,3.0+epsilon,4.0,5.0,6.0])\n",
    "    y = np.array([1.0,3.0,0.0,6.0,8.0,4.0])\n",
    "    D = Barycentric(x,y,True)\n",
    "    PlotInterpolant2(D)\n",
    "interact(show_time_Barycentric,epsilon=(-1,1,0.1))"
   ]
  },
  {
   "cell_type": "markdown",
   "metadata": {},
   "source": [
    "<div id='Error' />\n",
    "\n",
    "## Polynomial Interpolation Error\n",
    "[Back to TOC](#toc)"
   ]
  },
  {
   "cell_type": "markdown",
   "metadata": {},
   "source": [
    "The interpolation error is given by:\n",
    "\n",
    "$$ f(x)-p(x) = \\frac{(x-x_1) \\, (x-x_2) \\, \\dots \\, (x-x_n)}{n!} \\, f^{(n)}(c),$$\n",
    "\n",
    "where $c$ is within the interval defined by $[\\min(x,x_1,\\dots,x_n),\\max(x,x_1,\\dots,x_n)]$."
   ]
  },
  {
   "cell_type": "code",
   "execution_count": 13,
   "metadata": {
    "scrolled": true
   },
   "outputs": [],
   "source": [
    "def Error(f, n, xmin, xmax, method=Lagrange, points=np.linspace, plot_flag=True):\n",
    "    # This function plots f(x), the interpolating polynomial, and the associated error\n",
    "    # points can be np.linspace to equidistant points or Chebyshev to get Chebyshev points\n",
    "    \n",
    "    # These two lines generate the data that will be used in the interpolation\n",
    "    x = points(xmin,xmax,n)\n",
    "    y = f(x)\n",
    "    \n",
    "    # These two lines compute the exact value of the function being interpolated on a finer grid\n",
    "    xe = np.linspace(xmin,xmax,100)\n",
    "    ye = f(xe)\n",
    "    \n",
    "    # This two lines build the interpolant chosen, where the name of the method is \n",
    "    # passed as parameter usign the variable 'method'.\n",
    "    D = method(x,y)\n",
    "    yi = EvaluateInterpolant(D, xe)\n",
    "    \n",
    "    if plot_flag:\n",
    "        plt.figure(figsize=(5,10))\n",
    "        f, (ax1, ax2) = plt.subplots(1, 2, figsize=(15,5), sharey = False)\n",
    "\n",
    "        ax1.plot(xe, ye,'k-', label='f(x)')\n",
    "        ax1.plot(x, y,'ro', label='Interpolation points',markersize=10)\n",
    "        ax1.plot(xe, yi,'b-', label='Interpolation')\n",
    "        ax1.set_xlim(xmin-0.5,xmax+0.5)\n",
    "        ax1.set_ylim(min(yi)-0.5,max(yi)+0.5)       \n",
    "        ax1.set_title('Interpolation')\n",
    "        ax1.grid(True)\n",
    "        ax1.set_xlabel('$x$')\n",
    "        ax1.legend(loc='best') \n",
    "\n",
    "        ax2.semilogy(xe, abs(ye-yi),'c-', label='Absolute Error')\n",
    "        ax2.set_xlim(xmin-0.5,xmax+0.5)\n",
    "        ax2.set_title('Absolute Error')\n",
    "        ax2.set_xlabel('$x$')\n",
    "        ax2.grid(True) \n",
    "        plt.show()\n",
    "        \n",
    "    return max(abs(ye-yi))"
   ]
  },
  {
   "cell_type": "code",
   "execution_count": 14,
   "metadata": {
    "scrolled": true
   },
   "outputs": [],
   "source": [
    "def test_error_Lagrange(n=5):\n",
    "    # Example 1\n",
    "    #me = Error(lambda x: np.sin(x)**3, n, 1, 7, Lagrange)\n",
    "    # Example 2\n",
    "    me = Error(lambda x: (1/(1+12*x**2)), n, -1, 1, Lagrange)\n",
    "    print(\"Max Error:\", me)"
   ]
  },
  {
   "cell_type": "code",
   "execution_count": 15,
   "metadata": {},
   "outputs": [
    {
     "data": {
      "application/vnd.jupyter.widget-view+json": {
       "model_id": "b6b60a868d21495891b1cd80a6c2e849",
       "version_major": 2,
       "version_minor": 0
      },
      "text/plain": [
       "interactive(children=(IntSlider(value=5, description='n', max=25, min=5), Output()), _dom_classes=('widget-int…"
      ]
     },
     "metadata": {},
     "output_type": "display_data"
    },
    {
     "data": {
      "text/plain": [
       "<function __main__.test_error_Lagrange(n=5)>"
      ]
     },
     "execution_count": 15,
     "metadata": {},
     "output_type": "execute_result"
    }
   ],
   "source": [
    "interact(test_error_Lagrange,n=(5,25))"
   ]
  },
  {
   "cell_type": "markdown",
   "metadata": {},
   "source": [
    "<div id='runge' />\n",
    "\n",
    "##  **Runge's Phenomenon**: It is a problem of oscillation of polynomials at the edges of the interval. \n",
    "[Back to TOC](#toc)"
   ]
  },
  {
   "cell_type": "markdown",
   "metadata": {},
   "source": [
    "We are interpolating a data that is 0 almost everywhere and 1 at the middle point. \n",
    "Notice that as $n$ increases the oscilations increase and all the red dots seems to be at 0 in the plot but this is just an artifact due to the scale on the left.\n",
    "The oscillations you see at the end of the interval is the Runge phenomenon.\n",
    "This is due to the use of equalspaced point."
   ]
  },
  {
   "cell_type": "code",
   "execution_count": 16,
   "metadata": {},
   "outputs": [
    {
     "data": {
      "application/vnd.jupyter.widget-view+json": {
       "model_id": "07460e7b54f0447d8161ba4d3626a13a",
       "version_major": 2,
       "version_minor": 0
      },
      "text/plain": [
       "interactive(children=(IntSlider(value=9, description='n', max=25, min=5, step=2), Output()), _dom_classes=('wi…"
      ]
     },
     "metadata": {},
     "output_type": "display_data"
    },
    {
     "data": {
      "text/plain": [
       "<function __main__.Runge(n=9)>"
      ]
     },
     "execution_count": 16,
     "metadata": {},
     "output_type": "execute_result"
    }
   ],
   "source": [
    "def Runge(n=9):\n",
    "    x = np.linspace(0,1,n)\n",
    "    y = np.zeros(n)\n",
    "    y[int((n-1.0)/2.)]=1\n",
    "    D = Barycentric(x,y,False)\n",
    "    PlotInterpolant(D)\n",
    "interact(Runge,n=(5,25,2))"
   ]
  },
  {
   "cell_type": "markdown",
   "metadata": {},
   "source": [
    "<div id='cheby' />\n",
    "\n",
    "## Interpolation with Chebyshev points\n",
    "[Back to TOC](#toc)"
   ]
  },
  {
   "cell_type": "markdown",
   "metadata": {},
   "source": [
    "From the interpolation error defined previously, we notice on the right hand side that the only term we can actually control (besides $n$) is the actual value used for the $x_i$, for $i\\in\\{1,2,\\dots,n\\}$.\n",
    "Thus, with the objective of reducing the error of the polynomial interpolation, we need to find the values of $x_1,x_2,...,x_n$ that minimize the following expression:\n",
    "$$(x-x_1) \\, (x-x_2) \\, ... \\, (x-x_n).$$\n",
    "\n",
    "To choose these values we select the canonical interval $[-1,1]$, in particular, we expect the points to be in $-1 \\leq x_1,x_2,...,x_n \\leq 1$ (to use another interval we just need to do a change of variables).\n",
    "This probles was already studied by Chebyshev, thus we will use the roots of the Chebyshev polynomials, also called **Chebyshev nodes** (of the first kind), which are defined by:\n",
    "\n",
    "$$ x_i = \\cos\\left(\\frac{(2i-1)\\pi}{2n}\\right), i\\in\\{1,2,\\dots,n\\} $$"
   ]
  },
  {
   "cell_type": "code",
   "execution_count": 17,
   "metadata": {
    "scrolled": true
   },
   "outputs": [],
   "source": [
    "def Chebyshev(xmin,xmax,n=5):\n",
    "    # This function calculates the n Chebyshev points and plots or returns them depending on ax\n",
    "    ns = np.arange(1,n+1)\n",
    "    x = np.cos((2*ns-1)*np.pi/(2*n))\n",
    "    y = np.sin((2*ns-1)*np.pi/(2*n))\n",
    "    plt.figure(figsize=(10,5))\n",
    "    plt.ylim(-0.1,1.1)\n",
    "    plt.xlim(-1.1,1.1)\n",
    "    plt.plot(np.cos(np.linspace(0,np.pi)),np.sin(np.linspace(0,np.pi)),'k-')\n",
    "    plt.plot([-2,2],[0,0],'k-')\n",
    "    plt.plot([0,0],[-1,2],'k-')\n",
    "    for i in range(len(y)):\n",
    "        plt.plot([x[i],x[i]],[0,y[i]],'r-')\n",
    "        plt.plot([0,x[i]],[0,y[i]],'r-')\n",
    "    plt.plot(x,[0]*len(x),'bo',label='Chebyshev points')\n",
    "    plt.plot(x,y,'ro')\n",
    "    plt.xlabel('$x$')\n",
    "    plt.title('n = '+str(n))\n",
    "    plt.grid(True)\n",
    "    plt.legend(loc='best')\n",
    "    plt.show()\n",
    "def Chebyshev_points(xmin,xmax,n):\n",
    "    ns = np.arange(1,n+1)\n",
    "    x = np.cos((2*ns-1)*np.pi/(2*n))\n",
    "    #y = np.sin((2*ns-1)*np.pi/(2*n))\n",
    "    return (xmin+xmax)/2 + (xmax-xmin)*x/2\n",
    "def Chebyshev_points_histogram(n=50,nbins=20):\n",
    "    xCheb=Chebyshev_points(-1,1,n)\n",
    "    #plt.figure()\n",
    "    #plt.hist(xCheb,bins=nbins,density=True,cumulative=True)\n",
    "    #plt.grid(True)\n",
    "    #plt.show()\n",
    "    \n",
    "    plt.figure(figsize=(5,10))\n",
    "    f, (ax1, ax2) = plt.subplots(1, 2, figsize=(15,5), sharey = False)\n",
    "    ax1.hist(xCheb,bins=nbins,density=True)\n",
    "    ax1.grid(True)\n",
    "    ax2.hist(xCheb,bins=nbins,density=True,cumulative=True)\n",
    "    ax2.grid(True)\n",
    "    plt.show()"
   ]
  },
  {
   "cell_type": "markdown",
   "metadata": {},
   "source": [
    "The next plot shows a graphical interpretation of the Chebyshev nodes, in particular, they are the projection on the $x$-axis from equalspaced point on the unit sphere.\n",
    "The angle used for defining the equalspaced point on the unit sphere are: $\\theta_i=\\frac{(2i-1)\\pi}{2n}$, for $i\\in\\{1,2,\\dots,n\\}$."
   ]
  },
  {
   "cell_type": "code",
   "execution_count": 18,
   "metadata": {},
   "outputs": [
    {
     "data": {
      "application/vnd.jupyter.widget-view+json": {
       "model_id": "497981e8101542a0adbb14088a0f62a5",
       "version_major": 2,
       "version_minor": 0
      },
      "text/plain": [
       "interactive(children=(IntSlider(value=5, description='n', max=50, min=2), Output()), _dom_classes=('widget-int…"
      ]
     },
     "metadata": {},
     "output_type": "display_data"
    },
    {
     "data": {
      "text/plain": [
       "<function __main__.Chebyshev(xmin, xmax, n=5)>"
      ]
     },
     "execution_count": 18,
     "metadata": {},
     "output_type": "execute_result"
    }
   ],
   "source": [
    "interact(Chebyshev,xmin=fixed(-1),xmax=fixed(1),n=(2,50))"
   ]
  },
  {
   "cell_type": "markdown",
   "metadata": {},
   "source": [
    "The next plot shows an histogram to explicitly show that the Chebychev nodes cluster at each end of the interval.\n",
    "The left plot is an explicit histogram and the plot on the right is the cumulative distribution function."
   ]
  },
  {
   "cell_type": "code",
   "execution_count": 19,
   "metadata": {},
   "outputs": [
    {
     "data": {
      "application/vnd.jupyter.widget-view+json": {
       "model_id": "4208cde8ea2f44d6be2e944a902c1a06",
       "version_major": 2,
       "version_minor": 0
      },
      "text/plain": [
       "interactive(children=(IntSlider(value=50, description='n', max=10000, min=20), IntSlider(value=20, description…"
      ]
     },
     "metadata": {},
     "output_type": "display_data"
    },
    {
     "data": {
      "text/plain": [
       "<function __main__.Chebyshev_points_histogram(n=50, nbins=20)>"
      ]
     },
     "execution_count": 19,
     "metadata": {},
     "output_type": "execute_result"
    }
   ],
   "source": [
    "interact_manual(Chebyshev_points_histogram,n=(20,10000),nbins=(20,200))"
   ]
  },
  {
   "cell_type": "markdown",
   "metadata": {},
   "source": [
    "Moreover, these points have the an explicit expresion for the term we want to minimize,\n",
    "this means,\n",
    "$$ (x-x_1) \\, (x-x_2) \\, ... \\, (x-x_n) = \\dfrac{1}{2^{n-1}} \\, T_n(x), $$\n",
    "where $T_n(x) = \\cos (n \\, \\arccos (x))$ is the n-th Chebyshev polynomial.\n",
    "$$ \n",
    "\\begin{align*}\n",
    "T_0(x) &= 1, \\\\\n",
    "T_1(x) &= x, \\\\\n",
    "T_2(x) &= 2x^2 -1,\\\\\n",
    "\\vdots\n",
    "\\end{align*}\n",
    "$$\n",
    "\n",
    "It also has a recurrence relation,\n",
    "$$ T_{n+1}(x) = 2 \\cdot x \\cdot T_n(x) - T_{n-1}(x).$$\n",
    "The importance of the first identity showed in this cell is that we can bound the left-hand-side when using Chebychev points.\n",
    "This is not possible when using equalspaced points.\n",
    "For instance, when using Chebychehv points we have the following bound,\n",
    "$$|(x-x_1) \\, (x-x_2) \\, ... \\, (x-x_n)| = \\left|\\dfrac{1}{2^{n-1}} \\, T_n(x)\\right|\\leq \\dfrac{1}{2^{n-1}}.$$\n",
    "This is true since $T(x) = \\cos (n \\, \\arccos (x))$ and $|\\cos(x)|\\leq 1$.\n",
    "This is useful when one wants to find the number of points required to interpolate a funcion to a required error.\n",
    "In this case the error would become,\n",
    "$$\n",
    "\\begin{align*}\n",
    "|f(x)-p(x)| &= \\left|\\frac{(x-x_1) \\, (x-x_2) \\, \\dots \\, (x-x_n)}{n!} \\, f^{(n)}(c)\\right|\\\\\n",
    "            &\\leq \\frac{1}{2^{n-1}\\,n!} \\, \\left|f^{(n)}(c)\\right|,\n",
    "\\end{align*}\n",
    "$$\n",
    "which is very nice!\n",
    "We only need to pay attention to find a bound for $\\left|f^{(n)}(c)\\right|$ on the interval we want to interpolate the function.\n",
    "\n",
    "In the next cell, for completeness, we plot the Chebyshev polynomials $T_n(x)$."
   ]
  },
  {
   "cell_type": "code",
   "execution_count": 20,
   "metadata": {
    "scrolled": true
   },
   "outputs": [],
   "source": [
    "# Recursive function that returns the n-th Chebyshev polynomial evaluated at x\n",
    "def T(n,x):\n",
    "    if n == 0:\n",
    "        return x**0\n",
    "    elif n == 1:\n",
    "        return x\n",
    "    else:\n",
    "        return 2*x*T(n-1,x)-T(n-2,x)\n",
    "    \n",
    "# This function plots the first n Chebyshev polynomials\n",
    "def Chebyshev_Polynomials(n=2, Flag_All_Tn=False):\n",
    "    x = np.linspace(-1,1,1000)\n",
    "    plt.figure(figsize=(10,5))\n",
    "    plt.xlim(-1, 1)\n",
    "    plt.ylim(-1.1, 1.1)\n",
    "    if Flag_All_Tn:\n",
    "        for i in np.arange(n+1):\n",
    "            y = T(i,x)\n",
    "            plt.plot(x,y,label='$T_{'+str(i)+'}(x)$')\n",
    "    else:\n",
    "        y = T(n,x)\n",
    "        plt.plot(x,y,label='$T_{'+str(n)+'}(x)$')\n",
    "    plt.legend(loc='right')\n",
    "    plt.grid(True)\n",
    "    plt.xlabel('$x$')\n",
    "    plt.show()"
   ]
  },
  {
   "cell_type": "code",
   "execution_count": 21,
   "metadata": {},
   "outputs": [
    {
     "data": {
      "application/vnd.jupyter.widget-view+json": {
       "model_id": "0aa87da27cbd48f99d98e57a86932ed5",
       "version_major": 2,
       "version_minor": 0
      },
      "text/plain": [
       "interactive(children=(IntSlider(value=2, description='n', max=12), Checkbox(value=True, description='Flag_All_…"
      ]
     },
     "metadata": {},
     "output_type": "display_data"
    },
    {
     "data": {
      "text/plain": [
       "<function __main__.Chebyshev_Polynomials(n=2, Flag_All_Tn=False)>"
      ]
     },
     "execution_count": 21,
     "metadata": {},
     "output_type": "execute_result"
    }
   ],
   "source": [
    "interact(Chebyshev_Polynomials,n=(0,12),Flag_All_Tn=True)"
   ]
  },
  {
   "cell_type": "markdown",
   "metadata": {},
   "source": [
    "The follwing function compares the error obtain by interpolation a function with equalspaced points and Chebychev points."
   ]
  },
  {
   "cell_type": "code",
   "execution_count": 22,
   "metadata": {},
   "outputs": [],
   "source": [
    "def test_error_Chebyshev(n=5):\n",
    "    mee = Error(lambda x: (1/(1+12*x**2)), n, -1, 1, Lagrange)\n",
    "    mec = Error(lambda x: (1/(1+12*x**2)), n, -1, 1, method=Lagrange, points=Chebyshev_points)\n",
    "    print(\"Max error (equidistants points):\", mee)\n",
    "    print(\"Max error (Chebyshev nodes):\", mec)"
   ]
  },
  {
   "cell_type": "markdown",
   "metadata": {},
   "source": [
    "The plots on the left show the actual function and the corresponding interpolation.\n",
    "The plots in the right show the error in $\\log_{10}$ scale.\n",
    "Notice that we interpolation polynomial goes by the interpolation nodes exactly, this induce an error equal to $0$ and these nodes.\n",
    "This behaviour explain the down spikes on the logaritmic scales, but we care about the worst case.\n",
    "In the worst case the equalspaced polynomial behaves very badly, this is way polynomial interpolation with Chebyshev points is so useful."
   ]
  },
  {
   "cell_type": "code",
   "execution_count": 23,
   "metadata": {},
   "outputs": [
    {
     "data": {
      "application/vnd.jupyter.widget-view+json": {
       "model_id": "4c653cf2f68246c29e0f1e3d4a325fc5",
       "version_major": 2,
       "version_minor": 0
      },
      "text/plain": [
       "interactive(children=(IntSlider(value=5, description='n', min=5, step=2), Output()), _dom_classes=('widget-int…"
      ]
     },
     "metadata": {},
     "output_type": "display_data"
    },
    {
     "data": {
      "text/plain": [
       "<function __main__.test_error_Chebyshev(n=5)>"
      ]
     },
     "execution_count": 23,
     "metadata": {},
     "output_type": "execute_result"
    }
   ],
   "source": [
    "interact(test_error_Chebyshev,n=(5,100,2))"
   ]
  },
  {
   "cell_type": "markdown",
   "metadata": {},
   "source": [
    "Questions about Chebyshev:\n",
    "- How can you calculate the Chebyshev points in the interval [a,b] instead of [-1,1]? **A: Using a change of variable**"
   ]
  },
  {
   "cell_type": "markdown",
   "metadata": {},
   "source": [
    "## Convergence analysis "
   ]
  },
  {
   "cell_type": "markdown",
   "metadata": {},
   "source": [
    "The next set of experiments show a convergence analysis comparing equalspaced points to Chebychev points.\n",
    "The $x$-axis is the number of points used and the $y$-axis is the maxmimum error obtain on the interval in logarithmic scale.\n",
    "The experiment are the followings:\n",
    "1. $f(x)=x^{10}$. In this case both sets of points perform similarly, however there is a significant drop in the error when $n$ is equal to $11$. This means, the error reach a minimum of $10^{-14}$ app at that number points. Why?\n",
    "2. $f(x)=|x^3|$. This looks like a naive function but it is not. The equalspace points start to decrease from an error of $10^{0}$ until an error app $10^{-3}$ with approximately 10 points, it then start to increase the error. On the other hand, the Chebychev points show a decresing behavior upto $n=50$ but it only reaches an error of app $10^{-5}$, which is too high. What is the issue with this funcion?\n",
    "3. $f(x)=\\exp(-(x^{-2}))$. This is also a tricky function bevcause involves a division by $0$ when we evaluate it at $x=0$, but it is well defined at that points. Similarly to the first example, the equalspaced points reduce the error upto $n=10$, and then start to increase. For the Chebychev points, they decrease upto 40 points and the also show a slight increment in the error. What is the value of $f(x)$ at $x=0$?\n",
    "4. $f(x)=\\dfrac{1}{1+x^2}$. In this case both cases decrease the error but faster for the Chebyshev points. The main difference is that the minimum error reached for equalspaced points is about $10^{-8}$ and $10^{-13}$ for the Chebyshev points, in both cases about $n=37$.\n",
    "5. $f(x)=\\sin^3(x)$. In this case both cases reached an error $10^{-14}$ with $n=20$, then for equalspaced points start to increase the error right away but for Chebyshev points it starts to increase at $n=40$.\n",
    "\n",
    "Answers to the previous questions:\n",
    "1. The reason is that when $n=11$ we will be interpolation an polynomial of degree $10$ with a polynomial of degree $10$, so we can reproduce it exactly! This is why the error is $0$. When $n$ was lower, we only had an approximation. It is interesting that the error increases as we increase the number of points after $n=10$. Would it be useful to change the algorihtm used?\n",
    "2. The issue is that the function is not analytic, this is because it involves the absolute value. Recall that expression for the error requires the computation of the $n$-th derivative of $f(x)$ at a $c$ point, so if the function is not differentiable, in this case the issues is at $x=0$, we could expect a bad behavior. The probles can be easily solve if we interpolate the function with a polynomial defined on $[-1,0]$ and another on $[0,1]$, ensurring the are equal at $x=0$. In this case we only need two polynomials of degree $3$ and we will be able to reproduce the function exactly! The issue is to notice this when we only have access to the computational implementation of $f(x)$ and not to the function itself.\n",
    "3. 0\n",
    "4. -\n",
    "5. -\n",
    "\n",
    "**We strongly suggest you to try different functions and play around!**"
   ]
  },
  {
   "cell_type": "code",
   "execution_count": 24,
   "metadata": {
    "scrolled": false
   },
   "outputs": [
    {
     "data": {
      "application/vnd.jupyter.widget-view+json": {
       "model_id": "6851ac33dca34663b6f9fb885217a3b3",
       "version_major": 2,
       "version_minor": 0
      },
      "text/plain": [
       "interactive(children=(RadioButtons(description='Function:', options=(('x^{10}', <function <lambda> at 0x111dd0…"
      ]
     },
     "metadata": {},
     "output_type": "display_data"
    },
    {
     "data": {
      "text/plain": [
       "<function __main__.convergence_study(f, method)>"
      ]
     },
     "execution_count": 24,
     "metadata": {},
     "output_type": "execute_result"
    }
   ],
   "source": [
    "my_functions=[lambda x: x**10,\n",
    "              lambda x: np.abs(x**3),\n",
    "              lambda x: np.exp(-(x**-2)),\n",
    "              lambda x: 1/(1+x**2),\n",
    "              lambda x: np.sin(x)**3]\n",
    "labels = [\"x^{10}\",\n",
    "          \"|x^3|\",\n",
    "          \"\\exp(-x^{-2})\",\n",
    "          \"1/(1+x^2)\",\n",
    "          \"\\sin^3(x)\"]\n",
    "data=zip(labels,my_functions)\n",
    "\n",
    "radio_button_function=RadioButtons(\n",
    "    options=list(data),\n",
    "    description='Function:',\n",
    "    disabled=False\n",
    ")\n",
    "\n",
    "radio_button_interpolation_algorithm=RadioButtons(\n",
    "    options=[('Vandermonde',Vandermonde),('Lagrange',Lagrange),('Barycentric',Barycentric)],\n",
    "    value=Lagrange,\n",
    "    description='Algorithm:',\n",
    "    disabled=False\n",
    ")\n",
    "\n",
    "def convergence_study(f, method):\n",
    "    n=70\n",
    "    shift=2\n",
    "    n_points=np.arange(shift,n)\n",
    "    max_error=np.zeros(n-shift)\n",
    "    max_error_es=np.zeros(n-shift)\n",
    "    for i in n_points:\n",
    "        max_error[i-shift] = Error(f, i, -1, 1, method, Chebyshev_points, plot_flag=False)\n",
    "        max_error_es[i-shift] = Error(f, i, -1, 1, method, points=np.linspace, plot_flag=False)\n",
    "    axis=plt.figure(figsize=(8,8))\n",
    "    plt.semilogy(n_points,max_error,'bd',label='Chebyshev points',markersize=10)\n",
    "    plt.semilogy(n_points,max_error_es,'r.',label='Equalspaced poins',markersize=16)\n",
    "    plt.ylim(10**-16,10**4)\n",
    "    plt.grid(True)\n",
    "    plt.title('Interpolation Error')\n",
    "    plt.xlabel('Number of points used in the interpolation')\n",
    "    plt.ylabel('Max error on domain')\n",
    "    plt.legend(loc='best')\n",
    "    plt.show()\n",
    "interact(convergence_study,f=radio_button_function, method=radio_button_interpolation_algorithm)"
   ]
  },
  {
   "cell_type": "markdown",
   "metadata": {},
   "source": [
    "## Analysis of time vs error for interpolation algorithms\n",
    "The idea here is to understand the relationship between the error we get for each algorithm and the computation time associated.\n",
    "This analysis highlights the advantage of Barycentric interpolation with Chebyshev points when the function being interpolated is analytic.\n",
    "Notice that the first plot shows the computation time required for the construction of the interpolant, the second the cost of evaluation of the interpolant in a finer grid and the third one shows the sum of both times."
   ]
  },
  {
   "cell_type": "code",
   "execution_count": 25,
   "metadata": {},
   "outputs": [
    {
     "data": {
      "application/vnd.jupyter.widget-view+json": {
       "model_id": "72fb90d0482749fa9a1a60ea595e98dc",
       "version_major": 2,
       "version_minor": 0
      },
      "text/plain": [
       "interactive(children=(RadioButtons(description='Function:', options=(('x^{10}', <function <lambda> at 0x111dd0…"
      ]
     },
     "metadata": {},
     "output_type": "display_data"
    },
    {
     "data": {
      "text/plain": [
       "<function __main__.analysis_of_time_vs_error_of_interpolation_algorihtms(f)>"
      ]
     },
     "execution_count": 25,
     "metadata": {},
     "output_type": "execute_result"
    }
   ],
   "source": [
    "def get_error_and_time(f, xmin=-1, xmax=1, method=Lagrange, points=np.linspace):\n",
    "    \n",
    "    construction_times   = []\n",
    "    evaluation_times     = []\n",
    "    interpolation_errors = []\n",
    "    \n",
    "    n_range = np.array([2,4,8,16,30,50])\n",
    "    \n",
    "    for n in n_range:\n",
    "        \n",
    "        # This function plots f(x), the interpolating polynomial, and the associated error\n",
    "        # points can be np.linspace to equidistant points or Chebyshev to get Chebyshev points\n",
    "\n",
    "        # These two lines generate the data that will be used in the interpolation\n",
    "        x = points(xmin,xmax,n)\n",
    "        y = f(x)\n",
    "\n",
    "        # These two lines compute the exact value of the function being interpolated on a finer grid\n",
    "        xe = np.linspace(xmin,xmax,100)\n",
    "        ye = f(xe)\n",
    "\n",
    "        # This line build the interpolant chosen, where the name of the method is \n",
    "        # passed as parameter usign the variable 'method'.\n",
    "        time_construction = %timeit -o -q -n 10 -r 5 method(x,y)\n",
    "        construction_times.append(time_construction.average)\n",
    "        D = method(x,y)\n",
    "        \n",
    "        time_evaluation = %timeit -o -q -n 10 -r 5 EvaluateInterpolant(D, xe)\n",
    "        evaluation_times.append(time_evaluation.average)\n",
    "        yi = EvaluateInterpolant(D, xe)\n",
    "        \n",
    "        if max(abs(ye-yi))<1e-16:\n",
    "            interpolation_errors.append(1e-16)\n",
    "        else:\n",
    "            interpolation_errors.append(max(abs(ye-yi)))\n",
    "        \n",
    "    return construction_times, evaluation_times, interpolation_errors\n",
    "\n",
    "\n",
    "def analysis_of_time_vs_error_of_interpolation_algorihtms(f):\n",
    "    # List of methods\n",
    "    list_of_methods = [('Vandermonde',Vandermonde),('Lagrange',Lagrange),('Barycentric',Barycentric)]\n",
    "    # List of type of points\n",
    "    list_of_points = [('equalspaced',np.linspace), ('Chebyshev',Chebyshev_points)]\n",
    "    list_output_data = []\n",
    "    k = 1\n",
    "    for name_method, method in list_of_methods:\n",
    "        for points_name, points in list_of_points:\n",
    "            # We exclude SincInterpolator for Chebyshev points because it need equalspaced data\n",
    "            if (name_method=='SincInterpolator' and points_name=='Chebyshev'):\n",
    "                continue\n",
    "            tic = time.time()\n",
    "            c_time, e_time, errors = get_error_and_time(f, xmin=-1, xmax=1, method=method, points=points)\n",
    "            print(k,'/ 6: ',name_method, ',' , points_name, ', time:',time.time()-tic,'[s]')\n",
    "            k=k+1\n",
    "            list_output_data.append([name_method, points_name, c_time, e_time, errors])\n",
    "    \n",
    "    markers = ['8','>','<','^','v','o','d','D','H','h','*','p','s']\n",
    "    \n",
    "    fig = plt.figure(figsize=(16,16))\n",
    "    plt.rcParams.update({'font.size': 12})\n",
    "    \n",
    "    k = 0\n",
    "    for data in list_output_data:\n",
    "        name_method, points_name, c_time, e_time, errors = data\n",
    "            \n",
    "        ax = plt.subplot(2,2,1)\n",
    "        plt.title('Construction time')\n",
    "        plt.loglog(errors, c_time, markers[k], lw=2.0, ms=10, label=name_method+', '+points_name)\n",
    "        ax = plt.subplot(2,2,2)\n",
    "        plt.title('Evaluation time')\n",
    "        plt.loglog(errors, e_time, markers[k], lw=2.0, ms=10, label=name_method+', '+points_name)\n",
    "        ax = plt.subplot(2,2,3)\n",
    "        plt.title('Construction + evaluation times')\n",
    "        plt.loglog(errors, np.array(c_time)+np.array(e_time), markers[k], lw=2.0, ms=10, label=name_method+', '+points_name)\n",
    "        k=k+1\n",
    "    \n",
    "    plt.legend(loc='lower left', ncol=1, fancybox=True, shadow=True, numpoints=1, bbox_to_anchor=(1,0))\n",
    "    \n",
    "    for i in range(3):\n",
    "        ax = plt.subplot(2,2,i+1)\n",
    "        plt.xlabel(\"Absolute Error\")\n",
    "        plt.ylabel(\"Time in seconds\")\n",
    "        plt.grid('on')\n",
    "    plt.show()\n",
    "\n",
    "interact(analysis_of_time_vs_error_of_interpolation_algorihtms,f=radio_button_function)"
   ]
  },
  {
   "cell_type": "markdown",
   "metadata": {},
   "source": [
    "**Warning**: Notice that this experiment shows a _competitive_ behavior of the Vandermonde matrix but don't forget that the Vandermonde matrix is very ill-conditioned!"
   ]
  },
  {
   "cell_type": "markdown",
   "metadata": {},
   "source": [
    "<div id='py' />\n",
    "\n",
    "## Python Modules and Functions\n",
    "[Back to TOC](#toc)"
   ]
  },
  {
   "cell_type": "markdown",
   "metadata": {},
   "source": [
    "Interpolation: \n",
    "\n",
    "https://numpy.org/doc/stable/reference/generated/numpy.polyfit.html\n",
    "\n",
    "Vandermonde Matrix: \n",
    "\n",
    "https://numpy.org/doc/stable/reference/generated/numpy.vander.html\n",
    "\n",
    "Lagrange Interpolator: \n",
    "\n",
    "https://docs.scipy.org/doc/scipy/reference/generated/scipy.interpolate.lagrange.html\n",
    "\n",
    "Barycentric Interpolator:\n",
    "\n",
    "https://people.maths.ox.ac.uk/trefethen/barycentric.pdf\n",
    "\n",
    "https://docs.scipy.org/doc/scipy/reference/generated/scipy.interpolate.BarycentricInterpolator.html\n",
    "\n",
    "Chebyshev Points for the First Kind:\n",
    "\n",
    "https://numpy.org/doc/stable/reference/generated/numpy.polynomial.chebyshev.chebroots.html"
   ]
  },
  {
   "cell_type": "markdown",
   "metadata": {},
   "source": [
    "<div id='acknowledgements' />\n",
    "\n",
    "# Acknowledgements\n",
    "[Back to TOC](#toc)\n",
    "\n",
    "* _Material created by professor Claudio Torres_ (`ctorres@inf.utfsm.cl`) _and assistants: Laura Bermeo, Alvaro Salinas, Axel Simonsen and Martín Villanueva. DI UTFSM. April 2016._\n",
    "* _Material modified by Cristopher Arenas. May 2017._\n",
    "* _Material modified by Claudio Torres. May 2017._\n",
    "* _Bug fixed by Cristobal Carmona. April 2018._\n",
    "* _Update June 2020 - v1.25 - C.Torres_ : Fixing formatting issues.\n",
    "* _Update June 2020 - v1.26 - C.Torres_ : Adding \"ylim\" argumento to Interpolation_Plot(D,ylim=None) and addint \"show_time_Li\".\n",
    "* _Update June 2020 - v1.27 - C.Torres_ : Adding comment that the Chebyshev nodes used are of the first kind and \"Chebyshev_points_histogram\".\n",
    "* _Update May 2021 - v1.28 - C.Torres_ : Improving format, adding cumulative histogram in \"Chebyshev_points_histogram\", updating Python modules links, implementing Barycentric interpolation, changing functions names: Interpolation_Plot->PlotInterpolant, Y->EvaluateInterpolant; adding field 'n' to data structure 'D' used for building interpolant, several changes everywhere adding more explanations.\n",
    "* _Update May 2021 - v1.29 - C.Torres_ : Adding \"show_time_all_Li\" thanks to Felipe Samur question during class. Thanks Felipe! Changing reference tu sympy from 'sp' to 'sym'.\n",
    "* _Update May 2021 - v1.30 - C.Torres_ : Adding radio buttons to last examples.\n",
    "* _Update October 2021 - v1.31 - C.Torres_ : Adding Vandermonde matrix analysis about being ill-conditioned.\n",
    "* _Update October 2021 - v1.32 - C.Torres_ : Fixing typos.\n",
    "* _Update October 2021 - v1.33 - C.Torres_ : Removing Newton's divided differences and moving it to 'Bonus - 05 - Newton's divided differences, Sinc and piecewiselinear interpolations'.\n",
    "* _Update June 2022 - v1.34 - C.Torres_ : Adding second plot with fixed y-axis in polynomial interpolation example."
   ]
  },
  {
   "cell_type": "code",
   "execution_count": null,
   "metadata": {},
   "outputs": [],
   "source": []
  }
 ],
 "metadata": {
  "anaconda-cloud": {},
  "kernelspec": {
   "display_name": "Python 3.9.12 ('base')",
   "language": "python",
   "name": "python3"
  },
  "language_info": {
   "codemirror_mode": {
    "name": "ipython",
    "version": 3
   },
   "file_extension": ".py",
   "mimetype": "text/x-python",
   "name": "python",
   "nbconvert_exporter": "python",
   "pygments_lexer": "ipython3",
   "version": "3.9.12"
  },
  "vscode": {
   "interpreter": {
    "hash": "3d597f4c481aa0f25dceb95d2a0067e73c0966dcbd003d741d821a7208527ecf"
   }
  },
  "widgets": {
   "state": {
    "5efcd611b7dc44c6a97625817dd3fbe6": {
     "views": [
      {
       "cell_index": 36
      }
     ]
    },
    "8db4944843b24bfdbbc01a2701a91f4e": {
     "views": [
      {
       "cell_index": 26
      }
     ]
    },
    "8dd643c0494a4f818cdbe0a372bd4a8d": {
     "views": [
      {
       "cell_index": 33
      }
     ]
    },
    "9543e2873c43447fb872737490344ffd": {
     "views": [
      {
       "cell_index": 30
      }
     ]
    },
    "e0f720c37e4b4516b7a72955bb108af4": {
     "views": [
      {
       "cell_index": 23
      }
     ]
    }
   },
   "version": "1.2.0"
  }
 },
 "nbformat": 4,
 "nbformat_minor": 4
}
