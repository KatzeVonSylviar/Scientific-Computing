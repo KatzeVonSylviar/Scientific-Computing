{
 "cells": [
  {
   "attachments": {},
   "cell_type": "markdown",
   "id": "e9f67b1b",
   "metadata": {},
   "source": [
    "<center>\n",
    "    <img src=\"http://sct.inf.utfsm.cl/wp-content/uploads/2020/04/logo_di.png\" style=\"width:60%\">\n",
    "    <h1> INF285 - Computación Científica </h1>\n",
    "    <h2> BVP and IVP</h2>\n",
    "    <h2> <a href=\"#acknowledgements\"> [S]cientific [C]omputing [T]eam </a> </h2>\n",
    "    <h2> Version: 1.00</h2>\n",
    "</center>"
   ]
  },
  {
   "attachments": {},
   "cell_type": "markdown",
   "id": "6c4b880a",
   "metadata": {},
   "source": [
    "<div id='toc' />\n",
    "\n",
    "## Table of Contents\n",
    "* [Acknowledgements](#acknowledgements)"
   ]
  },
  {
   "attachments": {},
   "cell_type": "markdown",
   "id": "a6350c3a",
   "metadata": {},
   "source": [
    "# No debe utilizar bibliotecas adicionales."
   ]
  },
  {
   "cell_type": "code",
   "execution_count": 2,
   "id": "3b3e7a9b",
   "metadata": {},
   "outputs": [],
   "source": [
    "import numpy as np\n",
    "import scipy as sp\n",
    "# To solve IVP, notice this is different that odeint!\n",
    "from scipy.integrate import solve_ivp\n",
    "# To integrate use one of the followings:\n",
    "from scipy.integrate import quad, quadrature, trapezoid, simpson\n",
    "# For least-square problems\n",
    "from scipy.sparse.linalg import lsqr\n",
    "from scipy.linalg import qr\n",
    "# For interpolation\n",
    "from scipy.interpolate import BarycentricInterpolator\n",
    "# The wonderful GMRes\n",
    "from scipy.sparse.linalg import gmres\n",
    "# The wonderful**2 Newton method coupled to GMRes by a matrix-free call!\n",
    "from scipy.optimize import newton_krylov\n",
    "from scipy.optimize import root\n",
    "from scipy.linalg import toeplitz\n",
    "import matplotlib.pyplot as plt\n",
    "from ipywidgets import interact\n",
    "from colorama import Fore, Back, Style\n",
    "# https://pypi.org/project/colorama/\n",
    "# Fore: BLACK, RED, GREEN, YELLOW, BLUE, MAGENTA, CYAN, WHITE, RESET.\n",
    "# Back: BLACK, RED, GREEN, YELLOW, BLUE, MAGENTA, CYAN, WHITE, RESET.\n",
    "# Style: DIM, NORMAL, BRIGHT, RESET_ALL\n",
    "textBold = lambda x: Style.BRIGHT+x+Style.RESET_ALL\n",
    "textBoldH = lambda x: Style.BRIGHT+Back.YELLOW+x+Style.RESET_ALL"
   ]
  },
  {
   "cell_type": "markdown",
   "metadata": {},
   "source": [
    "# Shooting Method"
   ]
  },
  {
   "cell_type": "markdown",
   "metadata": {},
   "source": [
    "## First example: Linear BVP\n",
    "\n",
    "\\begin{align*}\n",
    "\ta(x)\\,y''(x)+b(x)\\,y'(x)+c(x)\\,y(x)&=f(x), \\,\\, \\text{para } x\\in]0,L[,\\\\\n",
    "\ty(0)&=u_0,\\\\\n",
    "\ty(L)&=u_L,\n",
    "\\end{align*}"
   ]
  },
  {
   "cell_type": "code",
   "execution_count": 3,
   "metadata": {},
   "outputs": [],
   "source": [
    "# RHS of dynamical system\n",
    "def my_f1(t,y,a,b,c,f):\n",
    "    y1 = y[0]\n",
    "    y2 = y[1]\n",
    "    y1dot = y2\n",
    "    y2dot = (f(t)-b(t)*y2-c(t)*y1)/a(t)\n",
    "    return np.array([y1dot,y2dot])\n",
    "\n",
    "# Function to be used to apply the Shooting Method\n",
    "def F_SM_1(alpha,a,b,c,f,y0,yL,L,N):\n",
    "    t = np.linspace(0,L,N)\n",
    "    initial_condition = np.zeros(2)\n",
    "    initial_condition[0] = y0\n",
    "    initial_condition[1] = alpha\n",
    "    sol = solve_ivp(my_f1,(0,L),initial_condition,t_eval=t,args=(a,b,c,f))\n",
    "    # plt.plot(sol.t,sol.y[0,:],'-',label=str(alpha))\n",
    "    return sol.y[0,-1]-yL\n",
    "\n",
    "a = lambda x: np.power(x,2.)+1.\n",
    "b = lambda x: x\n",
    "c = lambda x: np.sin(10.*x)\n",
    "f = lambda x: np.cos(x)\n",
    "\n",
    "# Data definition\n",
    "N=100\n",
    "L=10\n",
    "x = np.linspace(0,L,N)\n",
    "y0 = 0.\n",
    "yL = 1."
   ]
  },
  {
   "cell_type": "code",
   "execution_count": 6,
   "metadata": {},
   "outputs": [
    {
     "name": "stdout",
     "output_type": "stream",
     "text": [
      " message: The solution converged.\n",
      " success: True\n",
      "  status: 1\n",
      "     fun: -1.0446088438698098e-12\n",
      "       x: [-1.806e-01]\n",
      "    nfev: 10\n",
      "    fjac: [[-1.000e+00]]\n",
      "       r: [-6.153e+00]\n",
      "     qtf: [ 1.028e-09]\n",
      "alpha_r -0.18060697531981873\n"
     ]
    },
    {
     "data": {
      "image/png": "[encoded data removed]",
      "text/plain": [
       "<Figure size 1152x576 with 1 Axes>"
      ]
     },
     "metadata": {
      "needs_background": "light"
     },
     "output_type": "display_data"
    }
   ],
   "source": [
    "F_root_1 = lambda alpha: F_SM_1(alpha,a,b,c,f,y0,yL,L,N)\n",
    "out = root(F_root_1, 1.)\n",
    "# plt.legend(loc='best')\n",
    "# plt.grid(True)\n",
    "print(out)\n",
    "alpha_r = out.x[0]\n",
    "print('alpha_r',alpha_r)\n",
    "\n",
    "sol = solve_ivp(my_f1,(0,L),np.array([y0,alpha_r]),t_eval=x,args=(a,b,c,f))\n",
    "\n",
    "plt.figure(figsize=(16,8))\n",
    "plt.plot(sol.t,sol.y[0,:],'r.',label='$y_1$',alpha=0.5)\n",
    "plt.plot(sol.t,sol.y[1,:],'b.',label='$y_2$',alpha=0.5)\n",
    "plt.plot(np.array([0,L]),np.array([y0,yL]),'.k',markersize=20)\n",
    "plt.legend(loc='best')\n",
    "plt.xlabel(r'$x_i$')\n",
    "plt.grid(True)\n",
    "plt.show()"
   ]
  },
  {
   "cell_type": "markdown",
   "metadata": {},
   "source": [
    "## Second example: Nonlinear BVP\n",
    "\n",
    "\\begin{align*}\n",
    "\ty''(x)+\\left(y'(x)\\right)^2+\\sin(y(x))&=f(x), \\,\\, \\text{para } x\\in]0,L[,\\\\\n",
    "\ty(0)&=u_0,\\\\\n",
    "\ty(L)&=u_L,\n",
    "\\end{align*}"
   ]
  },
  {
   "cell_type": "code",
   "execution_count": 14,
   "metadata": {},
   "outputs": [
    {
     "data": {
      "image/png": "[encoded data removed]",
      "text/plain": [
       "<Figure size 432x288 with 1 Axes>"
      ]
     },
     "metadata": {
      "needs_background": "light"
     },
     "output_type": "display_data"
    }
   ],
   "source": [
    "# RHS of dynamical system\n",
    "def my_f2(t,y,f):\n",
    "    y1 = y[0]\n",
    "    y2 = y[1]\n",
    "    y1dot = y2\n",
    "    y2dot = f(t)-np.power(y2,2.0)-np.sin(y1)\n",
    "    return np.array([y1dot,y2dot])\n",
    "\n",
    "# Function to be used to apply the Shooting Method\n",
    "def F_SM_2(alpha,f,y0,yL,L,N):\n",
    "    t = np.linspace(0,1,N)\n",
    "    initial_condition = np.zeros(2)\n",
    "    initial_condition[0] = y0\n",
    "    initial_condition[1] = alpha\n",
    "    sol = solve_ivp(my_f2,(0,L),initial_condition,t_eval=t,args=(f,))\n",
    "    return sol.y[0,-1]-yL\n",
    "\n",
    "f = lambda x: np.cos(100.*x)\n",
    "\n",
    "# Data definition\n",
    "N=1000\n",
    "L=1.\n",
    "x = np.linspace(0,L,N)\n",
    "y0 = 0.\n",
    "yL = 1.\n",
    "\n",
    "K = 200\n",
    "alphas = np.linspace(-10,10,K)\n",
    "error = np.zeros(K)\n",
    "for k in np.arange(K):\n",
    "    error[k]=F_SM_2(alphas[k],f,y0,yL,L,N)\n",
    "plt.figure()\n",
    "plt.plot(alphas,error,'.')\n",
    "plt.xlabel('alpha')\n",
    "plt.ylabel('Error')\n",
    "plt.grid()\n",
    "plt.show()\n",
    "    "
   ]
  },
  {
   "cell_type": "code",
   "execution_count": 15,
   "metadata": {},
   "outputs": [
    {
     "name": "stdout",
     "output_type": "stream",
     "text": [
      " message: The solution converged.\n",
      " success: True\n",
      "  status: 1\n",
      "     fun: -2.1094237467877974e-15\n",
      "       x: [ 2.118e+00]\n",
      "    nfev: 22\n",
      "    fjac: [[-1.000e+00]]\n",
      "       r: [-4.273e-01]\n",
      "     qtf: [-9.319e-12]\n",
      "alpha_r 2.118062044466436\n"
     ]
    },
    {
     "data": {
      "image/png": "[encoded data removed]",
      "text/plain": [
       "<Figure size 1152x576 with 1 Axes>"
      ]
     },
     "metadata": {
      "needs_background": "light"
     },
     "output_type": "display_data"
    }
   ],
   "source": [
    "F_root_2 = lambda alpha: F_SM_2(alpha,f,y0,yL,L,N)\n",
    "out = root(F_root_2, 0.)\n",
    "print(out)\n",
    "alpha_r = out.x[0]\n",
    "print('alpha_r',alpha_r)\n",
    "\n",
    "sol = solve_ivp(my_f2,(0,L),np.array([y0,alpha_r]),t_eval=x,args=(f,))\n",
    "\n",
    "plt.figure(figsize=(16,8))\n",
    "plt.plot(sol.t,sol.y[0,:],'r.',label='$y_1$',alpha=0.5)\n",
    "plt.plot(sol.t,sol.y[1,:],'b.',label='$y_2$',alpha=0.5)\n",
    "plt.plot(np.array([0,L]),np.array([y0,yL]),'.k',markersize=20)\n",
    "plt.legend(loc='best')\n",
    "plt.xlabel(r'$x_i$')\n",
    "plt.grid(True)\n",
    "plt.show()"
   ]
  },
  {
   "cell_type": "markdown",
   "metadata": {},
   "source": [
    "# Finite Difference Method"
   ]
  },
  {
   "cell_type": "markdown",
   "metadata": {},
   "source": [
    "## First example: Linear BVP\n",
    "\n",
    "\\begin{align*}\n",
    "\ta(x)\\,y''(x)+b(x)\\,y'(x)+c(x)\\,y(x)&=f(x), \\,\\, \\text{para } x\\in]0,L[,\\\\\n",
    "\ty(0)&=u_0,\\\\\n",
    "\ty(L)&=u_L,\n",
    "\\end{align*}"
   ]
  },
  {
   "cell_type": "markdown",
   "metadata": {},
   "source": [
    "Consider that $x_i = i\\,\\frac{L}{N}$ for $i\\,\\{0,1,\\dots,N\\}$, and $y(x_i) \\approx w_i$, where we know that $w_{0}=u_0$ and $w_{N}=u_L$.\n",
    "For simplicity we will consider $\\mathbf{w}=[w_1,w_2,\\dots,w_{N-1}]$.\n",
    "The finite diference discretizations that we will use are the followings:\n",
    "\\begin{align*}\n",
    "    y''(x_i) &\\approx \\dfrac{w_{i+1}-2\\,w_i+w_{i-1}}{h^2},\\\\\n",
    "    y'(x_i)  &\\approx \\dfrac{w_{i+1}-w_{i-1}}{2\\,h}.\n",
    "\\end{align*}\n",
    "Thus, the discrete version of the ode at $x_i$ will be the following:\n",
    "\\begin{align*}\n",
    "    a(x_i)\\,y''(x_i)      &\\approx a(x_i)\\,\\dfrac{w_{i+1}-2\\,w_i+w_{i-1}}{h^2},\\\\\n",
    "    b(x_i)\\,y'(x_i)  &\\approx b(x_i)\\,\\dfrac{w_{i+1}-w_{i-1}}{2\\,h},\\\\\n",
    "    c(x_i)\\,y(x_i)   &\\approx c(x_i)\\,w_i,\\\\\n",
    "    f(x_i)           &\\approx f(x_i).\n",
    "\\end{align*}\n",
    "By using the unknowns vector $\\mathbf{w}$ and the known vector $\\mathbf{x}=[x_1,x_2,\\dots,x_{N-1}]$ we can define the following matrices:\n",
    "\\begin{align*}\n",
    "    D_2 &= \n",
    "    \\begin{bmatrix}\n",
    "        -2 &  1 & 0 & 0 & 0 & 0 & 0 \\\\\n",
    "         1 & -2 & 1 & 0 & 0 & 0 & 0 \\\\\n",
    "         0 &  1 & -2 & 1 & 0 & 0 & 0 \\\\\n",
    "         \\vdots & \\ddots & \\ddots & \\ddots & \\ddots & \\ddots & \\ddots \\\\\n",
    "         0 &  0 & 0 & 0 & 1 & -2 & 1 \\\\\n",
    "         0 &  0 & 0 & 0 & 0 & 1 & -2 \\\\\n",
    "    \\end{bmatrix},\\\\\n",
    "    D  &= \n",
    "    \\begin{bmatrix}\n",
    "         0 & 1 & 0 & 0 & 0 & 0 & 0 \\\\\n",
    "         -1 & 0 & 1 & 0 & 0 & 0 & 0 \\\\\n",
    "         0 &  -1 & 0 & 1 & 0 & 0 & 0 \\\\\n",
    "         \\vdots & \\ddots & \\ddots & \\ddots & \\ddots & \\ddots & \\ddots \\\\\n",
    "         0 &  0 & 0 & 0 & -1 & 0 & 1 \\\\\n",
    "         0 &  0 & 0 & 0 & 0 & -1 & 0 \\\\\n",
    "    \\end{bmatrix}.\\\\\n",
    "\\end{align*}"
   ]
  },
  {
   "cell_type": "code",
   "execution_count": 9,
   "metadata": {},
   "outputs": [
    {
     "name": "stdout",
     "output_type": "stream",
     "text": [
      "D: \n",
      " [[ 0.  1.  0.  0.  0.]\n",
      " [-1.  0.  1.  0.  0.]\n",
      " [ 0. -1.  0.  1.  0.]\n",
      " [ 0.  0. -1.  0.  1.]\n",
      " [ 0.  0.  0. -1.  0.]]\n",
      "D2: \n",
      " [[-2.  1.  0.  0.  0.]\n",
      " [ 1. -2.  1.  0.  0.]\n",
      " [ 0.  1. -2.  1.  0.]\n",
      " [ 0.  0.  1. -2.  1.]\n",
      " [ 0.  0.  0.  1. -2.]]\n",
      "Dt: \n",
      " [[-1.  0.  1.  0.  0.  0.  0.]\n",
      " [ 0. -1.  0.  1.  0.  0.  0.]\n",
      " [ 0.  0. -1.  0.  1.  0.  0.]\n",
      " [ 0.  0.  0. -1.  0.  1.  0.]\n",
      " [ 0.  0.  0.  0. -1.  0.  1.]]\n",
      "D2t: \n",
      " [[ 1. -2.  1.  0.  0.  0.  0.]\n",
      " [ 0.  1. -2.  1.  0.  0.  0.]\n",
      " [ 0.  0.  1. -2.  1.  0.  0.]\n",
      " [ 0.  0.  0.  1. -2.  1.  0.]\n",
      " [ 0.  0.  0.  0.  1. -2.  1.]]\n"
     ]
    }
   ],
   "source": [
    "# This function builds the h-less differentiation matrices for\n",
    "# the approximation of the first and second derivatives.\n",
    "# h-less means that it still needs to add the corresponding\n",
    "# h coefficient in the approximation.\n",
    "def build_D_D2_and_Dt_D2t(M):\n",
    "    # First derivative - Central difference differentiation matrix\n",
    "    D  = toeplitz(np.append(np.array([0, -1.]), np.zeros(M-2)), \n",
    "                     np.append(np.array([0, 1.]), np.zeros(M-2)))\n",
    "    Dt = toeplitz(np.append(np.array([-1.]), np.zeros(M-1)),np.append(np.array([-1,0, 1.]), np.zeros(M-1))) \n",
    "    # Second derivative - differentiation matrix\n",
    "    D2 = toeplitz(np.append(np.array([-2, 1.]), np.zeros(M-2)))\n",
    "    D2t = toeplitz(np.append(np.array([1.]), np.zeros(M-1)),np.append(np.array([1,-2, 1.]), np.zeros(M-1)))\n",
    "    return D, D2, Dt, D2t\n",
    "D , D2, Dt, D2t = build_D_D2_and_Dt_D2t(5)\n",
    "print('D: \\n', D)\n",
    "print('D2: \\n', D2)\n",
    "print('Dt: \\n', Dt)\n",
    "print('D2t: \\n', D2t)"
   ]
  },
  {
   "cell_type": "markdown",
   "metadata": {},
   "source": [
    "The discrete equation at $x_i$ is the following:\n",
    "\\begin{equation*}\n",
    "    \\dfrac{a(x_i)}{h^2} \\left(w_{i+1}-2\\,w_i+w_{i-1}\\right)\n",
    "    +\n",
    "    \\dfrac{b(x_i)}{2\\,h} \\left(w_{i+1}-w_{i-1}\\right)\n",
    "    +\n",
    "    c(x_i)\\,w_i\n",
    "    =\n",
    "    f(x_i).\n",
    "\\end{equation*}\n",
    "There are two special cases, for $x_1$ and $x_{N-1}$, they generate the following equations:\n",
    "\\begin{align*}\n",
    "    \\dfrac{a(x_1)}{h^2} \\left(w_{2}-2\\,w_1+w_0\\right)\n",
    "    +\n",
    "    \\dfrac{b(x_1)}{2\\,h} \\left(w_{2}-w_0\\right)\n",
    "    +\n",
    "    c(x_1)\\,w_1\n",
    "    &=\n",
    "    f(x_1),\\\\\n",
    "    \\dfrac{a(x_{N-1})}{h^2} \\left(w_{N}-2\\,w_{N-1}+w_{N-2}\\right)\n",
    "    +\n",
    "    \\dfrac{b(x_{N-1})}{2\\,h} \\left(w_{N}-w_{N-2}\\right)\n",
    "    +\n",
    "    c(x_{N-1})\\,w_{N-1}\n",
    "    &=\n",
    "    f(x_{N-1}).\n",
    "\\end{align*}\n",
    "But, since we know $w_0$ and $w_{N}$, they become,\n",
    "\\begin{align*}\n",
    "    \\dfrac{a(x_1)}{h^2} \\left(w_{2}-2\\,w_1\\right)\n",
    "    +\n",
    "    \\dfrac{b(x_1)}{2\\,h} w_{2}\n",
    "    +\n",
    "    c(x_1)\\,w_1\n",
    "    &=\n",
    "    f(x_1)-\\dfrac{a(x_1)}{h^2} w_0+\\dfrac{b(x_0)}{2\\,h}\\,w_0,\\\\\n",
    "    \\dfrac{a(x_{N-1})}{h^2} \\left(-2\\,w_{N-1}+w_{N-2}\\right)\n",
    "    +\n",
    "    \\dfrac{b(x_{N-1})}{2\\,h} \\left(-w_{N-2}\\right)\n",
    "    +\n",
    "    c(x_{N-1})\\,w_{N-1}\n",
    "    &=\n",
    "    f(x_{N-1})-\\dfrac{a(x_{N-1})}{h^2}\\,w_{N}-\\dfrac{b(x_{N-1})}{2\\,h}\\,w_{N}.\n",
    "\\end{align*}\n",
    "This analysis allows us to write the discrete equation in the following way for the unknown vector $\\mathbf{w}=[w_1,w_2,\\dots,w_{N-1}]$ and $\\mathbf{x}=[x_1,x_2,\\dots,x_{N-1}]$:\n",
    "\\begin{equation*}\n",
    "    \\dfrac{1}{h^2}\\,\\text{diag}(a(\\mathbf{x}))\\,D_2\\,\\mathbf{w}\n",
    "    +\n",
    "    \\dfrac{1}{2\\,h}\\,\\text{diag}(b(\\mathbf{x}))\\,D\\,\\mathbf{w}\n",
    "    +\n",
    "    \\text{diag}(c(\\mathbf{x}))\\,\\mathbf{w}\n",
    "    =\n",
    "    \\begin{bmatrix}\n",
    "        f(x_1)-\\dfrac{a(x_1)}{h^2} w_0+\\dfrac{b(x_1)}{2\\,h}\\,w_0\\\\\n",
    "        f(x_2)\\\\\n",
    "        \\vdots\\\\\n",
    "        f(x_{N-2})\\\\\n",
    "        f(x_{N-1})-\\dfrac{a(x_{N-1})}{h^2}\\,w_{N}-\\dfrac{b(x_{N-1})}{2\\,h}\\,w_{N}\n",
    "    \\end{bmatrix},\n",
    "\\end{equation*}\n",
    "but since $w_0=u_0$ and $w_{N}=u_L$ we get,\n",
    "\\begin{equation*}\n",
    "    \\dfrac{1}{h^2}\\,\\text{diag}(a(\\mathbf{x}))\\,D_2\\,\\mathbf{w}\n",
    "    +\n",
    "    \\dfrac{1}{2\\,h}\\,\\text{diag}(b(\\mathbf{x}))\\,D\\,\\mathbf{w}\n",
    "    +\n",
    "    \\text{diag}(c(\\mathbf{x}))\\,\\mathbf{w}\n",
    "    =\n",
    "    \\begin{bmatrix}\n",
    "        f(x_1)-\\dfrac{a(x_1)}{h^2} u_0+\\dfrac{b(x_1)}{2\\,h}\\,u_0\\\\\n",
    "        f(x_2)\\\\\n",
    "        \\vdots\\\\\n",
    "        f(x_{N-2})\\\\\n",
    "        f(x_{N-1})-\\dfrac{a(x_{N-1})}{h^2}\\,u_L-\\dfrac{b(x_{N-1})}{2\\,h}\\,u_L\n",
    "    \\end{bmatrix},\n",
    "\\end{equation*}\n",
    "Factoring out the unknown vector $\\mathbf{w}$ we obtain,\n",
    "\\begin{align*}\n",
    "    \\underbrace{\\left(\\dfrac{1}{h^2}\\,\\text{diag}(a(\\mathbf{x}))\\,D_2\n",
    "    +\n",
    "    \\dfrac{1}{2\\,h}\\,\\text{diag}(b(\\mathbf{x}))\\,D\n",
    "    +\n",
    "    \\text{diag}(c(\\mathbf{x}))\\right)}_{\\displaystyle{A_N}}\\,\\mathbf{w}\n",
    "    &=\\mathbf{b}_N.\n",
    "\\end{align*}\n",
    "Thus, we only need to solve now the linear system of equations $A_N\\,\\mathbf{w}=\\mathbf{b}$ and we are done!\n",
    "Notice that the sub-index in $A_N$ is just to indicate we have a discretization with $N$ points.\n",
    "\n",
    "**Notice that we moved from the discrete equations \n",
    "$\\dfrac{a(x_i)}{h^2} \\left(w_{i+1}-2\\,w_i+w_{i-1}\\right)+\n",
    "    \\dfrac{b(x_i)}{2\\,h} \\left(w_{i+1}-w_{i-1}\\right)\n",
    "    +\n",
    "    c(x_i)\\,w_i\n",
    "    =\n",
    "    f(x_i)$  to the matrix equations $\\dfrac{1}{h^2}\\,\\text{diag}(a(\\mathbf{x}))\\,D_2\\,\\mathbf{w}\n",
    "    +\n",
    "    \\dfrac{1}{2\\,h}\\,\\text{diag}(b(\\mathbf{x}))\\,D\\,\\mathbf{w}\n",
    "    +\n",
    "    \\text{diag}(c(\\mathbf{x}))\\,\\mathbf{w}\n",
    "    =\\mathbf{b}_N$, however it is recommended to perform this step, at least for an small problem, manually so it can be understood better. Thus we encourage to do this, for instance for $N=7$.**"
   ]
  },
  {
   "cell_type": "code",
   "execution_count": 10,
   "id": "12e5317d",
   "metadata": {},
   "outputs": [],
   "source": [
    "# Data definition\n",
    "a = lambda x: np.power(x,2.)+1.\n",
    "b = lambda x: x\n",
    "c = lambda x: np.sin(10.*x)\n",
    "f = lambda x: np.cos(x)\n",
    "\n",
    "# Data definition\n",
    "N=100\n",
    "L=10\n",
    "x = np.linspace(0,L,N)\n",
    "h = x[1]-x[0]\n",
    "y0 = 0.\n",
    "yL = 1."
   ]
  },
  {
   "cell_type": "code",
   "execution_count": 11,
   "metadata": {},
   "outputs": [
    {
     "data": {
      "image/png": "[encoded data removed]",
      "text/plain": [
       "<Figure size 1152x576 with 1 Axes>"
      ]
     },
     "metadata": {
      "needs_background": "light"
     },
     "output_type": "display_data"
    }
   ],
   "source": [
    "def build_A_and_b(a,b,c,f,h,x,y0,yL,N):\n",
    "    D, D2, _, _ = build_D_D2_and_Dt_D2t(N-2)\n",
    "    x_interior = x[1:-1]\n",
    "    A_N=(1./(h**2))*np.dot(np.diag(a(x_interior)),D2)+(1./(2*h))*np.dot(np.diag(b(x_interior)),D)+np.diag(c(x_interior))\n",
    "    b_N = f(x_interior)\n",
    "    b_N[0] = b_N[0]-(a(x_interior[0])/(h**2))*y0+(b(x_interior[0])/(2*h))*y0\n",
    "    b_N[-1] = b_N[-1]-(a(x_interior[-1])/(h**2))*yL-(b(x_interior[-1])/(2*h))*yL\n",
    "    return A_N, b_N\n",
    "\n",
    "A_N, b_N = build_A_and_b(a,b,c,f,h,x,y0,yL,N)\n",
    "w = np.linalg.solve(A_N,b_N)\n",
    "w = np.append(y0,w)\n",
    "w = np.append(w,yL)\n",
    "\n",
    "plt.figure(figsize=(16,8))\n",
    "plt.plot(x,w,'.',label=r'$w_i$')\n",
    "plt.xlabel(r'$x_i$')\n",
    "plt.grid(True)\n",
    "plt.legend(loc='best')\n",
    "plt.show()"
   ]
  },
  {
   "cell_type": "markdown",
   "metadata": {},
   "source": [
    "## Second example: Nonlinear BVP\n",
    "\n",
    "\\begin{align*}\n",
    "\ty''(x)+\\left(y'(x)\\right)^2+\\sin(y(x))&=f(x), \\,\\, \\text{para } x\\in]0,L[,\\\\\n",
    "\ty(0)&=u_0,\\\\\n",
    "\ty(L)&=u_L,\n",
    "\\end{align*}"
   ]
  },
  {
   "attachments": {},
   "cell_type": "markdown",
   "id": "b92c7cc3",
   "metadata": {},
   "source": [
    "In this case we will re-use $D_2$ from the previous analysis, so the discrete equation becomes:\n",
    "The discrete equation at $x_i$ is the following:\n",
    "\\begin{equation*}\n",
    "    \\dfrac{1}{h^2} \\left(w_{i+1}-2\\,w_i+w_{i-1}\\right)\n",
    "    +\n",
    "    \\left(\\dfrac{w_{i+1}-w_{i-1}}{2\\,h}\\right)^2\n",
    "    +\n",
    "    \\sin(w_i)\n",
    "    =\n",
    "    f(x_i).\n",
    "\\end{equation*}\n",
    "There are two special cases, for $x_1$ and $x_{N-1}$, they generate the following equations:\n",
    "\\begin{align*}\n",
    "    \\dfrac{1}{h^2} \\left(w_{2}-2\\,w_1+w_{0}\\right)\n",
    "    +\n",
    "    \\left(\\dfrac{w_{2}-w_{0}}{2\\,h}\\right)^2\n",
    "    +\n",
    "    \\sin(w_1)\n",
    "    &=\n",
    "    f(x_2).\\\\\n",
    "    \\dfrac{1}{h^2} \\left(w_{N}-2\\,w_{N-1}+w_{N-2}\\right)\n",
    "    +\n",
    "    \\left(\\dfrac{w_{N}-w_{N-2}}{2\\,h}\\right)^2\n",
    "    +\n",
    "    \\sin(w_{N-1})\n",
    "    &=\n",
    "    f(x_{N-1}).\n",
    "\\end{align*}\n",
    "But, since we know $w_0$ and $w_{N}$, they become,\n",
    "\\begin{align*}\n",
    "    \\dfrac{1}{h^2} \\left(w_{2}-2\\,w_1\\right)\n",
    "    +\n",
    "    \\left(\\dfrac{w_{2}-w_{0}}{2\\,h}\\right)^2\n",
    "    +\n",
    "    \\sin(w_1)\n",
    "    &=\n",
    "    f(x_2)-\\dfrac{w_0}{h^2},\\\\\n",
    "    \\dfrac{1}{h^2} \\left(w_{2}-2\\,w_1\\right)\n",
    "    +\n",
    "    \\dfrac{w_{2}^2-2\\,w_{2}\\,w_{0}+w_{0}^2}{4\\,h^2}\n",
    "    +\n",
    "    \\sin(w_1)\n",
    "    &=\n",
    "    f(x_2)-\\dfrac{w_0}{h^2},\\\\\n",
    "    \\dfrac{1}{h^2} \\left(w_{2}-2\\,w_1\\right)\n",
    "    +\n",
    "    \\dfrac{w_{2}^2-2\\,w_{2}\\,w_{0}}{4\\,h^2}\n",
    "    +\n",
    "    \\sin(w_1)\n",
    "    &=\n",
    "    f(x_2)-\\dfrac{w_0}{h^2}-\\dfrac{w_{0}^2}{4\\,h^2}.\n",
    "\\end{align*}\n",
    "and\n",
    "\\begin{align*} \n",
    "    \\dfrac{1}{h^2} \\left(w_{N}-2\\,w_{N-1}+w_{N-2}\\right)\n",
    "    +\n",
    "    \\left(\\dfrac{w_{N}-w_{N-2}}{2\\,h}\\right)^2\n",
    "    +\n",
    "    \\sin(w_{N-1})\n",
    "    &=\n",
    "    f(x_{N-1}),\\\\\n",
    "    \\dfrac{1}{h^2} \\left(w_{N}-2\\,w_{N-1}+w_{N-2}\\right)\n",
    "    +\n",
    "    \\dfrac{w_{N}^2-2\\,w_{N}\\,w_{N-2}+w_{N-2}^2}{4\\,h^2}\n",
    "    +\n",
    "    \\sin(w_{N-1})\n",
    "    &=\n",
    "    f(x_{N-1})\\\\\n",
    "    \\dfrac{1}{h^2} \\left(-2\\,w_{N-1}+w_{N-2}\\right)\n",
    "    +\n",
    "    \\dfrac{-2\\,w_{N}\\,w_{N-2}+w_{N-2}^2}{4\\,h^2}\n",
    "    +\n",
    "    \\sin(w_{N-1})\n",
    "    &=\n",
    "    f(x_{N-1})-\\dfrac{w_{N}}{h^2}-\\dfrac{w_{N}^2}{4\\,h^2}\n",
    "\\end{align*}\n",
    "This analysis allows us to write the discrete equation in the following way for the unknown vector $\\mathbf{w}=[w_1,w_2,\\dots,w_{N-1}]$ and $\\mathbf{x}=[x_1,x_2,\\dots,x_{N-1}]$:\n",
    "\\begin{equation*}\n",
    "    \\dfrac{1}{h^2}\\,\\widehat{D}_2\\,\\widehat{\\mathbf{w}}\n",
    "    +\n",
    "    \\dfrac{1}{4\\,h^2}\\,\\left(\\widehat{D}\\,\\widehat{\\mathbf{w}}\\right)^2\n",
    "    +\n",
    "    \\sin(\\mathbf{w})\n",
    "    =\n",
    "    f(\\mathbf{x}).\n",
    "\\end{equation*}\n",
    "In this case we can't factor out the unknown vector $\\mathbf{w}$ since it is not a linear problem.\n",
    "We need to ask for help to _Sir Isaac Newton_ and to _Professor Aleksey Nikolaevich Krylov_!\n",
    "For simplicity we will build $\\mathbf{F}(\\mathbf{w})$, i.e. the high dimensional function that we need to find the root.\n",
    "\\begin{equation*}\n",
    "    \\mathbf{F}(\\mathbf{w})=\n",
    "    \\dfrac{1}{h^2}\\,\\widehat{D}_2\\,\\widehat{\\mathbf{w}}\n",
    "    +\n",
    "    \\dfrac{1}{4\\,h^2}\\,\\left(\\widehat{D}\\,\\widehat{\\mathbf{w}}\\right)^2\n",
    "    +\n",
    "    \\sin(\\mathbf{w})\n",
    "    -\n",
    "    f(\\mathbf{x})\n",
    "\\end{equation*}\n",
    "To solve this equation we will use _newton_krylov_!"
   ]
  },
  {
   "cell_type": "code",
   "execution_count": 16,
   "metadata": {},
   "outputs": [],
   "source": [
    "f = lambda x: np.cos(100.*x)\n",
    "\n",
    "# Data definition\n",
    "N=100\n",
    "L=1.\n",
    "x = np.linspace(0,L,N)\n",
    "h = x[1]-x[0]\n",
    "y0 = 0.\n",
    "yL = 1."
   ]
  },
  {
   "cell_type": "code",
   "execution_count": 18,
   "id": "a1d815a7",
   "metadata": {},
   "outputs": [
    {
     "data": {
      "image/png": "[encoded data removed]",
      "text/plain": [
       "<Figure size 1152x576 with 1 Axes>"
      ]
     },
     "metadata": {
      "needs_background": "light"
     },
     "output_type": "display_data"
    }
   ],
   "source": [
    "D, D2, Dt, D2t = build_D_D2_and_Dt_D2t(N-2)\n",
    "def F(w):\n",
    "    wt = np.concatenate(([y0], w, [yL]), axis=0)\n",
    "    return np.dot(D2t,wt)/(h**2)+np.power(np.dot(Dt,wt),2.0)/(4*(h**2))+np.sin(w)-f(x[1:-1])\n",
    "\n",
    "w0 = lambda m: m*(x[1:-1]-np.power(x[1:-1],2))\n",
    "# First solution\n",
    "w = newton_krylov(F,w0(0))\n",
    "w = np.concatenate(([y0],w, [yL]),axis=0)\n",
    "\n",
    "\n",
    "plt.figure(figsize=(16,8))\n",
    "plt.plot(x,w,'.',label=r'$w$')\n",
    "plt.legend(loc='best')\n",
    "plt.xlabel(r'$x_i$')\n",
    "plt.grid(True)\n",
    "plt.show()"
   ]
  },
  {
   "attachments": {},
   "cell_type": "markdown",
   "id": "0ea2349e",
   "metadata": {},
   "source": [
    "<div id='acknowledgements' />\n",
    "\n",
    "# Acknowledgements\n",
    "[Back to toc](#toc)\n",
    "\n",
    "* _Material originally created by professor Claudio Torres_ (`ctorres@inf.utfsm.cl`) _. DI UTFSM. November 2023._"
   ]
  },
  {
   "cell_type": "code",
   "execution_count": null,
   "id": "03bd6b26",
   "metadata": {},
   "outputs": [],
   "source": []
  }
 ],
 "metadata": {
  "kernelspec": {
   "display_name": "Python 3.9.12 ('base')",
   "language": "python",
   "name": "python3"
  },
  "language_info": {
   "codemirror_mode": {
    "name": "ipython",
    "version": 3
   },
   "file_extension": ".py",
   "mimetype": "text/x-python",
   "name": "python",
   "nbconvert_exporter": "python",
   "pygments_lexer": "ipython3",
   "version": "3.10.9"
  },
  "vscode": {
   "interpreter": {
    "hash": "be29b946057c80ffef9af054603c17eefe4352d2c0caf18ac01a8c63bdfe4f5b"
   }
  }
 },
 "nbformat": 4,
 "nbformat_minor": 5
}
